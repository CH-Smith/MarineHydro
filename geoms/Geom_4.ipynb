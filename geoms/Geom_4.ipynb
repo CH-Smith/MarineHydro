{
 "cells": [
  {
   "cell_type": "markdown",
   "metadata": {},
   "source": [
    "# Mystery Geometry #4"
   ]
  },
  {
   "cell_type": "markdown",
   "metadata": {},
   "source": [
    "## Cambered Jukowski foil\n",
    "\n",
    "The geometry is the Jukowski foil with camber. You will use the height of the mean line of the geometry at $x=0$ to quantify the amount of camber: $$\\bar y = \\frac 12 (y[N/4]+y[3N/4])$$ where `y` is the array of points defining the vertical coordinate of the foil.\n",
    "\n",
    "---\n",
    "\n",
    "##### Assignment\n",
    "\n",
    "Compute the lift force coefficient $C_L$ and boundary layer separation point locations for $\\bar y/c = 0.02,0.04,0.08$ at $\\alpha=0$ using $N=128$ panels, and compare to the symmetric foil solution. "
   ]
  }
 ],
 "metadata": {
  "kernelspec": {
   "display_name": "Python 2",
   "language": "python",
   "name": "python2"
  },
  "language_info": {
   "codemirror_mode": {
    "name": "ipython",
    "version": 2
   },
   "file_extension": ".py",
   "mimetype": "text/x-python",
   "name": "python",
   "nbconvert_exporter": "python",
   "pygments_lexer": "ipython2",
   "version": "2.7.10"
  }
 },
 "nbformat": 4,
 "nbformat_minor": 0
}
