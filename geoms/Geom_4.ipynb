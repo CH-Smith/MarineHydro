{
 "cells": [
  {
   "cell_type": "markdown",
   "metadata": {},
   "source": [
    "## Project 4: Wing mast\n",
    "\n",
    "#### 2D analysis of a truncated wing mast\n",
    "\n",
    "![Truncated foil section](wingmast.png)\n",
    "\n",
    "---\n",
    "\n",
    "##### Geometry\n",
    "\n",
    "The mast will be modelled as a foil section originally of length $c$ with the trailing edge truncated by a length $p$. The new length is $c'=c-p$ and the resulting width at the point of truncation is $w$. You can choose one of the foil sections we looked at in the module or find an alternative in the literature (some level of approximation in that case is fine). The thickness is $t=0.15 c$.\n",
    "\n",
    "##### Parametric study \n",
    "\n",
    "You will study the impact of the cut-off length $p$ versus the original length $c$ at $\\alpha=0,\\pi/32,\\pi/32$. Use as many values as you need to identify the trends in the range $0\\le p/c\\le 0.75$.\n",
    "\n",
    "##### Performance metrics\n",
    "\n",
    "Predict the total lift and drag on the mast and the point of separation $x/c$ on the top and bottom surfaces over the parameter range. Try plotting the forces both $p/c$ and $w/c'$. Use $n=128$ and the second order panels and include an image of the panels and end points.\n",
    "\n",
    "##### Discussion\n",
    "\n",
    "Discuss how you could use your results to determine the optimal values of $p$ and $c$ for a given a minimum truncation width $w$ required for the sheet track. Discuss the advantages and limitations of this analysis. "
   ]
  }
 ],
 "metadata": {
  "kernelspec": {
   "display_name": "Python 2",
   "language": "python",
   "name": "python2"
  },
  "language_info": {
   "codemirror_mode": {
    "name": "ipython",
    "version": 2
   },
   "file_extension": ".py",
   "mimetype": "text/x-python",
   "name": "python",
   "nbconvert_exporter": "python",
   "pygments_lexer": "ipython2",
   "version": "2.7.10"
  }
 },
 "nbformat": 4,
 "nbformat_minor": 0
}
