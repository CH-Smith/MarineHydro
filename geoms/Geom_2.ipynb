{
 "cells": [
  {
   "cell_type": "markdown",
   "metadata": {},
   "source": [
    "# Mystery Geometry #2"
   ]
  },
  {
   "cell_type": "markdown",
   "metadata": {},
   "source": [
    "## Point-forward Wedge\n",
    "\n",
    "The geometry is a wedge with the point facing forward into the flow and with tip-to-tail distance $c$ and thickness $t$. You can alter the polynomial equation from the `Vortex Panel Method` notebook, or write your own routine to define the geometry. \n",
    "\n",
    "---\n",
    "\n",
    "##### Assignment\n",
    "\n",
    "Compute the friction drag coefficients $C_F$ for $t/c=1,1/2,1/4,1/8$ using $N=128$ panels, and compare to the flat plate solution. Discuss where the flow will separate. "
   ]
  }
 ],
 "metadata": {
  "kernelspec": {
   "display_name": "Python 2",
   "language": "python",
   "name": "python2"
  },
  "language_info": {
   "codemirror_mode": {
    "name": "ipython",
    "version": 2
   },
   "file_extension": ".py",
   "mimetype": "text/x-python",
   "name": "python",
   "nbconvert_exporter": "python",
   "pygments_lexer": "ipython2",
   "version": "2.7.10"
  }
 },
 "nbformat": 4,
 "nbformat_minor": 0
}
