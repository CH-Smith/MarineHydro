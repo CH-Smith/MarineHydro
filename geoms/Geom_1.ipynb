{
 "cells": [
  {
   "cell_type": "markdown",
   "metadata": {},
   "source": [
    "## Project 1: Propeller duct\n",
    "\n",
    "#### 2D analysis of a conceptual propeller duct\n",
    "\n",
    "![Don't worry about the text on this](ducts.png)\n",
    "\n",
    "---\n",
    "\n",
    "##### Geometry\n",
    "\n",
    "The duct will be modelled in 2D as two mirror-image sections (colored grey in the figure above). You can choose one of the foil sections we looked at in the module or find an alternative in the literature (some level of approximation in that case is fine).\n",
    "\n",
    "##### Parametric study \n",
    "\n",
    "You will study the impact of the duct 'diameter' $d$ versus chord $c$ while keeping the section properties fixed. (Since this is 2D, it is realy the section spacing versus the chord.) Use as many values as you need to identify the trends in the range $5\\le d/c\\le 1$. \n",
    "\n",
    "##### Performance metrics\n",
    "\n",
    "Predict the total drag on the duct, the maximum induced velocity inside the duct, and the point of separation $x/c$ on the inside and outside surfaces over the parameter range. Use $n=128$ and the second order panels and include an image of the panels and end points.\n",
    "\n",
    "##### Discussion\n",
    "\n",
    "The induced velocity increases the thrust of the propeller. Discuss how you could use your results to determine the optimal $d/c$ for the duct given a particular propeller. Discuss the advantages and limitations of this analysis. "
   ]
  }
 ],
 "metadata": {
  "kernelspec": {
   "display_name": "Python 2",
   "language": "python",
   "name": "python2"
  },
  "language_info": {
   "codemirror_mode": {
    "name": "ipython",
    "version": 2
   },
   "file_extension": ".py",
   "mimetype": "text/x-python",
   "name": "python",
   "nbconvert_exporter": "python",
   "pygments_lexer": "ipython2",
   "version": "2.7.10"
  }
 },
 "nbformat": 4,
 "nbformat_minor": 0
}
