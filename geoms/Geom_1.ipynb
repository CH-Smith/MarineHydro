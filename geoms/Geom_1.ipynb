{
 "cells": [
  {
   "cell_type": "markdown",
   "metadata": {},
   "source": [
    "# Mystery Geometry #1"
   ]
  },
  {
   "cell_type": "markdown",
   "metadata": {},
   "source": [
    "## NACA 0015 foil\n",
    "\n",
    "The geometry is a NACA0015 foil section, with a shape [described by the equation](http://en.wikipedia.org/wiki/NACA_airfoil#Equation_for_a_symmetrical_4-digit_NACA_airfoil) :"
   ]
  },
  {
   "cell_type": "code",
   "execution_count": 1,
   "metadata": {
    "collapsed": false
   },
   "outputs": [],
   "source": [
    "def naca_offset(x): \n",
    "    return 5*0.15*(0.2969*numpy.sqrt(x)-0.1260*x-0.3516*x**2+0.2843*x**3-0.1036*x**4)"
   ]
  },
  {
   "cell_type": "markdown",
   "metadata": {},
   "source": [
    "This lets us define points on the geometry as:"
   ]
  },
  {
   "cell_type": "code",
   "execution_count": 2,
   "metadata": {
    "collapsed": false
   },
   "outputs": [
    {
     "name": "stdout",
     "output_type": "stream",
     "text": [
      "  x  ,   y\n",
      "1.000, -0.000\n",
      "0.976, -0.004\n",
      "0.905, -0.016\n",
      "0.794, -0.033\n",
      "0.655, -0.051\n",
      "0.500, -0.066\n",
      "0.345, -0.074\n",
      "0.206, -0.072\n",
      "0.095, -0.058\n",
      "0.024, -0.032\n",
      "0.000, -0.000\n",
      "0.024,  0.032\n",
      "0.095,  0.058\n",
      "0.206,  0.072\n",
      "0.345,  0.074\n",
      "0.500,  0.066\n",
      "0.655,  0.051\n",
      "0.794,  0.033\n",
      "0.905,  0.016\n",
      "0.976,  0.004\n",
      "1.000, -0.000\n"
     ]
    }
   ],
   "source": [
    "import numpy\n",
    "N = 20\n",
    "theta = numpy.linspace(0,-2.*numpy.pi,N+1)\n",
    "x = (numpy.cos(theta)+1)/2.\n",
    "y = naca_offset(x)*numpy.sign(numpy.sin(theta))\n",
    "print '  x  ,   y'\n",
    "for i in range(N+1): print '%5.3f'%x[i]+', '+'%6.3f'%y[i]"
   ]
  },
  {
   "cell_type": "markdown",
   "metadata": {},
   "source": [
    "where $x=0$ is the leading edge, and $x=1$ is the trailing edge.\n",
    "\n",
    "---\n",
    "\n",
    "##### Assignment\n",
    "\n",
    "Compute the location of the separation points for $\\alpha\\le 10^0$ using $N=128$ panels, and compare to the $t/c=0.15$ jukowski foil results. "
   ]
  }
 ],
 "metadata": {
  "kernelspec": {
   "display_name": "Python 2",
   "language": "python",
   "name": "python2"
  },
  "language_info": {
   "codemirror_mode": {
    "name": "ipython",
    "version": 2
   },
   "file_extension": ".py",
   "mimetype": "text/x-python",
   "name": "python",
   "nbconvert_exporter": "python",
   "pygments_lexer": "ipython2",
   "version": "2.7.10"
  }
 },
 "nbformat": 4,
 "nbformat_minor": 0
}
