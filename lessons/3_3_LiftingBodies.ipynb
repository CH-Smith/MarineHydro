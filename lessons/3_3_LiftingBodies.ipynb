{
 "cells": [
  {
   "cell_type": "code",
   "execution_count": 1,
   "metadata": {
    "collapsed": false
   },
   "outputs": [
    {
     "data": {
      "text/html": [
       "<link href='http://fonts.googleapis.com/css?family=Fenix' rel='stylesheet' type='text/css'>\n",
       "<link href='http://fonts.googleapis.com/css?family=Alegreya+Sans:100,300,400,500,700,800,900,100italic,300italic,400italic,500italic,700italic,800italic,900italic' rel='stylesheet' type='text/css'>\n",
       "<link href='http://fonts.googleapis.com/css?family=Source+Code+Pro:300,400' rel='stylesheet' type='text/css'>\n",
       "<style>\n",
       "    @font-face {\n",
       "        font-family: \"Computer Modern\";\n",
       "        src: url('http://mirrors.ctan.org/fonts/cm-unicode/fonts/otf/cmunss.otf');\n",
       "    }\n",
       "    h1 {\n",
       "        font-family: 'Alegreya Sans', sans-serif;\n",
       "    }\n",
       "    h2 {\n",
       "        font-family: 'Fenix', serif;\n",
       "    }\n",
       "    h3{\n",
       "\t\tfont-family: 'Fenix', serif;\n",
       "        margin-top:12px;\n",
       "        margin-bottom: 3px;\n",
       "       }\n",
       "\th4{\n",
       "\t\tfont-family: 'Fenix', serif;\n",
       "       }\n",
       "    h5 {\n",
       "        font-family: 'Alegreya Sans', sans-serif;\n",
       "    }\n",
       "/*    .CodeMirror{\n",
       "            font-family: \"Source Code Pro\";\n",
       "\t\t\tfont-size: 90%;\n",
       "    }*/\n",
       "/*    .prompt{\n",
       "        display: None;\n",
       "    }*/\n",
       "    .text_cell_render h1 {\n",
       "        font-weight: 200;\n",
       "        font-size: 50pt;\n",
       "\t\tline-height: 100%;\n",
       "        color:#CD2305;\n",
       "        margin-bottom: 0.5em;\n",
       "        margin-top: 0.5em;\n",
       "        display: block;\n",
       "    }\n",
       "    .text_cell_render h5 {\n",
       "        font-weight: 300;\n",
       "        font-size: 16pt;\n",
       "        color: #CD2305;\n",
       "        font-style: italic;\n",
       "        margin-bottom: .5em;\n",
       "        margin-top: 0.5em;\n",
       "        display: block;\n",
       "    }\n",
       "\n",
       "    .warning{\n",
       "        color: rgb( 240, 20, 20 )\n",
       "        }\n",
       "</style>\n",
       "<style>\n",
       "  img[alt=short] { height: 200px; }\n",
       "  img[alt=medium] { height: 300px; }\n",
       "</style>\n",
       "<script>\n",
       "    MathJax.Hub.Config({\n",
       "                        TeX: {\n",
       "                           extensions: [\"AMSmath.js\"],\n",
       "                           equationNumbers: { autoNumber: \"AMS\", useLabelIds: true}\n",
       "                           },\n",
       "                tex2jax: {\n",
       "                    inlineMath: [ ['$','$'], [\"\\\\(\",\"\\\\)\"] ],\n",
       "                    displayMath: [ ['$$','$$'], [\"\\\\[\",\"\\\\]\"] ]\n",
       "                },\n",
       "                displayAlign: 'center', // Change this to 'center' to center equations.\n",
       "                \"HTML-CSS\": {\n",
       "                    styles: {'.MathJax_Display': {\"margin\": 4}}\n",
       "                }\n",
       "        });\n",
       "</script>\n"
      ],
      "text/plain": [
       "<IPython.core.display.HTML object>"
      ]
     },
     "execution_count": 1,
     "metadata": {},
     "output_type": "execute_result"
    }
   ],
   "source": [
    "from IPython.core.display import HTML\n",
    "def css_styling():\n",
    "    styles = open('../styles/custom.css', 'r').read()\n",
    "    return HTML(styles)\n",
    "css_styling()"
   ]
  },
  {
   "cell_type": "markdown",
   "metadata": {},
   "source": [
    "# Lifting bodies\n",
    "\n",
    "This section will modify the vortex panel method to enable the prediction of lift on wing sections."
   ]
  },
  {
   "cell_type": "markdown",
   "metadata": {},
   "source": [
    "## Foil section geometry\n",
    "\n",
    "To find the lift on a foil, we first need to define the geometry. Let's use a symmetric Jukowski foil for now. This foil shape is obtained by applying the following mapping\n",
    "\n",
    "$$ x' = \\frac x2 (1+1/r^2), \\quad y' = \\frac y2 (1-1/r^2),\\quad r^2= x^2+y^2 $$\n",
    "\n",
    "to the points on a circle which intersects $x,y=1,0$. Shifting the center of the circle an amount $\\Delta x$ sets the thickness of the foil. I've followed this procedure in the function `VortexPanel.make_jukowski`. Let's import that module as `vp` again:"
   ]
  },
  {
   "cell_type": "code",
   "execution_count": null,
   "metadata": {
    "collapsed": false
   },
   "outputs": [],
   "source": [
    "import numpy\n",
    "from matplotlib import pyplot\n",
    "%matplotlib inline\n",
    "import VortexPanel as vp\n",
    "help(vp.make_jukowski)"
   ]
  },
  {
   "cell_type": "markdown",
   "metadata": {},
   "source": [
    "The arguments are a number of points $N$, the x-shift `dx`$=\\Delta x$, and similar shifts to the angle `dtheta`$=\\Delta \\theta$ and radius `dr`$=\\Delta r$. Let's test it out."
   ]
  },
  {
   "cell_type": "code",
   "execution_count": null,
   "metadata": {
    "collapsed": false
   },
   "outputs": [],
   "source": [
    "pyplot.figure(figsize=(10,4))\n",
    "pyplot.axis([-1.2,1.2,-.5,.5])\n",
    "\n",
    "foil = vp.make_jukowski(N=32)\n",
    "foil.plot()"
   ]
  },
  {
   "cell_type": "markdown",
   "metadata": {},
   "source": [
    "##### Quiz\n",
    "\n",
    "How can you get a cambered (ie, curved) foil shape using the Jukowski transform?\n",
    "\n",
    "1. Shift the center right or left.\n",
    "1. Rotate the circle around (1,0).\n",
    "1. Change the circle's radius.\n",
    "---"
   ]
  },
  {
   "cell_type": "markdown",
   "metadata": {},
   "source": [
    "## Flows with circulation\n",
    "\n",
    "Now lets solve for the flow around the foil:"
   ]
  },
  {
   "cell_type": "code",
   "execution_count": null,
   "metadata": {
    "collapsed": false
   },
   "outputs": [],
   "source": [
    "foil = vp.make_jukowski(N=32) # make the geom\n",
    "foil.solve_gamma()            # solve for gamma\n",
    "foil.plot_flow()              # plot the flow"
   ]
  },
  {
   "cell_type": "markdown",
   "metadata": {},
   "source": [
    "Whoops. We need an angle of attack."
   ]
  },
  {
   "cell_type": "code",
   "execution_count": null,
   "metadata": {
    "collapsed": false
   },
   "outputs": [],
   "source": [
    "alpha = numpy.pi/16         # set angle of attack\n",
    "foil.solve_gamma(alpha)     # solve for gamma\n",
    "foil.plot_flow()            # plot the flow"
   ]
  },
  {
   "cell_type": "markdown",
   "metadata": {},
   "source": [
    "Sigh. There are so many things wrong with this picture...\n",
    "\n",
    " - The flow is faster on the underside of the foil. \n",
    " - The rear stagnation point is on the upper side of the foil.\n",
    " - There is a singularity on the lower side of the trailing edge.\n",
    "\n",
    "These are all physically incorrect! But how can setting the (physical) no-slip condition on each panel lead to non-physical results?\n",
    "\n",
    "##### Mathematics fundamental: Necessary but insufficient\n",
    "##### The no-slip condition is not sufficient to uniquely determine the flow around lifting bodies\n",
    "\n",
    "This means there are many (non-physical) solutions for this flow, one of which is given above. __If__ there is a unique physical solution, we will need an additional condition to determine it."
   ]
  },
  {
   "cell_type": "markdown",
   "metadata": {},
   "source": [
    "## The Kutta condition\n",
    "\n",
    "There **is** a unique physical solution for this flow, and this is because the foil has a sharp trailing edge."
   ]
  },
  {
   "cell_type": "markdown",
   "metadata": {},
   "source": [
    "##### Quiz\n",
    "\n",
    "What does the flow need to look like on the trailing edge?\n",
    "\n",
    "![short](resources\\trailingEdge.png)\n",
    "\n",
    "1. The flow needs to wrap from the bottom to the top.\n",
    "1. The flow needs to wrap from the top to the bottom.\n",
    "1. The flow needs to separate from the edge. "
   ]
  },
  {
   "cell_type": "markdown",
   "metadata": {},
   "source": [
    "---\n",
    "The fundamental problem with the solution for the foil above is that the flow is wrapping around the sharp trailing edge. This means that particles traveling on the body streamline *instantly* change direction - which is impossible for any object with mass.\n",
    "\n",
    "Avoiding this impossibility is called the Kutta condition.\n",
    "\n",
    "##### Hydrodynamics fundamental: Kutta condition\n",
    "##### \"Potential flow must separate from a sharp trailing edge\"\n",
    "\n",
    "This uniquely determines the correct solution $\\gamma_i$ and it links the solution to the angle of attack $\\alpha$ to the lift. As $\\alpha$ is increased, the amount of circulation increases to enforce the Kutta condition.\n",
    "\n",
    "To enforce the Kutta condition in the vortex panel method, we need to convert it into a statement about the strength $\\gamma(s)$. "
   ]
  },
  {
   "cell_type": "markdown",
   "metadata": {},
   "source": [
    "##### Quiz\n",
    "\n",
    "What condition on $\\gamma(s)$ will enforce the Kutta conditions?\n",
    "\n",
    "1. $\\gamma=U_\\infty$ near the trailing edge\n",
    "1. $\\gamma=0$ near the trailing edge\n",
    "1. $\\gamma$ is antisymmetric about the trailing edge, ie $\\gamma(\\epsilon)+\\gamma(-\\epsilon)=0$\n",
    "\n",
    "(Hint: Look at the sketch above. What does it tell you about $\\gamma$ near the trailing edge?)\n",
    "\n",
    "---"
   ]
  },
  {
   "cell_type": "markdown",
   "metadata": {},
   "source": [
    "This condition has already been added to the solver. You may have noticed that the `solve_gamma` function takes an optional `kutta` argument. This lets you define any number trailing edges (by a list of index pairs) and enforce the kutta condition on them all:"
   ]
  },
  {
   "cell_type": "code",
   "execution_count": null,
   "metadata": {
    "collapsed": false
   },
   "outputs": [],
   "source": [
    "help(foil.solve_gamma)"
   ]
  },
  {
   "cell_type": "markdown",
   "metadata": {},
   "source": [
    "As in the example above and in the docstring, the two panels on either side of the trailing edge are `(0,N-1)` for the jukowski foil, so we can use\n",
    "```python\n",
    "foil.solve_gamma(alpha,kutta=[(0,-1)])\n",
    "```\n",
    "Lets, try it out!"
   ]
  },
  {
   "cell_type": "code",
   "execution_count": null,
   "metadata": {
    "collapsed": false
   },
   "outputs": [],
   "source": [
    "foil = vp.make_jukowski(N=32)            # make the geom\n",
    "alpha = numpy.pi/16                      # set angle of attack\n",
    "foil.solve_gamma(alpha,kutta=[(0,-1)])   # solve\n",
    "foil.plot_flow()                         # plot"
   ]
  },
  {
   "cell_type": "markdown",
   "metadata": {},
   "source": [
    "The flow plot shows the correct qualitative features:\n",
    "- High speed flow on the top.\n",
    "- Slow flow on the trailing edge.\n",
    "\n",
    "To test if this function really does apply the kutta condition, let's plot $\\gamma$ versus $s$, like in the last notebook:"
   ]
  },
  {
   "cell_type": "code",
   "execution_count": null,
   "metadata": {
    "collapsed": false
   },
   "outputs": [],
   "source": [
    "alpha = numpy.pi/16                     # angle of attack\n",
    "foil = vp.make_jukowski(N=32)           # make geometry\n",
    "s = foil.distance()                     # distance array\n",
    "\n",
    "# solve without kutta and plot \n",
    "foil.solve_gamma(alpha)                 # solve\n",
    "gamma = foil.get_array('gamma')         # get\n",
    "pyplot.plot(s,gamma,label=\"No kutta\")   # plot\n",
    "\n",
    "# solve with kutta and plot\n",
    "foil.solve_gamma(alpha,kutta=[(0,-1)])  # solve\n",
    "gamma = foil.get_array('gamma')         # get\n",
    "pyplot.plot(s,gamma,label=\"With kutta\") # plot\n",
    "\n",
    "# finish gamma(s) plot\n",
    "pyplot.legend()\n",
    "pyplot.xlabel(r'$s$', fontsize=20)\n",
    "pyplot.ylabel(r'$\\gamma$', fontsize=20, rotation=0)\n",
    "pyplot.axhline(0,c='k',ls='--')\n",
    "pyplot.show()"
   ]
  },
  {
   "cell_type": "markdown",
   "metadata": {},
   "source": [
    "The quantitative comparison shows that $\\gamma(0)=-\\gamma(-1)$ meaning that the Kutta condition has been successfully enforced. \n",
    "\n",
    "Note that this has completely changed the solution on the foil and will lead to a different lift force."
   ]
  },
  {
   "cell_type": "markdown",
   "metadata": {},
   "source": [
    "## Lift force\n",
    "\n",
    "Speaking of lift, the Kutta-Joukowski lift force on a body in potential flow is\n",
    "\n",
    "$$ L = -\\rho U \\Gamma = -\\rho U^2 \\tilde\\Gamma $$\n",
    "\n",
    "where $\\tilde\\Gamma=\\oint\\tilde\\gamma(s)ds$. Note that since we solve with $|U|=1$ our $\\gamma = \\tilde\\gamma$.\n",
    "\n",
    "We non-dimensionalize the lift as the lift coefficient\n",
    "\n",
    "$$ C_L =\\frac L{\\tfrac 12 \\rho U^2 c} $$\n",
    "\n",
    "where $c$ is the coord length, the distance from the leading to trailing edge. Note that the vortex panel\n"
   ]
  },
  {
   "cell_type": "markdown",
   "metadata": {},
   "source": [
    "---\n",
    "\n",
    "##### Quiz\n",
    "\n",
    "What is the expression for the lift coefficient in terms `gamma` and the panel half-width `S`?\n",
    "- `-sum(gamma)/(0.5*rho*c*U)`\n",
    "- `-sum(gamma*2*S)/(0.5*c)`\n",
    "- `-sum(gamma)*2*S/0.5*c*U`\n",
    "---\n"
   ]
  },
  {
   "cell_type": "markdown",
   "metadata": {},
   "source": [
    "## Numerical validation\n",
    "\n",
    "Before we implement that, how will we know if our lift predictions are any good?\n",
    "\n",
    "##### Numerical fundamental: Validation\n",
    "##### A method is validated by comparing the result to a known solution\n",
    "\n",
    "The reason I implemented a Jukowski foil is not because it is a great foil shape (it isn't). It is because there is an analytic solution!\n",
    "\n",
    "$$C_L = 2\\pi \\left(1+\\frac 4{3\\sqrt 3} \\frac tc \\right)\\sin\\alpha$$\n",
    "\n",
    "where $t/c$ is the thickness to coord ratio. You'll use this to test the predictions:"
   ]
  },
  {
   "cell_type": "markdown",
   "metadata": {},
   "source": [
    "##### Your turn #3\n",
    "\n",
    " - ** Complete ** the function `C_L` to compute $C_L$ given a panel array. \n",
    " - ** Complete ** the function `solver_C_L` to compute $C_L$ for a Jukowski foil given an angle of attack. \n",
    " - ** Plot and Compare ** the numerical C_L for $\\alpha=0,\\ldots,15^o$ against the analytic solution.\n",
    " - ** Discuss ** the results. Do they indicate the point of *stall*? Why or why not?"
   ]
  },
  {
   "cell_type": "code",
   "execution_count": null,
   "metadata": {
    "collapsed": false
   },
   "outputs": [],
   "source": [
    "def C_L(panels):\n",
    "    # panel attribute arrays\n",
    "    gamma, xc, S = panels.get_array('gamma','xc','S')\n",
    "\n",
    "    # chord length\n",
    "    c = max(xc)-min(xc)\n",
    "    \n",
    "    # return the lift coefficient\n",
    "    return"
   ]
  },
  {
   "cell_type": "code",
   "execution_count": null,
   "metadata": {
    "collapsed": false
   },
   "outputs": [],
   "source": [
    "def solver_C_L(alpha):\n",
    "    # your code here\n",
    "    return"
   ]
  },
  {
   "cell_type": "code",
   "execution_count": null,
   "metadata": {
    "collapsed": false
   },
   "outputs": [],
   "source": [
    "def analytic_C_L(alpha,t_c=0.2): \n",
    "    return 2*numpy.pi*(1+t_c*4/(3*numpy.sqrt(3)))*numpy.sin(alpha)\n",
    "\n",
    "alpha_deg = numpy.linspace(0,15,6)\n",
    "alpha = alpha_deg*numpy.pi/180.\n",
    "pyplot.plot(alpha_deg,analytic_C_L(alpha), label='analytic')\n",
    "\n",
    "### your code here\n",
    "\n",
    "pyplot.legend(loc='lower right')\n",
    "pyplot.xlabel(r'$\\alpha$ (deg)', fontsize=20)\n",
    "pyplot.ylabel(r'$C_L$', fontsize=20)"
   ]
  }
 ],
 "metadata": {
  "kernelspec": {
   "display_name": "Python 2",
   "language": "python",
   "name": "python2"
  },
  "language_info": {
   "codemirror_mode": {
    "name": "ipython",
    "version": 2
   },
   "file_extension": ".py",
   "mimetype": "text/x-python",
   "name": "python",
   "nbconvert_exporter": "python",
   "pygments_lexer": "ipython2",
   "version": "2.7.10"
  }
 },
 "nbformat": 4,
 "nbformat_minor": 0
}
