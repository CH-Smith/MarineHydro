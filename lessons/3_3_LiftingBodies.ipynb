{
 "cells": [
  {
   "cell_type": "code",
   "execution_count": 1,
   "metadata": {
    "collapsed": false
   },
   "outputs": [
    {
     "data": {
      "text/html": [
       "<link href='http://fonts.googleapis.com/css?family=Fenix' rel='stylesheet' type='text/css'>\n",
       "<link href='http://fonts.googleapis.com/css?family=Alegreya+Sans:100,300,400,500,700,800,900,100italic,300italic,400italic,500italic,700italic,800italic,900italic' rel='stylesheet' type='text/css'>\n",
       "<link href='http://fonts.googleapis.com/css?family=Source+Code+Pro:300,400' rel='stylesheet' type='text/css'>\n",
       "<style>\n",
       "    @font-face {\n",
       "        font-family: \"Computer Modern\";\n",
       "        src: url('http://mirrors.ctan.org/fonts/cm-unicode/fonts/otf/cmunss.otf');\n",
       "    }\n",
       "    h1 {\n",
       "        font-family: 'Alegreya Sans', sans-serif;\n",
       "    }\n",
       "    h2 {\n",
       "        font-family: 'Fenix', serif;\n",
       "    }\n",
       "    h3{\n",
       "\t\tfont-family: 'Fenix', serif;\n",
       "        margin-top:12px;\n",
       "        margin-bottom: 3px;\n",
       "       }\n",
       "\th4{\n",
       "\t\tfont-family: 'Fenix', serif;\n",
       "       }\n",
       "    h5 {\n",
       "        font-family: 'Alegreya Sans', sans-serif;\n",
       "    }\n",
       "    .CodeMirror{\n",
       "            font-family: \"Source Code Pro\";\n",
       "\t\t\tfont-size: 90%;\n",
       "    }\n",
       "/*    .prompt{\n",
       "        display: None;\n",
       "    }*/\n",
       "    .text_cell_render h1 {\n",
       "        font-weight: 200;\n",
       "        font-size: 50pt;\n",
       "\t\tline-height: 100%;\n",
       "        color:#CD2305;\n",
       "        margin-bottom: 0.5em;\n",
       "        margin-top: 0.5em;\n",
       "        display: block;\n",
       "    }\n",
       "    .text_cell_render h5 {\n",
       "        font-weight: 300;\n",
       "        font-size: 16pt;\n",
       "        color: #CD2305;\n",
       "        font-style: italic;\n",
       "        margin-bottom: .5em;\n",
       "        margin-top: 0.5em;\n",
       "        display: block;\n",
       "    }\n",
       "\n",
       "    .warning{\n",
       "        color: rgb( 240, 20, 20 )\n",
       "        }\n",
       "</style>\n",
       "<style>\n",
       "  img[alt=short] { height: 200px; }\n",
       "  img[alt=medium] { height: 300px; }\n",
       "</style>\n",
       "<script>\n",
       "    MathJax.Hub.Config({\n",
       "                        TeX: {\n",
       "                           extensions: [\"AMSmath.js\"],\n",
       "                           equationNumbers: { autoNumber: \"AMS\", useLabelIds: true}\n",
       "                           },\n",
       "                tex2jax: {\n",
       "                    inlineMath: [ ['$','$'], [\"\\\\(\",\"\\\\)\"] ],\n",
       "                    displayMath: [ ['$$','$$'], [\"\\\\[\",\"\\\\]\"] ]\n",
       "                },\n",
       "                displayAlign: 'center', // Change this to 'center' to center equations.\n",
       "                \"HTML-CSS\": {\n",
       "                    styles: {'.MathJax_Display': {\"margin\": 4}}\n",
       "                }\n",
       "        });\n",
       "</script>\n"
      ],
      "text/plain": [
       "<IPython.core.display.HTML object>"
      ]
     },
     "execution_count": 1,
     "metadata": {},
     "output_type": "execute_result"
    }
   ],
   "source": [
    "from IPython.core.display import HTML\n",
    "def css_styling():\n",
    "    styles = open('../styles/custom.css', 'r').read()\n",
    "    return HTML(styles)\n",
    "css_styling()"
   ]
  },
  {
   "cell_type": "markdown",
   "metadata": {},
   "source": [
    "# Lifting bodies\n",
    "\n",
    "This section will modify the vortex panel method to enable the prediction of lift on wing sections."
   ]
  },
  {
   "cell_type": "markdown",
   "metadata": {},
   "source": [
    "## Foil section geometry\n",
    "\n",
    "To find the lift on a foil, we first need to define the geometry. Let's use a symmetric Jukowski foil for now. This foil shape is obtained by applying the following mapping\n",
    "\n",
    "$$ x' = \\frac x2 (1+1/r^2), \\quad y' = \\frac y2 (1-1/r^2),\\quad r^2= x^2+y^2 $$\n",
    "\n",
    "to the points on a circle which intersects $x,y=1,0$. Shifting the center of the circle an amount $\\Delta x$ sets the thickness of the foil. I've followed this procedure in the function `make_jukowski`. Let's import it (along with the rest of `VortexPanel`):"
   ]
  },
  {
   "cell_type": "code",
   "execution_count": null,
   "metadata": {
    "collapsed": false
   },
   "outputs": [],
   "source": [
    "import numpy\n",
    "from matplotlib import pyplot\n",
    "%matplotlib inline\n",
    "import VortexPanel as vp\n",
    "help(vp.make_jukowski)"
   ]
  },
  {
   "cell_type": "markdown",
   "metadata": {},
   "source": [
    "The arguments are a number of points $N$, the x-shift `dx`$=\\Delta x$, and similar shifts to the angle `dtheta`$=\\Delta \\theta$ and radius `dr`$=\\Delta r$. Let's test it out."
   ]
  },
  {
   "cell_type": "code",
   "execution_count": null,
   "metadata": {
    "collapsed": false
   },
   "outputs": [],
   "source": [
    "foil = vp.make_jukowski(N=32)\n",
    "\n",
    "pyplot.figure(figsize=(10,4))\n",
    "pyplot.axis([-1.2,1.2,-.5,.5])\n",
    "for p in foil: p.plot()"
   ]
  },
  {
   "cell_type": "markdown",
   "metadata": {},
   "source": [
    "##### Quiz\n",
    "\n",
    "How can you get a cambered (ie, curved) foil shape using the Jukowski transform?\n",
    "\n",
    "1. Shift the center right or left.\n",
    "1. Rotate the circle around (1,0).\n",
    "1. Change the circle's radius.\n",
    "---\n",
    "\n",
    "We're going to use the symmetric foil with a sharp edge - so put things back when you're done."
   ]
  },
  {
   "cell_type": "markdown",
   "metadata": {},
   "source": [
    "## Flows with circulation\n",
    "\n",
    "Now lets solve for the flow around the foil:"
   ]
  },
  {
   "cell_type": "code",
   "execution_count": null,
   "metadata": {
    "collapsed": false
   },
   "outputs": [],
   "source": [
    "vp.solve_gamma(foil)     # solve for gamma\n",
    "vp.plot_flow(foil)       # plot the flow"
   ]
  },
  {
   "cell_type": "markdown",
   "metadata": {},
   "source": [
    "Whoops. We need an angle of attack. *Notice that I need to use the same `alpha` for both solving and plotting.* "
   ]
  },
  {
   "cell_type": "code",
   "execution_count": null,
   "metadata": {
    "collapsed": false
   },
   "outputs": [],
   "source": [
    "alpha = numpy.pi/16            # set angle of attack\n",
    "vp.solve_gamma(foil,alpha)     # solve for gamma\n",
    "vp.plot_flow(foil,alpha)       # plot the flow"
   ]
  },
  {
   "cell_type": "markdown",
   "metadata": {},
   "source": [
    "Sigh. There are so many things wrong with this picture...\n",
    "\n",
    " - The flow is faster on the underside of the foil. \n",
    " - The rear stagnation point is on the upper side of the foil.\n",
    " - There is a singularity on the lower side of the trailing edge.\n",
    "\n",
    "These are all physically incorrect! But how can setting the (physical) no-slip condition on each panel lead to non-physical results?\n",
    "\n",
    "It is a symptom that the vortex panel no-slip matrix is *singular*.\n",
    "\n",
    "##### Mathematics fundamental: Singular matrix\n",
    "##### The solutions to a singular matrix are not unique\n",
    "\n",
    "This means there are many (non-physical) solutions for this flow, one of which is given above."
   ]
  },
  {
   "cell_type": "markdown",
   "metadata": {},
   "source": [
    "## The Kutta condition\n",
    "\n",
    "However, there **is** a unique (physical) solution for the foil, and this is because the foil has a sharp trailing edge."
   ]
  },
  {
   "cell_type": "markdown",
   "metadata": {},
   "source": [
    "##### Quiz\n",
    "\n",
    "What does the flow need to look like on the trailing edge?\n",
    "\n",
    "![short](resources\\trailingEdge.png)\n",
    "\n",
    "1. The flow needs to wrap from the bottom to the top.\n",
    "1. The flow needs to wrap from the top to the bottom.\n",
    "1. The flow needs to separate from the edge. "
   ]
  },
  {
   "cell_type": "markdown",
   "metadata": {},
   "source": [
    "---\n",
    "The fundamental problem with the solution for the foil above is that the flow is wrapping around the sharp trailing edge. This means that particles traveling on the body streamline *instantly* change direction - which is impossible for any object with mass.\n",
    "\n",
    "Avoiding this impossibility is called the Kutta condition.\n",
    "\n",
    "##### Hydrodynamics fundamental: Kutta Condition\n",
    "##### Potential flow must separate from a sharp trailing edge\n",
    "\n",
    "This uniquely determines the correct solution $\\gamma_i$ and it links the solution to the angle of attack $\\alpha$ to the lift. As $\\alpha$ is increased, the amount of circulation increases to enforce the Kutta condition.\n",
    "\n",
    "To enforce the Kutta condition in the vortex panel method, we need to convert it into a statement about the strength $\\gamma(s)$. "
   ]
  },
  {
   "cell_type": "markdown",
   "metadata": {},
   "source": [
    "##### Quiz\n",
    "\n",
    "What condition on $\\gamma(s)$ will enforce the Kutta conditions?\n",
    "\n",
    "1. $\\gamma=U_\\infty$ near the trailing edge\n",
    "1. $\\gamma=0$ near the trailing edge\n",
    "1. $\\gamma$ is antisymmetric near the trailing edge, ie $\\gamma(-s)=-\\gamma(s)$\n",
    "\n",
    "(Hint: Look at the sketch above. What does it tell you about $\\gamma$ near the trailing edge?)\n",
    "\n",
    "---"
   ]
  },
  {
   "cell_type": "markdown",
   "metadata": {},
   "source": [
    "## Adjusted linear system\n",
    "\n",
    "Now we know the additional condition which makes the solution unique. You may have noticed that `solve_gamma` takes a kutta argument..."
   ]
  },
  {
   "cell_type": "code",
   "execution_count": null,
   "metadata": {
    "collapsed": false
   },
   "outputs": [],
   "source": [
    "help(vp.solve_gamma)"
   ]
  },
  {
   "cell_type": "markdown",
   "metadata": {},
   "source": [
    "Like in the example, the two panels on either side of the trailing edge are `(0,N-1)`, so we can use\n",
    "```python\n",
    "vp.solve_gamma(foil,alpha,kutta=[(0,-1)])\n",
    "```\n",
    "or we can use the `solve_gamma_kutta` function, which does exactly the same thing:"
   ]
  },
  {
   "cell_type": "code",
   "execution_count": null,
   "metadata": {
    "collapsed": false
   },
   "outputs": [],
   "source": [
    "help(vp.solve_gamma_kutta)"
   ]
  },
  {
   "cell_type": "markdown",
   "metadata": {},
   "source": [
    "## Quantitative testing\n",
    "\n",
    "To test if this function really does apply the kutta condition, let's plot $\\gamma(s)$, where $s$ is the distance around the foil. After `solve`ing we need two things:\n",
    " - `gamma` as an array\n",
    " - `s` as an array\n",
    "\n",
    "We will use the `VortexPanel.get_array(panels,'key')` function for the first, which gets arrays of one or more attributes from `panels`. \n",
    "\n",
    "For the second, we can `get_array` of the panel half-widths `S`, and take their cumulative sum to get the path distance around the foil:\n",
    "```python\n",
    "S = vp.get_array(panels,'S')\n",
    "return numpy.cumsum(2*S)-S\n",
    "```\n",
    "which is implemented as the `VortexPanel.distance` function. \n",
    "\n",
    "As always, you can use `help` to see the details of these two functions.\n",
    "\n",
    "---\n",
    "\n",
    "Alright, let's test the impact of the kutta condition:"
   ]
  },
  {
   "cell_type": "code",
   "execution_count": null,
   "metadata": {
    "collapsed": false
   },
   "outputs": [],
   "source": [
    "alpha = numpy.pi/16           # angle of attack\n",
    "foil = vp.make_jukowski(N=32) # make geometry\n",
    "s = vp.distance(foil)         # distance array\n",
    "\n",
    "# solve without kutta and plot \n",
    "vp.solve_gamma(foil,alpha)              # solve\n",
    "gamma = vp.get_array(foil,'gamma')      # get\n",
    "pyplot.plot(s,gamma,label=\"No kutta\")   # plot\n",
    "\n",
    "# solve with kutta and plot\n",
    "vp.solve_gamma_kutta(foil,alpha)        # solve\n",
    "gamma = vp.get_array(foil,'gamma')      # get\n",
    "pyplot.plot(s,gamma,label=\"With kutta\") # plot\n",
    "\n",
    "# finish gamma(s) plot\n",
    "pyplot.legend()\n",
    "pyplot.xlabel(r'$s$', fontsize=20)\n",
    "pyplot.ylabel(r'$\\gamma$', fontsize=20)\n",
    "pyplot.axhline(0,c='k',ls='--')\n",
    "pyplot.show()\n",
    "\n",
    "# plot flow\n",
    "vp.plot_flow(foil,alpha)"
   ]
  },
  {
   "cell_type": "markdown",
   "metadata": {},
   "source": [
    "The quantitative comparison of $\\gamma(s)$ shows that the Kutta condition has been sucsessfully enforced, and that this has completely changed the solution. \n",
    "\n",
    "The flow plot shows that this has corrected all the non-physical features:\n",
    "- High speed flow on the top, leading to positive lift.\n",
    "- Clean separation from the trailing edge.\n",
    "- The circulation is unique for a given angle of attack."
   ]
  },
  {
   "cell_type": "markdown",
   "metadata": {},
   "source": [
    "## Lift force\n",
    "\n",
    "Speaking of lift... we could determine the lift by evaluating a pressure integral\n",
    "\n",
    "$$ L = -\\oint p n_y da $$\n",
    "\n",
    "However, the Kutta-Joukowski lift force on a body in potential flow is even easier:\n",
    "\n",
    "$$ L = -\\rho U_\\infty \\Gamma $$\n",
    "\n",
    "where $\\Gamma$ is the total circulation. For a continuous vortex sheet this is given by $\\Gamma=\\oint\\gamma(s)ds$.\n",
    "\n",
    "We non-dimensionalize the lift as\n",
    "\n",
    "$$ C_L =\\frac L{\\tfrac 12 \\rho U_\\infty^2 c} $$\n",
    "\n",
    "where $c$ is the coord length, the distance from the leading to trailing edge.\n"
   ]
  },
  {
   "cell_type": "markdown",
   "metadata": {},
   "source": [
    "---\n",
    "\n",
    "##### Quiz\n",
    "\n",
    "What is the expression for the lift coefficient in terms `gamma` and the panel half-width `S`?\n",
    "- `-sum(gamma)/(2*c)`\n",
    "- `-sum(gamma*2*S)/(0.5*c*U_inf)`\n",
    "- `-sum(gamma)*2*S/0.5*c*U_inf`\n",
    "---\n"
   ]
  },
  {
   "cell_type": "markdown",
   "metadata": {},
   "source": [
    "## Numerical validation\n",
    "\n",
    "Before we do that, how will we know if our lift predictions are any good?\n",
    "\n",
    "##### Numerical fundamental: Validation\n",
    "##### A method is validated by comparing the result to a known solution\n",
    "\n",
    "The reason I implemented a Jukowski foil is not because it is a great foil shape (it isn't). It is because there is an exact solution!\n",
    "\n",
    "$$C_L = 2\\pi \\left(1+\\frac 4{3\\sqrt 3} \\frac tc \\right)\\sin\\alpha$$\n",
    "\n",
    "where $t/c$ is the thickness to coord ratio. You'll use this to test the predictions:"
   ]
  },
  {
   "cell_type": "markdown",
   "metadata": {},
   "source": [
    "##### Your turn #3\n",
    "\n",
    " - ** Complete ** the function `C_L` to compute $C_L$ given a panel array. \n",
    " - ** Complete ** the function `solver_C_L` to compute $C_L$ for a Jukowski foil given an angle of attack. \n",
    " - ** Plot and Compare ** the numerical C_L for $\\alpha=0,\\ldots,15^o$ against the analytic solution.\n",
    " - ** Discuss ** the results. Do they indicate the point of *stall*? Why or why not?"
   ]
  },
  {
   "cell_type": "code",
   "execution_count": null,
   "metadata": {
    "collapsed": false
   },
   "outputs": [],
   "source": [
    "def C_L(panels):\n",
    "    # panel attribute arrays\n",
    "    gamma, xc, S = vp.get_array(panels,'gamma','xc','S')\n",
    "\n",
    "    # chord length\n",
    "    c = max(xc)-min(xc)\n",
    "    \n",
    "    # return the lift coefficient\n",
    "    return # your code here"
   ]
  },
  {
   "cell_type": "code",
   "execution_count": null,
   "metadata": {
    "collapsed": false
   },
   "outputs": [],
   "source": [
    "def solver_C_L(alpha):\n",
    "    # your code here\n",
    "    return C_L(foil)"
   ]
  },
  {
   "cell_type": "code",
   "execution_count": null,
   "metadata": {
    "collapsed": false
   },
   "outputs": [],
   "source": [
    "def analytic_C_L(alpha,t_c=0.2): \n",
    "    return 2*numpy.pi*(1+t_c*4/(3*numpy.sqrt(3)))*numpy.sin(alpha)\n",
    "\n",
    "alpha_deg = numpy.linspace(0,15,6)\n",
    "alpha = alpha_deg*numpy.pi/180.\n",
    "pyplot.plot(alpha_deg,analytic_C_L(alpha), label='analytic')\n",
    "\n",
    "### your code here\n",
    "\n",
    "pyplot.legend(loc='lower right')\n",
    "pyplot.xlabel(r'$\\alpha$', fontsize=20)\n",
    "pyplot.ylabel(r'$C_L$', fontsize=20)"
   ]
  }
 ],
 "metadata": {
  "kernelspec": {
   "display_name": "Python 2",
   "language": "python",
   "name": "python2"
  },
  "language_info": {
   "codemirror_mode": {
    "name": "ipython",
    "version": 2
   },
   "file_extension": ".py",
   "mimetype": "text/x-python",
   "name": "python",
   "nbconvert_exporter": "python",
   "pygments_lexer": "ipython2",
   "version": "2.7.10"
  }
 },
 "nbformat": 4,
 "nbformat_minor": 0
}
