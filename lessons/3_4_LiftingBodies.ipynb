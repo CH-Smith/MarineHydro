{
 "cells": [
  {
   "cell_type": "code",
   "execution_count": 1,
   "metadata": {
    "collapsed": false
   },
   "outputs": [
    {
     "data": {
      "text/html": [
       "<link href='http://fonts.googleapis.com/css?family=Fenix' rel='stylesheet' type='text/css'>\n",
       "<link href='http://fonts.googleapis.com/css?family=Alegreya+Sans:100,300,400,500,700,800,900,100italic,300italic,400italic,500italic,700italic,800italic,900italic' rel='stylesheet' type='text/css'>\n",
       "<link href='http://fonts.googleapis.com/css?family=Source+Code+Pro:300,400' rel='stylesheet' type='text/css'>\n",
       "<style>\n",
       "    @font-face {\n",
       "        font-family: \"Computer Modern\";\n",
       "        src: url('http://mirrors.ctan.org/fonts/cm-unicode/fonts/otf/cmunss.otf');\n",
       "    }\n",
       "    h1 {\n",
       "        font-family: 'Alegreya Sans', sans-serif;\n",
       "    }\n",
       "    h2 {\n",
       "        font-family: 'Fenix', serif;\n",
       "    }\n",
       "    h3{\n",
       "\t\tfont-family: 'Fenix', serif;\n",
       "        margin-top:12px;\n",
       "        margin-bottom: 3px;\n",
       "       }\n",
       "\th4{\n",
       "\t\tfont-family: 'Fenix', serif;\n",
       "       }\n",
       "    h5 {\n",
       "        font-family: 'Alegreya Sans', sans-serif;\n",
       "    }\t   \n",
       "    .CodeMirror{\n",
       "            font-family: \"Source Code Pro\";\n",
       "\t\t\tfont-size: 90%;\n",
       "    }\n",
       "/*    .prompt{\n",
       "        display: None;\n",
       "    }*/\n",
       "    .text_cell_render h1 {\n",
       "        font-weight: 200;\n",
       "        font-size: 50pt;\n",
       "\t\tline-height: 100%;\n",
       "        color:#CD2305;\n",
       "        margin-bottom: 0.5em;\n",
       "        margin-top: 0.5em;\n",
       "        display: block;\n",
       "    }\t\n",
       "    .text_cell_render h5 {\n",
       "        font-weight: 300;\n",
       "        font-size: 16pt;\n",
       "        color: #CD2305;\n",
       "        font-style: italic;\n",
       "        margin-bottom: .5em;\n",
       "        margin-top: 0.5em;\n",
       "        display: block;\n",
       "    }\n",
       "    \n",
       "    .warning{\n",
       "        color: rgb( 240, 20, 20 )\n",
       "        }  \n",
       "</style>\n",
       "<script>\n",
       "    MathJax.Hub.Config({\n",
       "                        TeX: {\n",
       "                           extensions: [\"AMSmath.js\"], \n",
       "                           equationNumbers: { autoNumber: \"AMS\", useLabelIds: true}\n",
       "                           },\n",
       "                tex2jax: {\n",
       "                    inlineMath: [ ['$','$'], [\"\\\\(\",\"\\\\)\"] ],\n",
       "                    displayMath: [ ['$$','$$'], [\"\\\\[\",\"\\\\]\"] ]\n",
       "                },\n",
       "                displayAlign: 'center', // Change this to 'center' to center equations.\n",
       "                \"HTML-CSS\": {\n",
       "                    styles: {'.MathJax_Display': {\"margin\": 4}}\n",
       "                }\n",
       "        });\n",
       "</script>\n"
      ],
      "text/plain": [
       "<IPython.core.display.HTML object>"
      ]
     },
     "execution_count": 1,
     "metadata": {},
     "output_type": "execute_result"
    }
   ],
   "source": [
    "from IPython.core.display import HTML\n",
    "def css_styling():\n",
    "    styles = open('../styles/custom.css', 'r').read()\n",
    "    return HTML(styles)\n",
    "css_styling()"
   ]
  },
  {
   "cell_type": "markdown",
   "metadata": {},
   "source": [
    "# Lifting bodies\n",
    "\n",
    "We will apply the vortex panel method developed in the last section to the prediction of lift on wing sections."
   ]
  },
  {
   "cell_type": "markdown",
   "metadata": {},
   "source": [
    "## Foil section geometry\n",
    "\n",
    "To find the lift on a foil, we first need to define the geometry. Let's use a symmetric Jukowski foil for now. This foil shape is obtained by applying the following mapping\n",
    "\n",
    "$$ x' = \\frac x2 (1+1/r^2), \\quad y' = \\frac y2 (1-1/r^2),\\quad r^2= x^2+y^2 $$\n",
    "\n",
    "to the points on a circle which intersects $x,y=1,0$. Shifting the center of the circle an amount $\\Delta x$ sets the thickness of the foil. I've followed this procedure in the function `make_jukowski`. Let's import it (along with the rest of `VortexPanel`):"
   ]
  },
  {
   "cell_type": "code",
   "execution_count": null,
   "metadata": {
    "collapsed": false
   },
   "outputs": [],
   "source": [
    "import numpy\n",
    "from matplotlib import pyplot\n",
    "%matplotlib inline\n",
    "from VortexPanel import *\n",
    "help(make_jukowski)"
   ]
  },
  {
   "cell_type": "markdown",
   "metadata": {},
   "source": [
    "The arguments are a number of points $N$, the x-shift `dx`$=\\Delta x$, and similar shifts to the angle `dtheta`$=\\Delta \\theta$ and radius `dr`$=\\Delta r$. Let's test it out."
   ]
  },
  {
   "cell_type": "code",
   "execution_count": null,
   "metadata": {
    "collapsed": false
   },
   "outputs": [],
   "source": [
    "N = 32\n",
    "foil = make_jukowski(N)\n",
    "\n",
    "pyplot.figure(figsize=(10,4))\n",
    "pyplot.axis([-1.2,1.2,-.5,.5])\n",
    "for p in foil: p.plot()"
   ]
  },
  {
   "cell_type": "markdown",
   "metadata": {},
   "source": [
    "##### Quiz 1\n",
    "\n",
    "How can you get a cambered (ie, curved) foil shape?\n",
    "\n",
    "1. Shift the center right or left.\n",
    "1. Rotate the circle around (1,0).\n",
    "1. Change the circle's radius.\n",
    "---\n",
    "\n",
    "We're going to use the symmetric foil with a sharp edge - so put things back when you're done."
   ]
  },
  {
   "cell_type": "markdown",
   "metadata": {},
   "source": [
    "## Lift force\n",
    "\n",
    "We could determine the lift by evaluating a pressure integral as we did in the previous notebook - it would simply be \n",
    "\n",
    "$$ L = -\\oint p n_y da $$\n",
    "\n",
    "However, the Kutta-Joukowski lift force on a body in potential flow is even easier:\n",
    "\n",
    "$$ L = -\\rho U_\\infty \\Gamma $$\n",
    "\n",
    "where $\\Gamma$ is the total circulation. For a continuous vortex sheet this is given by $\\Gamma=\\oint\\gamma(s)ds$.\n",
    "\n",
    "We non-dimensionalize the lift as\n",
    "\n",
    "$$ C_L =\\frac L{\\tfrac 12 \\rho U_\\infty^2 c} $$\n",
    "\n",
    "where $c$ is the coord length, the distance from the leading to trailing edge."
   ]
  },
  {
   "cell_type": "markdown",
   "metadata": {},
   "source": [
    "---\n",
    "\n",
    "##### Quiz 2\n",
    "\n",
    "What is the expression for the lift coefficient in terms `gamma` and the panel half-width `S`?\n",
    "- `-sum(gamma)/(2*c)`\n",
    "- `-sum(gamma*2*S)/(0.5*c)`\n",
    "- `-sum(gamma)*2*S/(0.5*c)`\n",
    "\n",
    "---\n",
    "Now fill in this expression below."
   ]
  },
  {
   "cell_type": "code",
   "execution_count": null,
   "metadata": {
    "collapsed": false
   },
   "outputs": [],
   "source": [
    "def C_L(panels):\n",
    "    # panel attribute arrays\n",
    "    gamma = get_array(panels,'gamma')\n",
    "    xc = get_array(panels,'xc')\n",
    "    S = get_array(panels,'S')\n",
    "\n",
    "    # chord length\n",
    "    c = max(xc)-min(xc)\n",
    "    \n",
    "    # return the lift coefficient\n",
    "    return numpy.NaN # REPLACE!"
   ]
  },
  {
   "cell_type": "markdown",
   "metadata": {},
   "source": [
    "---\n",
    "\n",
    "So now let's get the lift on the foil:"
   ]
  },
  {
   "cell_type": "code",
   "execution_count": null,
   "metadata": {
    "collapsed": false
   },
   "outputs": [],
   "source": [
    "solve_gamma(foil)\n",
    "print('C_L ='+'%.2e'%C_L(foil))"
   ]
  },
  {
   "cell_type": "markdown",
   "metadata": {},
   "source": [
    "That can't be right...\n",
    "\n",
    "Oh, of course. We need an angle of attack to get lift. No problem:"
   ]
  },
  {
   "cell_type": "code",
   "execution_count": null,
   "metadata": {
    "collapsed": false
   },
   "outputs": [],
   "source": [
    "alpha = numpy.pi/16         # set angle of attack\n",
    "solve_gamma(foil,alpha)     # solve for gamma\n",
    "plot_flow(foil,alpha)       # plot the flow\n",
    "print('C_L ='+'%.2e'%C_L(foil))"
   ]
  },
  {
   "cell_type": "markdown",
   "metadata": {},
   "source": [
    "Sigh. There are so many things wrong with this picture...\n",
    "\n",
    " - The flow is faster on the underside of the foil, causing the lift to be negative. \n",
    " - The rear stagnation point is on the upper side of the foil.\n",
    " - There is a singularity on the lower side of the trailing edge.\n",
    "\n",
    "These are all physically incorrect!"
   ]
  },
  {
   "cell_type": "markdown",
   "metadata": {},
   "source": [
    "## Indeterminate vortex strength \n",
    "All of these are symptoms of the same issue. To figure out what the problem is, let's go back to the circle geometry."
   ]
  },
  {
   "cell_type": "markdown",
   "metadata": {},
   "source": [
    "##### Quiz 3\n",
    "\n",
    "What can we do to the circle flow to generate lift force?\n",
    "\n",
    "1. Change the angle of attack\n",
    "1. Superimpose a vortex\n",
    "1. Increase the resolution\n",
    "\n",
    "Note that the addition of a vortex of strength $\\Gamma^+$ to the center of the circle has *exactly* the same effect on the external flow as changing $\\gamma_i$ by an amount $\\Delta\\gamma=\\frac {\\Gamma^+}{2\\pi R}$.\n",
    "\n",
    "Try it out with the code below:"
   ]
  },
  {
   "cell_type": "code",
   "execution_count": null,
   "metadata": {
    "collapsed": false
   },
   "outputs": [],
   "source": [
    "alpha = 0                               # angle of attack\n",
    "dgamma = 0./(2*numpy.pi)                # vortex circulation\n",
    "\n",
    "circle = make_circle(N)                 # set-up geom\n",
    "solve_gamma(circle,alpha)               # find gamma\n",
    "for p in circle: p.gamma += dgamma      # increase gamma by dgamma\n",
    "plot_flow(circle,alpha)                 # plot the flow\n",
    "print('C_L ='+'%.2e'%C_L(circle))"
   ]
  },
  {
   "cell_type": "markdown",
   "metadata": {},
   "source": [
    "We see that we can add any amount $\\Delta\\gamma$, and generate any lift we want. This should be unsettling in at least two different ways:\n",
    "\n",
    "- The solution for $\\gamma_i$ to obey the no-slip condition is not unique!\n",
    "- The vortex circulation (and lift) is completely independent of $\\alpha$!\n",
    "---\n",
    "\n",
    "Let get the first issue out of the way first. Indeed, $\\gamma_i$ is not unique. This is because the matrix $\\mathbf A$ for the vortex panel system is *singular*.\n",
    "\n",
    "##### Numerical fundamental: Singular matrix\n",
    "##### The solutions to a singular matrix are not unique\n",
    "\n",
    "We didn't notice this in the last notebook, because rounding errors nudged $\\mathbf A$ out of singularity. This is why the solution for the foil at an angle of attack above is completely bogus - the error doesn't nudge you towards the *correct* solution in general."
   ]
  },
  {
   "cell_type": "markdown",
   "metadata": {},
   "source": [
    "## The Kutta condition\n",
    "\n",
    "Unlike the circle, there **is** a unique correct solution for the foil. This is because the foil has a sharp trailing edge."
   ]
  },
  {
   "cell_type": "markdown",
   "metadata": {},
   "source": [
    "##### Quiz 3\n",
    "\n",
    "What does the flow need to look like on the trailing edge?\n",
    "\n",
    "![Trailing edge options](resources\\trailingEdge.png)\n",
    "\n",
    "1. The flow needs to wrap from the bottom to the top.\n",
    "1. The flow needs to wrap from the top to the bottom.\n",
    "1. The flow need to separate from the edge. "
   ]
  },
  {
   "cell_type": "markdown",
   "metadata": {},
   "source": [
    "---\n",
    "The fundamental problem with the solution for the foil above is that the flow is wrapping around the sharp trailing edge. This means that particles traveling on the body streamline *instantly* change direction - which is impossible for any object with mass.\n",
    "\n",
    "Avoiding this impossibility is called the Kutta condition.\n",
    "\n",
    "##### Hydrodynamics fundamental: Kutta Condition\n",
    "##### Potential flow must separate from a sharp trailing edge\n",
    "\n",
    "This uniquely determines the correct solution $\\gamma_i$ and therefore $\\Gamma$ and the $C_L$. \n",
    "\n",
    "Additionally, this links the angle of attack $\\alpha$ to the lift. As $\\alpha$ is increased, the amount of circulation increases to enforce the Kutta condition. \n",
    "\n",
    "To enforce the Kutta condition in the vortex panel method, we need to convert it into a statement about the strength $\\gamma_i$. "
   ]
  },
  {
   "cell_type": "markdown",
   "metadata": {},
   "source": [
    "##### Quiz 4\n",
    "\n",
    "What condition on $\\gamma_i$ will enforce the Kutta conditions?\n",
    "\n",
    "1. $\\gamma=U_\\infty$ near the trailing edge\n",
    "1. $\\gamma=0$ near the trailing edge\n",
    "1. $\\gamma$ is antisymmetric near the trailing edge, ie $\\gamma(-s)=-\\gamma(s)$\n",
    "\n",
    "(Hint: Look at the sketch above. What does it tell you about $\\gamma$ near the trailing edge?)"
   ]
  },
  {
   "cell_type": "markdown",
   "metadata": {},
   "source": [
    "## Adjusted linear system\n",
    "\n",
    "Now we know the additional condition which makes the solution unique. I have implemented a new `solve_gamma_kutta` function, which is identical to `solve_gamma` but it enforces the condition above."
   ]
  },
  {
   "cell_type": "code",
   "execution_count": null,
   "metadata": {
    "collapsed": false
   },
   "outputs": [],
   "source": [
    "from VortexPanel import solve_gamma_kutta\n",
    "help(solve_gamma_kutta)"
   ]
  },
  {
   "cell_type": "markdown",
   "metadata": {},
   "source": [
    "And that's it! Let's try it out:"
   ]
  },
  {
   "cell_type": "code",
   "execution_count": null,
   "metadata": {
    "collapsed": false
   },
   "outputs": [],
   "source": [
    "alpha = numpy.pi/16             # angle of attack\n",
    "solve_gamma_kutta(foil,alpha)   # solve for gamma\n",
    "plot_flow(foil,alpha)           # plot the flow\n",
    "print('C_L ='+'%.2e'%C_L(foil))"
   ]
  },
  {
   "cell_type": "markdown",
   "metadata": {},
   "source": [
    "Compare to the figure above. This one has:\n",
    "\n",
    "- High speed flow on the top, leading to positive lift.\n",
    "- Clean separation from the trailing edge.\n",
    "- The circulation is unique for a given angle of attack."
   ]
  },
  {
   "cell_type": "markdown",
   "metadata": {},
   "source": [
    "## Numerical validation\n",
    "\n",
    "So, is the prediction any good?\n",
    "\n",
    "##### Numerical fundamental: Validation\n",
    "##### A method is validated by comparing the result to a known solution\n",
    "\n",
    "The exact solution for the lift on a Jukowski foil is\n",
    "\n",
    "$$C_L = 2\\pi \\left(1+\\frac 4{3\\sqrt 3} \\frac tc \\right)\\sin\\alpha$$\n",
    "\n",
    "where $t/c$ is the thickness to coord ratio."
   ]
  },
  {
   "cell_type": "markdown",
   "metadata": {},
   "source": [
    "##### Your turn #4\n",
    "\n",
    " - ** Complete ** the function to compute C_L for a given $\\alpha$ and geometry. \n",
    " - ** Compute ** the numerical C_L for $\\alpha=0,\\ldots,15^o$.\n",
    " - ** Plot and Compare ** the results against the analytic solution.\n",
    " - ** Discuss ** the results. Do they indicate the point of *stall*. Why or why not?"
   ]
  },
  {
   "cell_type": "code",
   "execution_count": null,
   "metadata": {
    "collapsed": false
   },
   "outputs": [],
   "source": [
    "def solve_C_L(panels,alpha):\n",
    "    # your code here\n",
    "    return C_L"
   ]
  },
  {
   "cell_type": "code",
   "execution_count": null,
   "metadata": {
    "collapsed": false
   },
   "outputs": [],
   "source": [
    "def jukowski_C_L(alpha,t_c=0.2): \n",
    "    return 2*numpy.pi*(1+4/3/numpy.sqrt(3)*t_c)*numpy.sin(alpha)\n",
    "\n",
    "foil = make_jukowski(N=32)\n",
    "alpha = numpy.linspace(0,15,6)*numpy.pi/180.\n",
    "pyplot.plot(alpha,jukowski_C_L(alpha), label='analytic')\n",
    "\n",
    "### your code here\n",
    "\n",
    "pyplot.legend(loc='lower right')\n",
    "pyplot.xlabel(r'$\\alpha$', fontsize=20)\n",
    "pyplot.ylabel(r'$C_L$', fontsize=20)"
   ]
  }
 ],
 "metadata": {
  "kernelspec": {
   "display_name": "Python 2",
   "language": "python",
   "name": "python2"
  },
  "language_info": {
   "codemirror_mode": {
    "name": "ipython",
    "version": 2
   },
   "file_extension": ".py",
   "mimetype": "text/x-python",
   "name": "python",
   "nbconvert_exporter": "python",
   "pygments_lexer": "ipython2",
   "version": "2.7.10"
  }
 },
 "nbformat": 4,
 "nbformat_minor": 0
}
