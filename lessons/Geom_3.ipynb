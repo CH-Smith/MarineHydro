{
 "cells": [
  {
   "cell_type": "markdown",
   "metadata": {},
   "source": [
    "# Mystery Geometry #3"
   ]
  },
  {
   "cell_type": "markdown",
   "metadata": {},
   "source": [
    "## Transverse pair of circles\n",
    "\n",
    "The geometry is a pair of circles transversely aligned to the flow, with center-to-center distance $d$.\n",
    "\n",
    "---\n",
    "\n",
    "##### Assignment\n",
    "\n",
    "Compute the lift force coefficient $C_L$ and the boundary layer separation location **on the top cylinder** for spacing $d/R=2.5,3.5,5,7$ using $N=128$ panels, and compare to the solutions for an isolated cylinder. "
   ]
  }
 ],
 "metadata": {
  "kernelspec": {
   "display_name": "Python 2",
   "language": "python",
   "name": "python2"
  },
  "language_info": {
   "codemirror_mode": {
    "name": "ipython",
    "version": 2
   },
   "file_extension": ".py",
   "mimetype": "text/x-python",
   "name": "python",
   "nbconvert_exporter": "python",
   "pygments_lexer": "ipython2",
   "version": "2.7.10"
  }
 },
 "nbformat": 4,
 "nbformat_minor": 0
}
