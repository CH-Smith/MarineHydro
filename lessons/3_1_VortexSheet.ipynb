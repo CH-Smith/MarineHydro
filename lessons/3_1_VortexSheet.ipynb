{
 "cells": [
  {
   "cell_type": "code",
   "execution_count": 1,
   "metadata": {
    "collapsed": false
   },
   "outputs": [
    {
     "data": {
      "text/html": [
       "<link href='http://fonts.googleapis.com/css?family=Fenix' rel='stylesheet' type='text/css'>\n",
       "<link href='http://fonts.googleapis.com/css?family=Alegreya+Sans:100,300,400,500,700,800,900,100italic,300italic,400italic,500italic,700italic,800italic,900italic' rel='stylesheet' type='text/css'>\n",
       "<link href='http://fonts.googleapis.com/css?family=Source+Code+Pro:300,400' rel='stylesheet' type='text/css'>\n",
       "<style>\n",
       "    @font-face {\n",
       "        font-family: \"Computer Modern\";\n",
       "        src: url('http://mirrors.ctan.org/fonts/cm-unicode/fonts/otf/cmunss.otf');\n",
       "    }\n",
       "    h1 {\n",
       "        font-family: 'Alegreya Sans', sans-serif;\n",
       "    }\n",
       "    h2 {\n",
       "        font-family: 'Fenix', serif;\n",
       "    }\n",
       "    h3{\n",
       "\t\tfont-family: 'Fenix', serif;\n",
       "        margin-top:12px;\n",
       "        margin-bottom: 3px;\n",
       "       }\n",
       "\th4{\n",
       "\t\tfont-family: 'Fenix', serif;\n",
       "       }\n",
       "    h5 {\n",
       "        font-family: 'Alegreya Sans', sans-serif;\n",
       "    }\t   \n",
       "    .CodeMirror{\n",
       "            font-family: \"Source Code Pro\";\n",
       "\t\t\tfont-size: 90%;\n",
       "    }\n",
       "/*    .prompt{\n",
       "        display: None;\n",
       "    }*/\n",
       "    .text_cell_render h1 {\n",
       "        font-weight: 200;\n",
       "        font-size: 50pt;\n",
       "\t\tline-height: 100%;\n",
       "        color:#CD2305;\n",
       "        margin-bottom: 0.5em;\n",
       "        margin-top: 0.5em;\n",
       "        display: block;\n",
       "    }\t\n",
       "    .text_cell_render h5 {\n",
       "        font-weight: 300;\n",
       "        font-size: 16pt;\n",
       "        color: #CD2305;\n",
       "        font-style: italic;\n",
       "        margin-bottom: .5em;\n",
       "        margin-top: 0.5em;\n",
       "        display: block;\n",
       "    }\n",
       "    \n",
       "    .warning{\n",
       "        color: rgb( 240, 20, 20 )\n",
       "        }  \n",
       "</style>\n",
       "<script>\n",
       "    MathJax.Hub.Config({\n",
       "                        TeX: {\n",
       "                           extensions: [\"AMSmath.js\"], \n",
       "                           equationNumbers: { autoNumber: \"AMS\", useLabelIds: true}\n",
       "                           },\n",
       "                tex2jax: {\n",
       "                    inlineMath: [ ['$','$'], [\"\\\\(\",\"\\\\)\"] ],\n",
       "                    displayMath: [ ['$$','$$'], [\"\\\\[\",\"\\\\]\"] ]\n",
       "                },\n",
       "                displayAlign: 'center', // Change this to 'center' to center equations.\n",
       "                \"HTML-CSS\": {\n",
       "                    styles: {'.MathJax_Display': {\"margin\": 4}}\n",
       "                }\n",
       "        });\n",
       "</script>\n"
      ],
      "text/plain": [
       "<IPython.core.display.HTML object>"
      ]
     },
     "execution_count": 1,
     "metadata": {},
     "output_type": "execute_result"
    }
   ],
   "source": [
    "from IPython.core.display import HTML\n",
    "def css_styling():\n",
    "    styles = open('../styles/custom.css', 'r').read()\n",
    "    return HTML(styles)\n",
    "css_styling()"
   ]
  },
  {
   "cell_type": "markdown",
   "metadata": {},
   "source": [
    "# Vortex sheets\n",
    "Our numerical method for 2D-potential flow will be developed using vortex sheets. In this first lesson, we derive the equations for a simple vortex sheet and plot the velocity fields."
   ]
  },
  {
   "cell_type": "markdown",
   "metadata": {},
   "source": [
    "## Potential Function\n",
    "Consider a 2D vortex sheet defined along a curve $\\cal S$. The sheet is characterized by a *strength* $\\gamma(s)$, where $s$ is the coordinate along the sheet. An infinitesimal segment of this sheet is an infinitesimal point-vortex with strength $d\\Gamma = \\gamma ds$. Therefore we can integrate the potential for a point vortex\n",
    "\n",
    "$$ \\phi = \\frac{\\Gamma}{2\\pi}\\theta $$\n",
    "\n",
    "to define the potential function for a vortex sheet as\n",
    "\n",
    "$$ \\phi(x,y) = \\int_{\\cal S} \\frac{\\gamma(s)}{2\\pi}\\theta(x,y,s)\\ ds $$\n",
    "\n",
    "where $\\theta$ is the angle from $s$ to the point at which we evaluate the potential. \n",
    "\n",
    "---\n",
    "![image](resources/graphics1.png)\n",
    "\n",
    "---\n",
    "\n",
    "For a vortex sheet defined from $-S,S$ along the $x$-axis, $\\theta=\\tan^{-1}(y/(x-s))$. If the strength is constant along the sheet, the potential is\n",
    "\n",
    "$$ \\phi(x,y) = \\frac{\\gamma}{2\\pi}\\int^S_{-S} \\tan^{-1}\\left(\\frac y{x-s}\\right)ds $$"
   ]
  },
  {
   "cell_type": "markdown",
   "metadata": {},
   "source": [
    "## Velocity Field\n",
    "\n",
    "The velocity is defined from the potential as\n",
    "\n",
    "$$ u = \\frac{\\partial\\phi}{\\partial x}, \\quad v = \\frac{\\partial\\phi}{\\partial y} $$\n",
    "\n",
    "Therefore, the $u$ velocity is\n",
    "\n",
    "$$u(x,y) = \\frac{\\gamma}{2\\pi}\\int^S_{-S} \\frac{-y}{y^2+(x-s)^2} ds $$\n",
    "\n",
    "substitute $t = (x-s)/y$, $dt = -ds/y$ and integrate to get\n",
    "\n",
    "$$u(x,y) = \\frac{\\gamma}{2\\pi}\\left[\\tan^{-1}\\left(\\frac{x-S}y\\right)-\\tan^{-1}\\left(\\frac{x+S}y\\right)\\right].$$\n",
    "\n",
    "While the $v$ velocity is\n",
    "\n",
    "$$v(x,y) = \\frac{\\gamma}{2\\pi}\\int^S_{-S} \\frac{x-s}{y^2+(x-s)^2} ds $$\n",
    "\n",
    "substitute $t = (x-s)^2+y^2$, $dt = -2(x-s)ds$ and integrate to get\n",
    "\n",
    "$$v(x,y) =\\frac{\\gamma}{4\\pi} \\log\\left(\\frac{(x+S)^2+y^2}{(x-S)^2+y^2}\\right).$$\n",
    "\n",
    "That's it! For a given $\\gamma$ and $S$ we can determine the velocity at any point $x,y$ by evaluating some $\\tan^{-1}$ and $\\log$ functions."
   ]
  },
  {
   "cell_type": "markdown",
   "metadata": {},
   "source": [
    "## Numerical implementation\n",
    "\n",
    "To visualize the velocity field we will discretize the background space into a uniform grid and evaluate the functions above at each point. \n",
    "\n",
    "We need to `import numpy` to do this. This imports numerical functions like `linspace` to evenly divide up a line segment into an array points, and `meshgrid` which takes two one-dimensional arrays and creates two two-dimensional arrays to fill the space.\n",
    "\n",
    "We also need to `import pyplot` which has a large set of plotting functions similar to matlab, such as a scatter plot."
   ]
  },
  {
   "cell_type": "code",
   "execution_count": null,
   "metadata": {
    "collapsed": false
   },
   "outputs": [],
   "source": [
    "# only need to import and set parameters once in a notebook #\n",
    "import numpy                             # import numerical library\n",
    "from matplotlib import pyplot            # import plot library\n",
    "%matplotlib inline\n",
    "\n",
    "# set up grid\n",
    "N = 30                          # number of points along each axis\n",
    "X = numpy.linspace(-2, 2, N)    # computes a 1D-array for x\n",
    "Y = numpy.linspace(-2, 2, N)    # computes a 1D-array for y\n",
    "x, y = numpy.meshgrid(X, Y)     # generates a mesh grid\n",
    "\n",
    "# plot it\n",
    "pyplot.scatter(x, y)            # plot grid points \n",
    "pyplot.xlabel('x')              # label x \n",
    "pyplot.ylabel('y')              # label y"
   ]
  },
  {
   "cell_type": "markdown",
   "metadata": {},
   "source": [
    "As expected, we get a grid of equally space points. You can change `N` in the code above and see how the resolution of this grid changes.\n",
    "\n",
    "Next, we use the equations above to determine the velocity at each point in terms of the source strength and sheet extents. Since we'll use this repeatedly, we will write it as a set of functions.\n",
    "\n",
    "\n",
    "##### Coding fundamental: Functions\n",
    "##### Don't ever write the same code twice!\n",
    "\n",
    "If you aren't familiar with defining functions in python, [read up](http://en.wikibooks.org/wiki/A_Beginner%27s_Python_Tutorial/Functions). \n",
    "\n",
    "So let's define function to evaluate the x-component and y-component derived above:"
   ]
  },
  {
   "cell_type": "code",
   "execution_count": null,
   "metadata": {
    "collapsed": false
   },
   "outputs": [],
   "source": [
    "def get_u( x, y, S, gamma ):\n",
    "    return gamma/(2*numpy.pi)*(numpy.arctan((x-S)/y)-numpy.arctan((x+S)/y))\n",
    "\n",
    "def get_v( x, y, S, gamma ):\n",
    "    return gamma/(4*numpy.pi)*(numpy.log(((x+S)**2+y**2)/((x-S)**2+y**2)))"
   ]
  },
  {
   "cell_type": "markdown",
   "metadata": {},
   "source": [
    "Not the prettiest equations, but nothing `numpy` can't handle. \n",
    "\n",
    "Now let's make a function to plot the flow. We'll use arrows to show the velocity vectors (`quiver`) and color contours to show the velocity magnitude (`contourf` with `colorbar` for the legend). "
   ]
  },
  {
   "cell_type": "code",
   "execution_count": null,
   "metadata": {
    "collapsed": false
   },
   "outputs": [],
   "source": [
    "def plot_uv(u,v):\n",
    "    pyplot.figure(figsize=(6,5))                    # set figure size\n",
    "    m = numpy.sqrt(u**2+v**2)                       # compute velocity magnitude\n",
    "    velocity = pyplot.contourf(x, y, m, vmin=0)     # plot magnitude contours\n",
    "    pyplot.quiver(x, y, u, v)                       # plot vector field\n",
    "    cbar = pyplot.colorbar(velocity)                # color bar\n",
    "    cbar.set_label('Velocity magnitude');           # label color\n",
    "    pyplot.xlabel('x')                              # label x\n",
    "    pyplot.ylabel('y')                              # label y"
   ]
  },
  {
   "cell_type": "markdown",
   "metadata": {},
   "source": [
    "Now we can compute the velocity on the grid and plot it"
   ]
  },
  {
   "cell_type": "code",
   "execution_count": null,
   "metadata": {
    "collapsed": false
   },
   "outputs": [],
   "source": [
    "# compute the velocity\n",
    "gamma = -4               # sheet strength\n",
    "S = 1                    # sheet extents\n",
    "u = get_u(x,y,S,gamma)\n",
    "v = get_v(x,y,S,gamma)\n",
    "\n",
    "# plot it\n",
    "plot_uv(u,v)\n",
    "pyplot.plot([-min(S,2),min(S,2)],[0,0],'k-',lw=2) # draw the vortex sheet"
   ]
  },
  {
   "cell_type": "markdown",
   "metadata": {},
   "source": [
    "##### Quiz 1\n",
    "\n",
    "What shape do the streamlines make when you are sufficiently far from the body?\n",
    "\n",
    "1. Ellipses\n",
    "2. Circles\n",
    "3. Straight lines \n",
    "\n",
    "(Hint: This is an *interactive* notebook - which parameter can you vary to answer the question?)"
   ]
  },
  {
   "cell_type": "markdown",
   "metadata": {},
   "source": [
    "##### Quiz 2\n",
    "\n",
    "What is the u,v velocity of points very near the center of the vortex sheet?\n",
    "\n",
    "1. $u=0,\\ v=\\sqrt\\gamma$\n",
    "2. $u=\\pm\\frac 12 \\gamma,\\ v=0$\n",
    "3. $u=\\pm\\gamma^2,\\ v=0$\n",
    "\n",
    "(Hint: $tan^{-1}(\\pm \\infty) = \\pm \\frac \\pi 2$ )"
   ]
  },
  {
   "cell_type": "markdown",
   "metadata": {},
   "source": [
    "## Background flow\n",
    "\n",
    "Next, lets add a uniform background flow with magnitude one at angle $\\alpha$.\n",
    "\n",
    "$$ U_\\infty = \\cos\\alpha,\\quad V_\\infty = \\sin\\alpha $$\n",
    "\n",
    "Using *superposition* the total velocity is just the sum of the vortex sheet and uniform flow."
   ]
  },
  {
   "cell_type": "code",
   "execution_count": null,
   "metadata": {
    "collapsed": false
   },
   "outputs": [],
   "source": [
    "alpha = numpy.pi/10      # free-stream angle\n",
    "U_inf = numpy.cos(alpha) # free-stream in x\n",
    "V_inf = numpy.sin(alpha) # free-stream in y\n",
    "\n",
    "# superimpose to get velocity\n",
    "gamma = -4               # sheet strength\n",
    "S = 0.5                  # sheet extents\n",
    "u = U_inf+get_u(x,y,S,gamma)\n",
    "v = V_inf+get_v(x,y,S,gamma)\n",
    "\n",
    "# plot it \n",
    "plot_uv(u,v)\n",
    "pyplot.plot([-min(S,2),min(S,2)],[0,0],'k-',lw=2) # draw the vortex sheet"
   ]
  },
  {
   "cell_type": "markdown",
   "metadata": {},
   "source": [
    "The dark blue circle is a stagnation point, ie the fluid has stopped, ie $u=v=0$."
   ]
  },
  {
   "cell_type": "markdown",
   "metadata": {},
   "source": [
    "##### Quiz 3\n",
    "\n",
    "How can you make the stagnation point touch the vortex sheet?\n",
    "\n",
    "1. Set $\\alpha=0$\n",
    "2. Set $\\gamma=\\pm 2 U_\\infty$\n",
    "3. Set $S = \\infty$"
   ]
  },
  {
   "cell_type": "markdown",
   "metadata": {},
   "source": [
    "## General vortex panel\n",
    "\n",
    "Finally, we would like to be able to compute the flow induced by a flat vortex sheet defined between any two points $x_0,y_0$ and $x_1,y_1$. A sheet so defined is called a *vortex panel*.  We could start from scratch, re-deriving the potential and velocity fields. But why would we want to do that?\n",
    "\n",
    "##### Coding fundamental: Reuse\n",
    "##### Recast problems to reuse existing code!\n",
    "\n",
    "By switching from the global coordinates to a *panel-based* coordinate system, we can transform any vortex panel to match our previous example. After computing the velocity using our old functions, we just need to rotate the vector back to the global coordinates.\n",
    "\n",
    "---\n",
    "![image](resources/graphics0.png)\n",
    "\n",
    "---"
   ]
  },
  {
   "cell_type": "markdown",
   "metadata": {},
   "source": [
    "## VortexPanel module\n",
    "\n",
    "I've written a set of functions which follows the method described above to define a general vortex panel and compute the velocity which it induces. These functions define a `Panel`, and are stored in the file `VortexPanel.py` in the same folder as this notebook.\n",
    "\n",
    "Just as we used `from matplotlib import pyplot` above, we can import `Panel` from the `VortexPanel` module:"
   ]
  },
  {
   "cell_type": "code",
   "execution_count": null,
   "metadata": {
    "collapsed": false
   },
   "outputs": [],
   "source": [
    "from VortexPanel import Panel"
   ]
  },
  {
   "cell_type": "markdown",
   "metadata": {},
   "source": [
    "This makes the `Panel` class available. You can use the `help` function to get a summary of the class without checking the code."
   ]
  },
  {
   "cell_type": "code",
   "execution_count": null,
   "metadata": {
    "collapsed": false
   },
   "outputs": [],
   "source": [
    "help(Panel)"
   ]
  },
  {
   "cell_type": "markdown",
   "metadata": {},
   "source": [
    "##### Quiz 4\n",
    "\n",
    "What is the function used to draw a panel named `p`?\n",
    "\n",
    "1. `p.plot()`\n",
    "1. `p.show()`\n",
    "1. `p.display()`"
   ]
  },
  {
   "cell_type": "markdown",
   "metadata": {},
   "source": [
    "Now we can define a general panel and compute its velocity using the `Panel.velocity()` function. "
   ]
  },
  {
   "cell_type": "code",
   "execution_count": null,
   "metadata": {
    "collapsed": false
   },
   "outputs": [],
   "source": [
    "# define panel\n",
    "my_panel = Panel(x0=-0.7,y0=0.5,x1=0.5,y1=-0.4,gamma=-2)\n",
    "\n",
    "# compute velocity on grid\n",
    "u,v = my_panel.velocity(x,y)\n",
    "\n",
    "# plot it\n",
    "plot_uv(u,v)      # plot the flow on the grid\n",
    "my_panel.plot()   # plot the panel"
   ]
  },
  {
   "cell_type": "markdown",
   "metadata": {},
   "source": [
    "##### Your turn #1\n",
    "\n",
    "Use superposition to compute a flow moving between **two** parallel plates with opposite vortex strength.\n",
    "\n",
    " - ** Complete ** the code below by adding the contribution of the panels.\n",
    " - ** Adjust ** the strength until the flow stagnates.\n",
    " - ** Discuss ** what types of flow you could model with more panels\n",
    "\n",
    "---\n",
    "\n",
    "##### Solution #1"
   ]
  },
  {
   "cell_type": "code",
   "execution_count": null,
   "metadata": {
    "collapsed": false
   },
   "outputs": [],
   "source": [
    "# Your turn!\n",
    "gamma = 1               # strength\n",
    "yc = 0.5                # spacing\n",
    "\n",
    "panel_1 = Panel(x0=-1,y0= yc,x1=1,y1= yc,gamma= gamma)\n",
    "panel_2 = Panel(x0=-1,y0=-yc,x1=1,y1=-yc,gamma=-gamma)\n",
    "\n",
    "u = numpy.ones_like(x)          # free-stream in x\n",
    "v = numpy.zeros_like(y)         # free-stream in y\n",
    "\n",
    "# compute velocity by superposition\n",
    "### your code here\n",
    "\n",
    "# plot it\n",
    "plot_uv(u, v)           # plot the flow on the grid\n",
    "panel_1.plot()          # plot panel_1\n",
    "panel_2.plot()          # plot panel_2"
   ]
  },
  {
   "cell_type": "code",
   "execution_count": null,
   "metadata": {
    "collapsed": true
   },
   "outputs": [],
   "source": []
  }
 ],
 "metadata": {
  "kernelspec": {
   "display_name": "Python 2",
   "language": "python",
   "name": "python2"
  },
  "language_info": {
   "codemirror_mode": {
    "name": "ipython",
    "version": 2
   },
   "file_extension": ".py",
   "mimetype": "text/x-python",
   "name": "python",
   "nbconvert_exporter": "python",
   "pygments_lexer": "ipython2",
   "version": "2.7.10"
  }
 },
 "nbformat": 4,
 "nbformat_minor": 0
}
