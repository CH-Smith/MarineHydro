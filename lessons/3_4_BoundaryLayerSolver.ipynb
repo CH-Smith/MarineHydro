{
 "cells": [
  {
   "cell_type": "code",
   "execution_count": 1,
   "metadata": {
    "collapsed": false
   },
   "outputs": [
    {
     "data": {
      "text/html": [
       "<link href='http://fonts.googleapis.com/css?family=Fenix' rel='stylesheet' type='text/css'>\n",
       "<link href='http://fonts.googleapis.com/css?family=Alegreya+Sans:100,300,400,500,700,800,900,100italic,300italic,400italic,500italic,700italic,800italic,900italic' rel='stylesheet' type='text/css'>\n",
       "<link href='http://fonts.googleapis.com/css?family=Source+Code+Pro:300,400' rel='stylesheet' type='text/css'>\n",
       "<style>\n",
       "    @font-face {\n",
       "        font-family: \"Computer Modern\";\n",
       "        src: url('http://mirrors.ctan.org/fonts/cm-unicode/fonts/otf/cmunss.otf');\n",
       "    }\n",
       "    h1 {\n",
       "        font-family: 'Alegreya Sans', sans-serif;\n",
       "    }\n",
       "    h2 {\n",
       "        font-family: 'Fenix', serif;\n",
       "    }\n",
       "    h3{\n",
       "\t\tfont-family: 'Fenix', serif;\n",
       "        margin-top:12px;\n",
       "        margin-bottom: 3px;\n",
       "       }\n",
       "\th4{\n",
       "\t\tfont-family: 'Fenix', serif;\n",
       "       }\n",
       "    h5 {\n",
       "        font-family: 'Alegreya Sans', sans-serif;\n",
       "    }\n",
       "    .CodeMirror{\n",
       "            font-family: \"Source Code Pro\";\n",
       "\t\t\tfont-size: 90%;\n",
       "    }\n",
       "/*    .prompt{\n",
       "        display: None;\n",
       "    }*/\n",
       "    .text_cell_render h1 {\n",
       "        font-weight: 200;\n",
       "        font-size: 50pt;\n",
       "\t\tline-height: 100%;\n",
       "        color:#CD2305;\n",
       "        margin-bottom: 0.5em;\n",
       "        margin-top: 0.5em;\n",
       "        display: block;\n",
       "    }\n",
       "    .text_cell_render h5 {\n",
       "        font-weight: 300;\n",
       "        font-size: 16pt;\n",
       "        color: #CD2305;\n",
       "        font-style: italic;\n",
       "        margin-bottom: .5em;\n",
       "        margin-top: 0.5em;\n",
       "        display: block;\n",
       "    }\n",
       "\n",
       "    .warning{\n",
       "        color: rgb( 240, 20, 20 )\n",
       "        }\n",
       "</style>\n",
       "<style>\n",
       "  img[alt=short] { height: 200px; }\n",
       "  img[alt=medium] { height: 300px; }\n",
       "</style>\n",
       "<script>\n",
       "    MathJax.Hub.Config({\n",
       "                        TeX: {\n",
       "                           extensions: [\"AMSmath.js\"],\n",
       "                           equationNumbers: { autoNumber: \"AMS\", useLabelIds: true}\n",
       "                           },\n",
       "                tex2jax: {\n",
       "                    inlineMath: [ ['$','$'], [\"\\\\(\",\"\\\\)\"] ],\n",
       "                    displayMath: [ ['$$','$$'], [\"\\\\[\",\"\\\\]\"] ]\n",
       "                },\n",
       "                displayAlign: 'center', // Change this to 'center' to center equations.\n",
       "                \"HTML-CSS\": {\n",
       "                    styles: {'.MathJax_Display': {\"margin\": 4}}\n",
       "                }\n",
       "        });\n",
       "</script>\n"
      ],
      "text/plain": [
       "<IPython.core.display.HTML object>"
      ]
     },
     "execution_count": 1,
     "metadata": {},
     "output_type": "execute_result"
    }
   ],
   "source": [
    "from IPython.core.display import HTML\n",
    "def css_styling():\n",
    "    styles = open('../styles/custom.css', 'r').read()\n",
    "    return HTML(styles)\n",
    "css_styling()"
   ]
  },
  {
   "cell_type": "markdown",
   "metadata": {},
   "source": [
    "# Boundary Layer Solver\n",
    "\n",
    "This section will develop a numerical method for solving the boundary layer momentum integral equation using Pohlhausen velocity profiles."
   ]
  },
  {
   "cell_type": "markdown",
   "metadata": {},
   "source": [
    "## Momentum integral equation\n",
    "\n",
    "In the boundary layer portion of the course we derived the governing equations for a boundary layer using the concept of a velocity profile \n",
    "\n",
    "$$u = u_e(x) f(\\eta), \\quad \\eta=\\frac y{\\delta(x)}$$\n",
    "\n",
    "where $u_e$ is the local free stream velocity and $\\delta$ is the boundary layer thickness. Note that $x$ is the distance along the wall from the leading edge and $y$ is the distance from the wall.\n",
    "\n",
    "---\n",
    "<img src=\"resources/graphics4.png\" width=\"400\">\n",
    "\n",
    "---\n",
    "\n",
    "Integrating the Prandtl momentum equation through the boundary layer thickness resulted in the **momentum integral equation**\n",
    "\n",
    "$$ \\frac 12 c_f = \\frac{u_e'}{u_e}(\\delta_1+2\\delta_2)+\\delta_2' $$\n",
    "\n",
    "This equation balances the local wall friction with the change in the boundary layer profile properties. The tick mark indicates a derivative, ie $u_e'=\\frac{du_e}{dx}$. \n",
    "\n",
    "** The goal is to use the momentum equation to determine how the boundary layer develops, predicting the friction drag and the point of separation. **\n",
    "\n",
    "The velocity $u_e$ (and $u_e'$) is considered to be prescribed by the potential flow solution, but there are still too many unknowns. We need to choose a profile to develop this further..."
   ]
  },
  {
   "cell_type": "markdown",
   "metadata": {},
   "source": [
    "## Pohlhausen profile\n",
    "\n",
    "The Pohlhausen profile is used to describe a **laminar** velocity profile exposed to external pressure gradients. The profile is defined as\n",
    "\n",
    "$$ \\frac u {u_e} = f(\\eta,\\lambda) = P_F(\\eta)+\\lambda P_G(\\eta) $$\n",
    "\n",
    "where $\\lambda$ is the *shape factor*, given by\n",
    "$$ \\lambda = \\frac {\\delta^2}\\nu u_e'$$\n",
    "\n",
    "and the profile shapes are defined by\n",
    "\n",
    "- $P_F = 2\\eta-2\\eta^3+\\eta^4$ is the flat plate profile\n",
    "- $P_G = \\frac\\eta 6 (1-\\eta)^3$ is the modification for pressure gradients\n",
    "\n",
    "These can be easly defined using a set of python functions"
   ]
  },
  {
   "cell_type": "code",
   "execution_count": null,
   "metadata": {
    "collapsed": false
   },
   "outputs": [],
   "source": [
    "from matplotlib import pyplot\n",
    "%matplotlib inline\n",
    "import numpy\n",
    "\n",
    "def pohlF(eta): return 2*eta-2*eta**3+eta**4\n",
    "def pohlG(eta): return eta/6*(1-eta)**3\n",
    "\n",
    "def pohlPlot(lam):\n",
    "    pyplot.figure(figsize=(5,5))\n",
    "    pyplot.xlabel(r'$u/u_e$', fontsize=24)\n",
    "    pyplot.ylabel(r'$y/\\delta$', fontsize=24)\n",
    "    eta = numpy.linspace(0.0,1.0)\n",
    "    pyplot.plot(pohlF(eta),eta, ls='--', label=r'$f(0)$')\n",
    "    pyplot.plot(pohlF(eta)+lam*pohlG(eta),eta, lw=2, label=r'$f(\\lambda)$')\n",
    "    pyplot.legend(loc='upper left', fontsize=16)"
   ]
  },
  {
   "cell_type": "markdown",
   "metadata": {},
   "source": [
    "Change $\\lambda$ below to see its effect on the profile shape."
   ]
  },
  {
   "cell_type": "code",
   "execution_count": null,
   "metadata": {
    "collapsed": false
   },
   "outputs": [],
   "source": [
    "pohlPlot(lam=12)"
   ]
  },
  {
   "cell_type": "markdown",
   "metadata": {},
   "source": [
    "##### Quiz\n",
    "\n",
    "What value of $\\lambda$ denotes separated flow?\n",
    "\n",
    "1. $\\lambda$<-12\n",
    "1. $\\lambda$=0\n",
    "1. $\\lambda$>12"
   ]
  },
  {
   "cell_type": "markdown",
   "metadata": {},
   "source": [
    "---\n",
    "\n",
    "Using the Pohlhausen profile, the factors in the momentum integral equation can be defined as functions of $\\lambda$\n",
    "\n",
    "- $\\frac{\\delta_1}\\delta = \\int_0^1 (1-f) d\\eta = \\frac3{10}-\\lambda\\frac1{120}$\n",
    "\n",
    "\n",
    "- $\\frac{\\delta_2}\\delta = \\int_0^1 f(1-f) d\\eta = \\frac{37}{315}-\\lambda\\frac1{945}-\\lambda^2\\frac1{9072}$\n",
    "\n",
    "\n",
    "- $\\frac 12 c_f Re_\\delta =f'_0= 2+\\lambda\\frac1{6}$\n",
    "\n",
    "where $Re_\\delta = \\frac{u_e\\delta}\\nu$ is the local boundary layer Reynolds number. \n",
    "\n",
    "I've implemented these in the `BoundaryLayer` module (which I'll nickname `bl`) as `disp_ratio`, `mom_ratio`, and `df_0`:"
   ]
  },
  {
   "cell_type": "code",
   "execution_count": null,
   "metadata": {
    "collapsed": false
   },
   "outputs": [],
   "source": [
    "import BoundaryLayer as bl\n",
    "\n",
    "pyplot.figure(figsize=(5,5))\n",
    "pyplot.xlabel(r'$\\lambda$', fontsize=20)\n",
    "lam = numpy.linspace(-12,12)\n",
    "pyplot.plot(lam,bl.disp_ratio(lam), lw=2, label=r'$\\delta_1/\\delta$')\n",
    "pyplot.plot(lam,bl.mom_ratio(lam), lw=2, label=r'$F=\\delta_2/\\delta$')\n",
    "pyplot.legend(loc='upper right',fontsize=16)"
   ]
  },
  {
   "cell_type": "markdown",
   "metadata": {},
   "source": [
    "## Pohlhausen evolution equation\n",
    "\n",
    "Now we will write the integral momentum equation in terms of $\\lambda$. First, we scale the momentum equation by $Re_\\delta$:\n",
    "\n",
    "$$ \\frac 12 c_f Re_\\delta = \\frac\\delta\\nu u_e' [\\delta_1+2\\delta_2]+Re_\\delta \\delta_2'$$ \n",
    "\n",
    "Substituting $\\frac 12 c_f Re_\\delta=f'_0$ and $\\delta^2 u_e'/\\nu=\\lambda$ we have:\n",
    "\n",
    "$$ f'_0 = \\lambda \\left[\\frac{\\delta_1}{\\delta}+2\\frac{\\delta_2}\\delta\\right]+Re_\\delta \\delta_2'$$\n",
    "\n",
    "This lets us write the momentum equation as \n",
    "\n",
    "$$ g_1(\\lambda) = Re_\\delta \\delta_2'$$ \n",
    "\n",
    "where $g_1$ combines as the terms dependant on $\\lambda$ alone:\n",
    "\n",
    "$$ g_1(\\lambda) = f'_0(\\lambda) - \\lambda \\left[\\frac{\\delta_1}{\\delta}(\\lambda)+2\\frac{\\delta_2}\\delta(\\lambda)\\right]$$\n",
    "\n",
    "```python\n",
    "def g_1(lam): \n",
    "    return df_0(lam)-lam*(disp_ratio(lam)+2*mom_ratio(lam))\n",
    "```"
   ]
  },
  {
   "cell_type": "markdown",
   "metadata": {},
   "source": [
    "The only thing left to do is write $\\delta_2'$ in terms of $\\delta'$. Using $F=\\frac{\\delta_2}\\delta$ we have\n",
    "\n",
    "$$ \\delta_2' = \\frac{d}{dx}(F\\delta) = F\\delta'+F'\\delta $$\n",
    "\n",
    "Since $F$ is nearly constant across the whole range of $\\lambda$ (see the plot above) and $\\delta$ is small, we can safely ignore the last term and write\n",
    "\n",
    "$$ g_1 = Re_\\delta F \\delta'$$\n",
    "\n",
    "Isolating the derivative, we have\n",
    "\n",
    "$$ \\delta'= \\frac{g_1(\\lambda)}{Re_\\delta F(\\lambda)} $$\n",
    "\n",
    "```python\n",
    "def ddx_delta(Re_d,lam):\n",
    "    if Re_d==0: return 0                     # Stagnation point condition\n",
    "    return g_1(lam)/(Re_d*mom_ratio(lam))    # delta'\n",
    "```\n",
    "\n",
    "This is the Pohlhausen equation for the growth of the boundary layer. "
   ]
  },
  {
   "cell_type": "markdown",
   "metadata": {},
   "source": [
    "##### Quiz\n",
    "\n",
    "The rate of change of $\\delta$ depends on which unknowns?\n",
    "\n",
    "1. $Re_\\delta,\\lambda$\n",
    "1. $u_e,u_e',\\nu$\n",
    "1. $\\delta$\n",
    "\n",
    "---"
   ]
  },
  {
   "cell_type": "markdown",
   "metadata": {},
   "source": [
    "## Ordinary differential equations\n",
    "\n",
    "The $\\delta$ evolution equation above is an ordinary differential equation (ODE), having the form\n",
    "\n",
    "$$ \\delta' = g(\\delta(x),x) $$\n",
    "\n",
    "where the derivative is only a function of the variable and one independent variable $x$. All ODEs have an important feature in common:\n",
    "\n",
    "##### Mathematics fundamental: ODEs\n",
    "##### Systems' whose evolution depends only on their current state \n",
    "\n",
    "This makes them easier to solve. If we integrate the ODE from the starting point $x_0$ to point $x_1$, we have\n",
    "\n",
    "$$ \\delta(x_1) = \\delta_0+\\int_{x_0}^{x_1} g(\\delta(x),x) dx$$\n",
    "\n",
    "where $\\delta_0=\\delta(x_0)$ is the initial condition on $\\delta$. As long we have an initial condition and choose $x_1$ such that $|x_1-x_0|$ is small, then we can easily approximate this integral and solve for $\\delta(x_1)$. And once we have $\\delta(x_1)$ we can get $\\delta(x_2)$, and so on. \n",
    "\n",
    "In general we have\n",
    "\n",
    "$$ \\delta(x_{i+1})= \\delta(x_i)+\\int_{x_i}^{x_{i+1}} g(\\delta(x),x) dx  \\quad i=0,\\ldots, N-1$$\n",
    "\n",
    "This means the ODE can be solved by *marching* from $x_0$ to $x_{N-1}$."
   ]
  },
  {
   "cell_type": "markdown",
   "metadata": {},
   "source": [
    "##### Quiz\n",
    "\n",
    "Assuming the same $N$, how long will it take to solve the Pohlhausen equation compared to the vortex panel equation?\n",
    "\n",
    "1. Marching will take **less** time\n",
    "1. Marching will take **the same** amount of time\n",
    "1. Marching will take **more** time\n",
    "\n",
    "---"
   ]
  },
  {
   "cell_type": "markdown",
   "metadata": {},
   "source": [
    "## Stagnation point condition\n",
    "\n",
    "Since the equation is an ODE we can easily and quickly march to find $\\delta(x)$ once we have an initial condition $\\delta_0$. \n",
    "\n",
    "For any body with finite thickness the boundary layer will begin at the stagnation point where $u_e=0$ at the front of the body.\n",
    "\n",
    "<img src=\"resources/stagnation.png\" width=\"400\">"
   ]
  },
  {
   "cell_type": "markdown",
   "metadata": {},
   "source": [
    "Given that the Pohlhausen equation is $g_1 = Re_\\delta F \\delta' $, and $Re_\\delta = u_e \\delta/\\nu=0$ at the stagnation point we simply have:\n",
    "\n",
    "$$g_1(\\lambda) = 0$$\n",
    "\n",
    "Solving this equations will determine our *initial condition* $\\lambda_0$. Using my vast [google skills](http://lmgtfy.com/?q=numpy+find+root&l=1) I found the `bisect` function in `scipy.optimize` which will solve for the root.\n",
    "\n",
    "```python\n",
    "from scipy.optimize import bisect\n",
    "lam0 = bisect(g_1,-12,12)\n",
    "```"
   ]
  },
  {
   "cell_type": "code",
   "execution_count": null,
   "metadata": {
    "collapsed": false
   },
   "outputs": [],
   "source": [
    "print('lambda_0 = '+'%.3f'%bl.lam0)"
   ]
  },
  {
   "cell_type": "markdown",
   "metadata": {},
   "source": [
    "##### Quiz\n",
    "\n",
    "Given that $\\delta'\\propto g_1$, what will happen if $\\lambda>\\lambda_0$?\n",
    "\n",
    "1. Flat plate boundary layer flow.\n",
    "1. The boundary layer will shrink.\n",
    "1. The Pohlausen equation will be singular.\n",
    "\n",
    "hint:"
   ]
  },
  {
   "cell_type": "code",
   "execution_count": null,
   "metadata": {
    "collapsed": false
   },
   "outputs": [],
   "source": [
    "pyplot.plot(lam,bl._g_1(lam), lw=2)\n",
    "pyplot.xlabel(r'$\\lambda$', fontsize=16)\n",
    "pyplot.ylabel(r'$g_1$', fontsize=16)\n",
    "pyplot.scatter(bl.lam0,0, s=100, c='r')\n",
    "pyplot.text(bl.lam0,0.5, r'$\\lambda_0$',fontsize=15)"
   ]
  },
  {
   "cell_type": "markdown",
   "metadata": {},
   "source": [
    "---\n",
    "\n",
    "With the value of $\\lambda_0$ determined, the initial condition $\\delta_0$ is simply\n",
    "\n",
    "$$ \\delta_0 = \\sqrt{\\frac{\\nu \\lambda_0}{u_e'}} $$\n",
    "\n",
    "And with $\\delta_0$ defined, __we can now march to find $\\delta(x)$__."
   ]
  },
  {
   "cell_type": "markdown",
   "metadata": {},
   "source": [
    "## Boundary layer module\n",
    "\n",
    "The function `BoundaryLayer.march` integrates the boundary layer ODE defined by `ddx_delta` above. Let's look at the `help`:"
   ]
  },
  {
   "cell_type": "code",
   "execution_count": null,
   "metadata": {
    "collapsed": false
   },
   "outputs": [],
   "source": [
    "help(bl.march)"
   ]
  },
  {
   "cell_type": "markdown",
   "metadata": {},
   "source": [
    "You should read that carefully to complete the assignment below. \n",
    "\n",
    "For now, let's test is against the flat plate solution:"
   ]
  },
  {
   "cell_type": "code",
   "execution_count": null,
   "metadata": {
    "collapsed": false
   },
   "outputs": [],
   "source": [
    "N=32; nu=1e-5                       # number of steps and k.visc.\n",
    "x = numpy.linspace(1./N,2-1./N,N)   # distance from leading edge\n",
    "u_e = numpy.ones_like(x)            # flat plate (uniform) external velocity\n",
    "delta,lam,iSep = bl.march(x,u_e,nu) # MARCH!\n",
    "\n",
    "pyplot.plot(x,5.836*numpy.sqrt(nu*x),'o',label='analytic')\n",
    "pyplot.plot(x,delta,label='march result')\n",
    "pyplot.ylabel(r'$\\delta$', fontsize=16)\n",
    "pyplot.xlabel(r'$x$', fontsize=16)\n",
    "pyplot.legend(loc='lower right')"
   ]
  },
  {
   "cell_type": "markdown",
   "metadata": {},
   "source": [
    "Looks very good. Of course, there was no point in doing this numerically if we only wanted the flat plate solution..."
   ]
  },
  {
   "cell_type": "markdown",
   "metadata": {},
   "source": [
    "##### Your turn #4\n",
    "\n",
    "The function `wedge_u_e` gives the potential flow velocity on the surface of a point-forward wedge\n",
    "\n",
    "$$ u_e = U x^{\\beta/(2-\\beta)}$$\n",
    "\n",
    "where $\\pi\\beta$ is the wedge angle and $U=1$ is the free stream velocity. Use it to complete the following coursework for $\\beta=1/16,1/8,1/4,1/2$:\n",
    "\n",
    "- ** Plot and Compare ** the predicted wedge boundary layer thicknesses againt the Pohlhausen flat plate solution for $x=0\\ldots10$\n",
    "- ** Complete ** the $c_f$ function for the local fiction coefficient \n",
    "- ** Plot and Compare ** the predicted friction coefficients against the flat plate solution\n",
    "- ** Complete ** the $C_F$ function for the integrated friction coefficient\n",
    "$$C_F = \\frac{\\int_0^L \\tau_w dx}{\\frac 12 \\rho U^2 L }$$\n",
    "where \n",
    "$$ \\tau_w = \\frac 12 c_f \\rho u_e^2 $$\n",
    "- ** Plot and Compare ** to the flat plate solution \n",
    "\n",
    "---"
   ]
  },
  {
   "cell_type": "markdown",
   "metadata": {},
   "source": [
    "##### Solution #4\n",
    "\n",
    "The boundary layer thickness."
   ]
  },
  {
   "cell_type": "code",
   "execution_count": null,
   "metadata": {
    "collapsed": false
   },
   "outputs": [],
   "source": [
    "N=64; nu=1e-5\n",
    "x = numpy.logspace(-4,1,N)\n",
    "beta_list = [0.0625,0.125,0.25,0.5]\n",
    "\n",
    "def wedge_u_e(x, beta): \n",
    "    return x**(beta/(2-beta))\n",
    "\n",
    "pyplot.plot(x,5.836*numpy.sqrt(nu*x),label='flat plate')\n",
    "\n",
    "# your code here\n",
    "\n",
    "pyplot.ylabel(r'$\\delta$', fontsize=16)\n",
    "pyplot.xlabel(r'$x$', fontsize=16)\n",
    "pyplot.legend(loc='lower right')"
   ]
  },
  {
   "cell_type": "markdown",
   "metadata": {},
   "source": [
    "The local friction coefficient."
   ]
  },
  {
   "cell_type": "code",
   "execution_count": null,
   "metadata": {
    "collapsed": false
   },
   "outputs": [],
   "source": [
    "def c_f(u_e,delta,lam,nu):\n",
    "    return # your code here\n",
    "\n",
    "pyplot.plot(x,0.685*numpy.sqrt(nu/x),label='flat plate')\n",
    "\n",
    "# your code here\n",
    "\n",
    "pyplot.legend(loc='upper right')\n",
    "pyplot.ylabel(r'$c_f$', fontsize=16)\n",
    "pyplot.xlabel(r'$x$', fontsize=16)\n",
    "pyplot.yscale('log')"
   ]
  },
  {
   "cell_type": "markdown",
   "metadata": {},
   "source": [
    "The global friction coefficient."
   ]
  },
  {
   "cell_type": "code",
   "execution_count": null,
   "metadata": {
    "collapsed": false
   },
   "outputs": [],
   "source": [
    "def C_F(u_e,delta,lam,nu,x):\n",
    "    dx = numpy.gradient(x) # spacing\n",
    "    L = x[-1]              # length\n",
    "    return # your code here\n",
    "\n",
    "pyplot.plot(0,[1.33*numpy.sqrt(nu/x[-1])],'o')\n",
    "\n",
    "# your code here\n",
    "\n",
    "pyplot.ylabel(r'$C_F$', fontsize=16)\n",
    "pyplot.xlabel(r'$\\beta$', fontsize=16)"
   ]
  }
 ],
 "metadata": {
  "kernelspec": {
   "display_name": "Python 2",
   "language": "python",
   "name": "python2"
  },
  "language_info": {
   "codemirror_mode": {
    "name": "ipython",
    "version": 2
   },
   "file_extension": ".py",
   "mimetype": "text/x-python",
   "name": "python",
   "nbconvert_exporter": "python",
   "pygments_lexer": "ipython2",
   "version": "2.7.10"
  }
 },
 "nbformat": 4,
 "nbformat_minor": 0
}
