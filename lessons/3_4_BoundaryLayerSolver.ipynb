{
 "cells": [
  {
   "cell_type": "code",
   "execution_count": 1,
   "metadata": {
    "collapsed": false
   },
   "outputs": [
    {
     "data": {
      "text/html": [
       "<link href='http://fonts.googleapis.com/css?family=Fenix' rel='stylesheet' type='text/css'>\n",
       "<link href='http://fonts.googleapis.com/css?family=Alegreya+Sans:100,300,400,500,700,800,900,100italic,300italic,400italic,500italic,700italic,800italic,900italic' rel='stylesheet' type='text/css'>\n",
       "<link href='http://fonts.googleapis.com/css?family=Source+Code+Pro:300,400' rel='stylesheet' type='text/css'>\n",
       "<style>\n",
       "    @font-face {\n",
       "        font-family: \"Computer Modern\";\n",
       "        src: url('http://mirrors.ctan.org/fonts/cm-unicode/fonts/otf/cmunss.otf');\n",
       "    }\n",
       "    h1 {\n",
       "        font-family: 'Alegreya Sans', sans-serif;\n",
       "    }\n",
       "    h2 {\n",
       "        font-family: 'Fenix', serif;\n",
       "    }\n",
       "    h3{\n",
       "\t\tfont-family: 'Fenix', serif;\n",
       "        margin-top:12px;\n",
       "        margin-bottom: 3px;\n",
       "       }\n",
       "\th4{\n",
       "\t\tfont-family: 'Fenix', serif;\n",
       "       }\n",
       "    h5 {\n",
       "        font-family: 'Alegreya Sans', sans-serif;\n",
       "    }\n",
       "/*    .CodeMirror{\n",
       "            font-family: \"Source Code Pro\";\n",
       "\t\t\tfont-size: 90%;\n",
       "    }*/\n",
       "/*    .prompt{\n",
       "        display: None;\n",
       "    }*/\n",
       "    .text_cell_render h1 {\n",
       "        font-weight: 200;\n",
       "        font-size: 50pt;\n",
       "\t\tline-height: 100%;\n",
       "        color:#CD2305;\n",
       "        margin-bottom: 0.5em;\n",
       "        margin-top: 0.5em;\n",
       "        display: block;\n",
       "    }\n",
       "    .text_cell_render h5 {\n",
       "        font-weight: 300;\n",
       "        font-size: 16pt;\n",
       "        color: #CD2305;\n",
       "        font-style: italic;\n",
       "        margin-bottom: .5em;\n",
       "        margin-top: 0.5em;\n",
       "        display: block;\n",
       "    }\n",
       "\n",
       "    .warning{\n",
       "        color: rgb( 240, 20, 20 )\n",
       "        }\n",
       "</style>\n",
       "<style>\n",
       "  img[alt=short] { height: 200px; }\n",
       "  img[alt=medium] { height: 300px; }\n",
       "</style>\n",
       "<script>\n",
       "    MathJax.Hub.Config({\n",
       "                        TeX: {\n",
       "                           extensions: [\"AMSmath.js\"],\n",
       "                           equationNumbers: { autoNumber: \"AMS\", useLabelIds: true}\n",
       "                           },\n",
       "                tex2jax: {\n",
       "                    inlineMath: [ ['$','$'], [\"\\\\(\",\"\\\\)\"] ],\n",
       "                    displayMath: [ ['$$','$$'], [\"\\\\[\",\"\\\\]\"] ]\n",
       "                },\n",
       "                displayAlign: 'center', // Change this to 'center' to center equations.\n",
       "                \"HTML-CSS\": {\n",
       "                    styles: {'.MathJax_Display': {\"margin\": 4}}\n",
       "                }\n",
       "        });\n",
       "</script>\n"
      ],
      "text/plain": [
       "<IPython.core.display.HTML object>"
      ]
     },
     "execution_count": 1,
     "metadata": {},
     "output_type": "execute_result"
    }
   ],
   "source": [
    "from IPython.core.display import HTML\n",
    "def css_styling():\n",
    "    styles = open('../styles/custom.css', 'r').read()\n",
    "    return HTML(styles)\n",
    "css_styling()"
   ]
  },
  {
   "cell_type": "markdown",
   "metadata": {},
   "source": [
    "# Boundary Layer Solver\n",
    "\n",
    "This section will develop a numerical method for solving the boundary layer momentum integral equation using Pohlhausen velocity profiles."
   ]
  },
  {
   "cell_type": "markdown",
   "metadata": {},
   "source": [
    "## Momentum integral equation\n",
    "\n",
    "In the boundary layer portion of the course we derived the governing equations for a boundary layer using the concept of a velocity profile \n",
    "\n",
    "$$u = u_e(x) f(\\eta), \\quad \\eta=\\frac y{\\delta(x)}$$\n",
    "\n",
    "where $u_e$ is the local free stream velocity and $\\delta$ is the boundary layer thickness. Note that $x$ is the distance along the wall from the leading edge and $y$ is the distance from the wall.\n",
    "\n",
    "---\n",
    "<img src=\"resources/graphics4.png\" width=\"400\">\n",
    "\n",
    "---\n",
    "\n",
    "Integrating the Prandtl momentum equation through the boundary layer thickness resulted in the **momentum integral equation**\n",
    "\n",
    "$$ \\frac 12 c_f = \\frac{u_e'}{u_e}(\\delta_1+2\\delta_2)+\\delta_2' $$\n",
    "\n",
    "This equation balances the local wall friction with the change in the boundary layer profile properties. The tick mark indicates a derivative, ie $u_e'=\\frac{du_e}{dx}$. \n",
    "\n",
    "** The goal is to use the momentum equation to determine how the boundary layer develops, predicting the friction drag and the point of separation. **\n",
    "\n",
    "The velocity $u_e$ (and $u_e'$) is considered to be prescribed by the potential flow solution, but there are still too many unknowns. We need to choose a profile to develop this further..."
   ]
  },
  {
   "cell_type": "markdown",
   "metadata": {},
   "source": [
    "## Pohlhausen profile\n",
    "\n",
    "The Pohlhausen profile is used to describe a **laminar** velocity profile exposed to external pressure gradients. The profile is defined as\n",
    "\n",
    "$$ \\frac u {u_e} = f(\\eta,\\lambda) = P_F(\\eta)+\\lambda P_G(\\eta) $$\n",
    "\n",
    "where $\\lambda$ is the *shape factor*, given by\n",
    "$$ \\lambda = \\frac {\\delta^2}\\nu u_e'$$\n",
    "\n",
    "and the profile shapes are defined by\n",
    "\n",
    "- $P_F = 2\\eta-2\\eta^3+\\eta^4$ is the flat plate profile\n",
    "- $P_G = \\frac\\eta 6 (1-\\eta)^3$ is the modification for pressure gradients\n",
    "\n",
    "These can be easly defined using a set of python functions"
   ]
  },
  {
   "cell_type": "code",
   "execution_count": null,
   "metadata": {
    "collapsed": false
   },
   "outputs": [],
   "source": [
    "from matplotlib import pyplot\n",
    "%matplotlib inline\n",
    "import numpy\n",
    "\n",
    "def pohlF(eta): return 2*eta-2*eta**3+eta**4\n",
    "def pohlG(eta): return eta/6*(1-eta)**3\n",
    "\n",
    "def pohlPlot(lam):\n",
    "    pyplot.figure(figsize=(5,5))\n",
    "    pyplot.xlabel(r'$u/u_e$', fontsize=24)\n",
    "    pyplot.ylabel(r'$y/\\delta$', fontsize=24)\n",
    "    eta = numpy.linspace(0.0,1.0)\n",
    "    pyplot.plot(pohlF(eta),eta, ls='--', label=r'$f(0)$')\n",
    "    pyplot.plot(pohlF(eta)+lam*pohlG(eta),eta, lw=2, label=r'$f(\\lambda)$')\n",
    "    pyplot.legend(loc='upper left', fontsize=16)"
   ]
  },
  {
   "cell_type": "markdown",
   "metadata": {},
   "source": [
    "Change $\\lambda$ below to see its effect on the profile shape."
   ]
  },
  {
   "cell_type": "code",
   "execution_count": null,
   "metadata": {
    "collapsed": false
   },
   "outputs": [],
   "source": [
    "pohlPlot(lam=12)"
   ]
  },
  {
   "cell_type": "markdown",
   "metadata": {},
   "source": [
    "##### Quiz\n",
    "\n",
    "What value of $\\lambda$ denotes separated flow?\n",
    "\n",
    "1. $\\lambda$<-12\n",
    "1. $\\lambda$=0\n",
    "1. $\\lambda$>12"
   ]
  },
  {
   "cell_type": "markdown",
   "metadata": {},
   "source": [
    "---\n",
    "\n",
    "Using the Pohlhausen profile, the factors in the momentum integral equation can be defined as functions of $\\lambda$\n",
    "\n",
    "- $\\frac{\\delta_1}\\delta = \\int_0^1 (1-f) d\\eta = \\frac3{10}-\\lambda\\frac1{120}$\n",
    "\n",
    "\n",
    "- $F=\\frac{\\delta_2}\\delta = \\int_0^1 f(1-f) d\\eta = \\frac{37}{315}-\\lambda\\frac1{945}-\\lambda^2\\frac1{9072}$\n",
    "\n",
    "\n",
    "- $\\frac 12 c_f Re_\\delta =f'_0= 2+\\lambda\\frac1{6}$\n",
    "\n",
    "where $Re_\\delta = \\frac{u_e\\delta}\\nu$ is the local boundary layer Reynolds number. \n",
    "\n",
    "I've implemented these in the `BoundaryLayer` module (which I'll nickname `bl`) as `disp_ratio`, `mom_ratio`, and `df_0`:"
   ]
  },
  {
   "cell_type": "code",
   "execution_count": null,
   "metadata": {
    "collapsed": false
   },
   "outputs": [],
   "source": [
    "import BoundaryLayer as bl\n",
    "\n",
    "pyplot.figure(figsize=(5,5))\n",
    "pyplot.xlabel(r'$\\lambda$', fontsize=20)\n",
    "lam = numpy.linspace(-12,12)\n",
    "pyplot.plot(lam,bl.disp_ratio(lam), lw=2, label=r'$\\delta_1/\\delta$')\n",
    "pyplot.plot(lam,bl.mom_ratio(lam), lw=2, label=r'$F=\\delta_2/\\delta$')\n",
    "pyplot.ylim(0,)\n",
    "pyplot.legend(loc='upper right',fontsize=16)"
   ]
  },
  {
   "cell_type": "markdown",
   "metadata": {},
   "source": [
    "## Pressure gradient\n",
    "\n",
    "Scaling the integral momentum equation by $FRe_\\delta$ we have\n",
    "\n",
    "$$\\frac{\\delta_2 u_e}\\nu \\frac{d\\delta_2}{dx} = g(\\lambda) $$\n",
    "\n",
    "where the right hand side is a function of $\\lambda$ only:\n",
    "\n",
    "$$ g = Ff'_0-F\\lambda\\left(\\frac{\\delta_1}{\\delta}+2F\\right) $$\n",
    "\n",
    "When the pressure gradient is zero this ODE simplifies to the flat plate ODE we did in lecture. But what happens to the boundary layer development when we have strong pressure gradients?\n",
    "\n",
    "For example, for any body with finite thickness the boundary layer will begin at the stagnation point where $u_e=0$ at the front of the body.\n",
    "\n",
    "<img src=\"resources/stagnation.png\" width=\"400\">\n",
    "\n",
    "Since $u_e=0$ the momentum equation becomes\n",
    "\n",
    "$$ \\frac{\\delta_2 0}\\nu \\frac{d\\delta_2}{dx} = 0 = g(\\lambda_0) $$\n",
    "\n",
    "at a stagnation point. Therefore the root of $g$ defines a stagnation point initial condition $\\lambda_0$. We can find this using a root-finding function like [`fsolve`](https://docs.scipy.org/doc/scipy-0.14.0/reference/generated/scipy.optimize.fsolve.html) :"
   ]
  },
  {
   "cell_type": "code",
   "execution_count": null,
   "metadata": {
    "collapsed": false
   },
   "outputs": [],
   "source": [
    "from scipy.optimize import fsolve\n",
    "lam0 = fsolve(g,0)[0]\n",
    "print('lambda_0 = '+'%.3f'%lam0)\n",
    "print('check: g(lambda_0) = '+'%.3g'%g(lam0))"
   ]
  },
  {
   "cell_type": "markdown",
   "metadata": {},
   "source": [
    "\n",
    "---\n",
    "\n",
    "##### Quiz\n",
    "\n",
    "Given that $\\frac{d\\delta_2}{dx}\\propto g$, what will happen if we have a strong pressure gradient such that $\\lambda>\\lambda_0$?\n",
    "\n",
    "1. Flat plate boundary layer flow.\n",
    "1. The boundary layer will shrink.\n",
    "1. The boundary layer will separate.\n",
    "\n",
    "hint:"
   ]
  },
  {
   "cell_type": "code",
   "execution_count": null,
   "metadata": {
    "collapsed": false
   },
   "outputs": [],
   "source": [
    "pyplot.plot(lam,g(lam), lw=2)\n",
    "pyplot.xlabel(r'$\\lambda$', fontsize=16)\n",
    "pyplot.ylabel(r'$g$', fontsize=16, rotation=0)\n",
    "pyplot.scatter(lam0,0, s=100, c='r')\n",
    "pyplot.text(lam0,0.1, r'$\\lambda_0$',fontsize=15)"
   ]
  },
  {
   "cell_type": "markdown",
   "metadata": {},
   "source": [
    "---\n",
    "\n",
    "## Thwaites solution method\n",
    "\n",
    "Thwaites approximated $g$ as\n",
    "\n",
    "$$ g \\approx \\tilde g = 0.225-3 F^2\\lambda $$\n",
    "\n",
    "Let's check this approximation"
   ]
  },
  {
   "cell_type": "code",
   "execution_count": null,
   "metadata": {
    "collapsed": false
   },
   "outputs": [],
   "source": [
    "pyplot.figure(figsize=(5,5))\n",
    "pyplot.xlabel(r'$\\lambda$', fontsize=20)\n",
    "def g(l): return bl.mom_ratio(l)*(bl.df_0(l)-l*(bl.disp_ratio(l)+2*bl.mom_ratio(l)))\n",
    "lam = numpy.linspace(-12,12)\n",
    "pyplot.plot(lam,g(lam), lw=2, label=r'$g$')\n",
    "pyplot.plot(lam,0.225-3*bl.mom_ratio(lam)**2*lam, lw=2, label=r'$\\tilde{g}$')\n",
    "pyplot.legend(fontsize=16)"
   ]
  },
  {
   "cell_type": "markdown",
   "metadata": {},
   "source": [
    "We can see that this approximation is _very_ good when the pressure gradient is small and advantageous ($0>\\lambda>5$) and has the right trend for the rest of the range.\n",
    "\n",
    "Using his approximation, Thwaites was able to integrate the momentum equation into the form \n",
    "\n",
    "$$ \\delta^2_2(x) =\\frac{0.45\\nu}{u^6_e(x)}\\int^x_0 u_e^5(\\xi) d\\xi $$\n",
    "\n",
    "where $\\xi$ is the variable of integration. \n",
    "\n",
    "This can be implemented very easily in python. We simply integrate over a velocity array `u_e` with `x` as the corresponding distance along the boundary layer:\n",
    "\n",
    "```python\n",
    "from scipy.integrate import cumtrapz\n",
    "delta2 = numpy.sqrt(0.45*nu/u_e**6*cumtrap(u_e**5*,x,initial=0))\n",
    "```\n",
    "\n",
    "where [`cumtrapz`](https://docs.scipy.org/doc/scipy-0.14.0/reference/generated/scipy.integrate.cumtrapz.html) is the cumulative version of trapz. "
   ]
  },
  {
   "cell_type": "markdown",
   "metadata": {},
   "source": [
    "##### Quiz\n",
    "\n",
    "Assuming the same array size $N$, how long will it take to solve boundary layer equation compared to the vortex panel equation?\n",
    "\n",
    "1. Boundary layer will take **less** time\n",
    "1. Boundary layer layer will take **the same** amount of time\n",
    "1. Boundary layer will take **more** time\n",
    "\n",
    "---"
   ]
  },
  {
   "cell_type": "markdown",
   "metadata": {},
   "source": [
    "## Full integral equation\n",
    "\n",
    "The approximation $\\tilde g$ isn't perfect. In fact it looks around $20\\%$ off near the separation point. Let's try to solve the exact momentum equation numerically and then compare to Thwaites. \n",
    "\n",
    "Starting from the scaled momentum equation, we just need to pull $\\delta_2$ into the derivative to get\n",
    "\n",
    "$$\n",
    "\\frac{d\\delta_2^2}{dx} = \\frac {2\\nu g(\\lambda)}{u_e(x)} \n",
    "$$"
   ]
  },
  {
   "cell_type": "markdown",
   "metadata": {},
   "source": [
    "##### Quiz\n",
    "\n",
    "The rate of change of $\\delta_2^2$ depends on which unknowns?\n",
    "\n",
    "1. $\\lambda$\n",
    "1. $u_e,\\nu$\n",
    "1. $\\delta_2^2$\n",
    "\n",
    "---"
   ]
  },
  {
   "cell_type": "markdown",
   "metadata": {},
   "source": [
    "Therefore, this equation is an ODE for $\\delta_2^2$ that we can integrate numerically. This is done by starting at the initial condition and __marching__ one step at a time along the boundary layer, so I've called the function `BoundaryLayer.march`. I've also coded the function `thwaites`. Let's look at the `help`:"
   ]
  },
  {
   "cell_type": "code",
   "execution_count": null,
   "metadata": {
    "collapsed": false
   },
   "outputs": [],
   "source": [
    "help(bl.march)\n",
    "help(bl.thwaites)"
   ]
  },
  {
   "cell_type": "markdown",
   "metadata": {},
   "source": [
    "You should read that carefully to complete the assignment below. \n",
    "\n",
    "For now, let's test these two against the flat plate solution:"
   ]
  },
  {
   "cell_type": "code",
   "execution_count": null,
   "metadata": {
    "collapsed": false
   },
   "outputs": [],
   "source": [
    "N=32; nu=1e-5                          # number of steps and k.visc.\n",
    "x = numpy.linspace(1./N,2-1./N,N)      # distance from leading edge\n",
    "u_e = numpy.ones_like(x)               # flat plate (uniform) external velocity\n",
    "delta_m,_,_ = bl.march(x,u_e,nu)       # ODE march\n",
    "delta_t,_,_ = bl.thwaites(x,u_e,nu)    # Thwaites integration\n",
    "\n",
    "pyplot.plot(x,delta_m,label='ODE march')\n",
    "pyplot.plot(x,delta_t,label='Thwaites')\n",
    "pyplot.plot(x,0.664*numpy.sqrt(nu*x),'r.',label='Blasius')\n",
    "pyplot.plot(x,0.685*numpy.sqrt(nu*x),'k.',label='Pohlhausen')\n",
    "pyplot.ylabel(r'$\\delta_2$', fontsize=16,rotation=0)\n",
    "pyplot.xlabel(r'$x$', fontsize=16)\n",
    "pyplot.legend(loc='lower right')"
   ]
  },
  {
   "cell_type": "markdown",
   "metadata": {},
   "source": [
    "`ODE march` collapses to the flat plate Pohlhausen, while Thwaites tuned his results to match Blasius.\n",
    "\n",
    "Of course, there was no point in doing this numerically if we only wanted the flat plate solution..."
   ]
  },
  {
   "cell_type": "markdown",
   "metadata": {},
   "source": [
    "##### Your turn #4\n",
    "\n",
    "The function `wedge_u_e` gives the potential flow velocity on the surface of a point-forward wedge\n",
    "\n",
    "$$ u_e = U x^{\\beta/(2-\\beta)}$$\n",
    "\n",
    "where $\\pi\\beta$ is the wedge angle and $U=1$ is the free stream velocity. Use it to complete the following coursework for $\\beta=1/16,1/8,1/4,1/2$:\n",
    "\n",
    "- ** Plot and Compare ** the predicted wedge momentum thicknesses againt the Blasius flat plate solution for $x=0\\ldots10$\n",
    "- ** Complete ** the $c_f$ function for the local fiction coefficient \n",
    "- ** Plot and Compare ** the predicted friction coefficients against the flat plate solution\n",
    "- ** Complete ** the $C_F$ function for the integrated friction coefficient\n",
    "$$C_F = \\frac{\\int_0^L \\tau_w dx}{\\frac 12 \\rho U^2 L }$$\n",
    "where \n",
    "$$ \\tau_w = \\frac 12 c_f \\rho u_e^2 $$\n",
    "- ** Plot and Compare ** to the flat plate solution \n",
    "\n",
    "---"
   ]
  },
  {
   "cell_type": "markdown",
   "metadata": {},
   "source": [
    "##### Solution #4\n",
    "\n",
    "The momentum thickness."
   ]
  },
  {
   "cell_type": "code",
   "execution_count": null,
   "metadata": {
    "collapsed": false
   },
   "outputs": [],
   "source": [
    "N=64; nu=1e-5\n",
    "x = numpy.logspace(-4,1,N)\n",
    "beta_list = [0.0625,0.125,0.25,0.5]\n",
    "\n",
    "def wedge_u_e(x, beta): \n",
    "    return x**(beta/(2-beta))\n",
    "\n",
    "pyplot.plot(x,0.664*numpy.sqrt(nu*x),label='flat plate')\n",
    "\n",
    "# your code here\n",
    "\n",
    "pyplot.ylabel(r'$\\delta_2$', fontsize=16, rotation=0)\n",
    "pyplot.xlabel(r'$x$', fontsize=16)\n",
    "pyplot.legend(loc='lower right')"
   ]
  },
  {
   "cell_type": "markdown",
   "metadata": {},
   "source": [
    "The local friction coefficient."
   ]
  },
  {
   "cell_type": "code",
   "execution_count": null,
   "metadata": {
    "collapsed": false
   },
   "outputs": [],
   "source": [
    "def c_f(u_e,delta,lam,nu):\n",
    "    return # your code here\n",
    "\n",
    "pyplot.semilogy(x,0.664*numpy.sqrt(nu/x),label='flat plate')\n",
    "\n",
    "# your code here\n",
    "\n",
    "pyplot.legend(loc='upper right')\n",
    "pyplot.ylabel(r'$c_f$', fontsize=16, rotation=0)\n",
    "pyplot.xlabel(r'$x$', fontsize=16)"
   ]
  },
  {
   "cell_type": "markdown",
   "metadata": {},
   "source": [
    "The global friction coefficient."
   ]
  },
  {
   "cell_type": "code",
   "execution_count": null,
   "metadata": {
    "collapsed": false
   },
   "outputs": [],
   "source": [
    "def C_F(u_e,delta,lam,nu,x):\n",
    "    dx = numpy.gradient(x) # spacing\n",
    "    L = x[-1]              # length\n",
    "    return # your code here\n",
    "\n",
    "pyplot.plot(0,[1.328*numpy.sqrt(nu/x[-1])],'o')\n",
    "\n",
    "# your code here\n",
    "\n",
    "pyplot.ylabel(r'$C_F$', fontsize=16, rotation=0)\n",
    "pyplot.xlabel(r'$\\beta$', fontsize=16)"
   ]
  }
 ],
 "metadata": {
  "kernelspec": {
   "display_name": "Python 2",
   "language": "python",
   "name": "python2"
  },
  "language_info": {
   "codemirror_mode": {
    "name": "ipython",
    "version": 2
   },
   "file_extension": ".py",
   "mimetype": "text/x-python",
   "name": "python",
   "nbconvert_exporter": "python",
   "pygments_lexer": "ipython2",
   "version": "2.7.10"
  }
 },
 "nbformat": 4,
 "nbformat_minor": 0
}
