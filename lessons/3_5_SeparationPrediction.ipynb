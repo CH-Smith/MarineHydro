{
 "cells": [
  {
   "cell_type": "code",
   "execution_count": 1,
   "metadata": {
    "collapsed": false
   },
   "outputs": [
    {
     "data": {
      "text/html": [
       "<link href='http://fonts.googleapis.com/css?family=Fenix' rel='stylesheet' type='text/css'>\n",
       "<link href='http://fonts.googleapis.com/css?family=Alegreya+Sans:100,300,400,500,700,800,900,100italic,300italic,400italic,500italic,700italic,800italic,900italic' rel='stylesheet' type='text/css'>\n",
       "<link href='http://fonts.googleapis.com/css?family=Source+Code+Pro:300,400' rel='stylesheet' type='text/css'>\n",
       "<style>\n",
       "    @font-face {\n",
       "        font-family: \"Computer Modern\";\n",
       "        src: url('http://mirrors.ctan.org/fonts/cm-unicode/fonts/otf/cmunss.otf');\n",
       "    }\n",
       "    h1 {\n",
       "        font-family: 'Alegreya Sans', sans-serif;\n",
       "    }\n",
       "    h2 {\n",
       "        font-family: 'Fenix', serif;\n",
       "    }\n",
       "    h3{\n",
       "\t\tfont-family: 'Fenix', serif;\n",
       "        margin-top:12px;\n",
       "        margin-bottom: 3px;\n",
       "       }\n",
       "\th4{\n",
       "\t\tfont-family: 'Fenix', serif;\n",
       "       }\n",
       "    h5 {\n",
       "        font-family: 'Alegreya Sans', sans-serif;\n",
       "    }\t   \n",
       "    .CodeMirror{\n",
       "            font-family: \"Source Code Pro\";\n",
       "\t\t\tfont-size: 90%;\n",
       "    }\n",
       "/*    .prompt{\n",
       "        display: None;\n",
       "    }*/\n",
       "    .text_cell_render h1 {\n",
       "        font-weight: 200;\n",
       "        font-size: 50pt;\n",
       "\t\tline-height: 100%;\n",
       "        color:#CD2305;\n",
       "        margin-bottom: 0.5em;\n",
       "        margin-top: 0.5em;\n",
       "        display: block;\n",
       "    }\t\n",
       "    .text_cell_render h5 {\n",
       "        font-weight: 300;\n",
       "        font-size: 16pt;\n",
       "        color: #CD2305;\n",
       "        font-style: italic;\n",
       "        margin-bottom: .5em;\n",
       "        margin-top: 0.5em;\n",
       "        display: block;\n",
       "    }\n",
       "    \n",
       "    .warning{\n",
       "        color: rgb( 240, 20, 20 )\n",
       "        }  \n",
       "</style>\n",
       "<script>\n",
       "    MathJax.Hub.Config({\n",
       "                        TeX: {\n",
       "                           extensions: [\"AMSmath.js\"], \n",
       "                           equationNumbers: { autoNumber: \"AMS\", useLabelIds: true}\n",
       "                           },\n",
       "                tex2jax: {\n",
       "                    inlineMath: [ ['$','$'], [\"\\\\(\",\"\\\\)\"] ],\n",
       "                    displayMath: [ ['$$','$$'], [\"\\\\[\",\"\\\\]\"] ]\n",
       "                },\n",
       "                displayAlign: 'center', // Change this to 'center' to center equations.\n",
       "                \"HTML-CSS\": {\n",
       "                    styles: {'.MathJax_Display': {\"margin\": 4}}\n",
       "                }\n",
       "        });\n",
       "</script>\n"
      ],
      "text/plain": [
       "<IPython.core.display.HTML object>"
      ]
     },
     "execution_count": 1,
     "metadata": {},
     "output_type": "execute_result"
    }
   ],
   "source": [
    "from IPython.core.display import HTML\n",
    "def css_styling():\n",
    "    styles = open('../styles/custom.css', 'r').read()\n",
    "    return HTML(styles)\n",
    "css_styling()"
   ]
  },
  {
   "cell_type": "markdown",
   "metadata": {},
   "source": [
    "# Separation prediction\n",
    "\n",
    "In this section we will combine the vortex panel method and the boundary layer solver to predict separation on any 2D shape."
   ]
  },
  {
   "cell_type": "markdown",
   "metadata": {},
   "source": [
    "## Panel method and boundary layer coupling\n",
    "\n",
    "What will we need to interface the `VortexPanel` and `BoundaryLayer` modules?  `VortexPanel` doesn't need anything from `BoundaryLayer` - it just needs a geometry and angle of attack."
   ]
  },
  {
   "cell_type": "code",
   "execution_count": null,
   "metadata": {
    "collapsed": false
   },
   "outputs": [],
   "source": [
    "import numpy\n",
    "from matplotlib import pyplot\n",
    "%matplotlib inline\n",
    "\n",
    "import VortexPanel as vp\n",
    "import BoundaryLayer as bl\n",
    "\n",
    "alpha = numpy.pi/20\n",
    "foil = vp.make_jukowski(N=64)\n",
    "vp.solve_gamma_kutta(foil,alpha)\n",
    "vp.plot_flow(foil,alpha)"
   ]
  },
  {
   "cell_type": "markdown",
   "metadata": {},
   "source": [
    "From the previous notebook we know the function `march` doesn't need the details of the geometry, but it does need:\n",
    "\n",
    "- $s$: the distance along the boundary layer\n",
    "- $u_e$: the velocity on the edge of the boundary layer\n",
    "- $\\nu$: the kinematic viscosity (given by Reynolds number)\n",
    "\n",
    "We'll need to get the first two from the potential flow solution."
   ]
  },
  {
   "cell_type": "markdown",
   "metadata": {},
   "source": [
    "Getting the velocity is deceptively simple. In the first notebook we found that a vortex panel induces a jump in the tangential velocity across itself equal to $-\\gamma$. In the second notebook, we applied the no-slip condition on the body side of the panel centers. Therefore the tangential velocity on the flow side of the panel is simply \n",
    "\n",
    "$$u_s(x_i,y_i) = -\\gamma_i$$\n",
    "\n",
    "and the external velocity is $u_e=|u_s|$, ie\n",
    "```python\n",
    "u_e = abs(vp.get_array(panels,'gamma'))\n",
    "```\n",
    "---"
   ]
  },
  {
   "cell_type": "markdown",
   "metadata": {},
   "source": [
    "Now that we have $u_e$, let's get $s$. Note that a body will form **two** boundary layers, one on each side. We need to identify the starting point of these two flow regions."
   ]
  },
  {
   "cell_type": "markdown",
   "metadata": {},
   "source": [
    "##### Quiz 1\n",
    "\n",
    "Where is the starting point of the two boundary layers?\n",
    "\n",
    "1. The first panel: `foil[0]`\n",
    "1. The panel where $u_e = 0$\n",
    "1. The left-most panel, `foil[N/2]`"
   ]
  },
  {
   "cell_type": "markdown",
   "metadata": {},
   "source": [
    "---\n",
    "\n",
    "This makes it straightforward to split the body into the two boundary layer sections:\n",
    "```python\n",
    "top = [p for p in panels if p.gamma<=0]    # panels where flow aligns with s\n",
    "bottom = [p for p in panels if p.gamma>=0] # panels where flow is against s\n",
    "bottom = bottom[::-1]                      # reverse indices to align bottom\n",
    "```\n",
    "Note that we changed the direction of the bottom array so that it runs from the stagnation point to the trailing edge, in accordance with the flow direction.\n",
    "\n",
    "This is implemented in the `BoundaryLayer.split` function:"
   ]
  },
  {
   "cell_type": "code",
   "execution_count": null,
   "metadata": {
    "collapsed": false
   },
   "outputs": [],
   "source": [
    "help(bl.split)"
   ]
  },
  {
   "cell_type": "markdown",
   "metadata": {},
   "source": [
    "We've already set up the foil geometry and solved for $\\gamma$, so we can just split it. "
   ]
  },
  {
   "cell_type": "code",
   "execution_count": null,
   "metadata": {
    "collapsed": false
   },
   "outputs": [],
   "source": [
    "foil_top,foil_bottom = bl.split(foil)     #3. Split the boundary layers\n",
    "\n",
    "def plot_segment(panels):\n",
    "    pyplot.figure(figsize=(10,2))\n",
    "    pyplot.axis([-1.2,1.2,-.3,.3])\n",
    "    for i,p_i in enumerate(panels): \n",
    "        p_i.plot()\n",
    "        if i%10 == 0:\n",
    "            pyplot.scatter(p_i.xc,p_i.yc)\n",
    "            pyplot.text(p_i.xc,p_i.yc+0.05, \n",
    "                'panel ['+'%i'%i+']',fontsize=12)\n",
    "    pyplot.show()\n",
    "\n",
    "plot_segment(foil_top)\n",
    "plot_segment(foil_bottom)"
   ]
  },
  {
   "cell_type": "markdown",
   "metadata": {},
   "source": [
    "Looks good. \n",
    "\n",
    "Now that we've got the boundary layer panels set up, we just use the `VortexPanel.distance` function to get the cumulative distance from the leading edge.\n",
    "\n",
    "---\n",
    "\n",
    "The function `BoundaryLayer.panel_march` grabs $u_e$ and $s$ from a boundary layer section of panels and then runs `BoundaryLayer.march`. "
   ]
  },
  {
   "cell_type": "code",
   "execution_count": null,
   "metadata": {
    "collapsed": false
   },
   "outputs": [],
   "source": [
    "help(bl.panel_march)"
   ]
  },
  {
   "cell_type": "markdown",
   "metadata": {},
   "source": [
    "## Boundary layer around a circle\n",
    "\n",
    "Lets run the example in the help file as our first application: the boundary layer on a circle."
   ]
  },
  {
   "cell_type": "markdown",
   "metadata": {},
   "source": [
    "##### Quiz 2\n",
    "\n",
    "Why do I keep testing code on simple shapes like circles?\n",
    "\n",
    "1. I'm terribly forgetful\n",
    "1. New examples take work\n",
    "1. I want to validate the new code"
   ]
  },
  {
   "cell_type": "markdown",
   "metadata": {},
   "source": [
    "##### Numerical fundamental: Validation\n",
    "##### Every piece of code must be tested against a known nontrivial example\n",
    "\n",
    "---"
   ]
  },
  {
   "cell_type": "markdown",
   "metadata": {},
   "source": [
    "![Flow around a circle](resources/graphics3.png)\n",
    "---\n",
    "\n",
    "So lets validate the results. The *theoretical* laminar separation point for a circular cylinder is $108\\deg$ from the leading stagnation point. Since the circle has radius $R=1$, this corresponds to $s=1.88$. Lets check the simulation by plotting $\\lambda$. \n",
    "\n",
    "__Notice there are 4 steps in solving the BL flow:__"
   ]
  },
  {
   "cell_type": "code",
   "execution_count": null,
   "metadata": {
    "collapsed": false
   },
   "outputs": [],
   "source": [
    "# set up and solve circle BL flow:\n",
    "circle = vp.make_circle(N=64)                #1. set-up geometry\n",
    "vp.solve_gamma_kutta(circle)                 #2. solve flow\n",
    "top,bottom = bl.split(circle)                #3. split panels\n",
    "delta,lam,iSep = bl.panel_march(top,nu=1e-5) #4. march along the BL\n",
    "\n",
    "# plot lambda(s)\n",
    "s = vp.distance(top)\n",
    "pyplot.ylabel(r'$\\lambda$', fontsize=20)\n",
    "pyplot.xlabel(r'$s$', fontsize=20)\n",
    "pyplot.plot(s,lam,lw=2)\n",
    "pyplot.axhline(-12,ls='--')"
   ]
  },
  {
   "cell_type": "markdown",
   "metadata": {},
   "source": [
    "As you move along the boundary layer, $\\lambda$ decreases from the initial stagnation point condition of $\\lambda_0\\approx7$ and eventually crosses the threshold for separation $\\lambda=-12$. `march` stops once this condition is reached - **therefore the `lam` and `delta` arrays are meaningless after `iSep`**.\n",
    "\n",
    "From the plot we can see separation occurs between $1.7<s<2$. The `boundaryLayer.sep` functions uses `iSep` to interpolate the value of any array at the separation point:"
   ]
  },
  {
   "cell_type": "code",
   "execution_count": null,
   "metadata": {
    "collapsed": false
   },
   "outputs": [],
   "source": [
    "sSep = bl.sep(s,iSep)\n",
    "print('analytic prediction @ s=1.88 \\n numeric prediction @ s={:.2f}'.format(sSep))"
   ]
  },
  {
   "cell_type": "markdown",
   "metadata": {},
   "source": [
    "Our numerical method prediction is less than a percent different than the theoretical result!\n",
    "\n",
    "We can also use `sep` to plot the separation points together with the flow field:"
   ]
  },
  {
   "cell_type": "code",
   "execution_count": null,
   "metadata": {
    "collapsed": false
   },
   "outputs": [],
   "source": [
    "nu = 1e-5                                    # set nu\n",
    "delta,lam,iSep = bl.panel_march(top,nu)      # march along top BL\n",
    "xSep = bl.sep(vp.get_array(top,'xc'),iSep)   # get x location of separation\n",
    "ySep = bl.sep(vp.get_array(top,'yc'),iSep)   # get y location of separation \n",
    "\n",
    "vp.plot_flow(circle)\n",
    "pyplot.scatter(xSep, ySep, s=200, c='r')\n",
    "pyplot.scatter(xSep,-ySep, s=200, c='g')\n",
    "pyplot.show()"
   ]
  },
  {
   "cell_type": "markdown",
   "metadata": {},
   "source": [
    "The red and green dots mark the separation point for the top and bottom boundary layer, respectively."
   ]
  },
  {
   "cell_type": "markdown",
   "metadata": {},
   "source": [
    "##### Quiz 3\n",
    "\n",
    "How does the separation point depend on $\\nu$?\n",
    "\n",
    "1. Increasing $\\nu$ delays separation\n",
    "1. Decreasing $\\nu$ delays separation\n",
    "1. Chaning $\\nu$ has no effect on separation"
   ]
  },
  {
   "cell_type": "markdown",
   "metadata": {},
   "source": [
    "---\n",
    "\n",
    "Is this a bug??\n",
    "\n",
    "We know from lectures that $\\delta$ scales as $\\sqrt\\nu$, and therefore $\\lambda=\\frac{\\delta^2}\\nu u_e'$ doesn't depend on $\\nu$ at all. Since the separation point is determined by $\\lambda$, this is also independent of $\\nu$.\n",
    "\n",
    "##### Fluids fundamental: Separation Point\n",
    "##### The point of laminar separation is independent of $Re$\n",
    "\n",
    "This is **not** true of a turbulent boundary layer.\n",
    "\n",
    "---\n",
    "\n",
    "Lets also compare the circle and plate plate boundary layers"
   ]
  },
  {
   "cell_type": "code",
   "execution_count": null,
   "metadata": {
    "collapsed": false
   },
   "outputs": [],
   "source": [
    "n = int(numpy.floor(iSep)+2) # meaningful BL array lengths\n",
    "\n",
    "pyplot.ylabel(r'$\\delta$', fontsize=20)\n",
    "pyplot.xlabel(r'$s$', fontsize=20)\n",
    "pyplot.plot(s,5.836*numpy.sqrt(nu*s),lw=2,label='Flat plate')\n",
    "pyplot.plot(s[:n],delta[:n],lw=2,label='Circle') # only plot up to separation\n",
    "pyplot.legend(loc='lower right')"
   ]
  },
  {
   "cell_type": "markdown",
   "metadata": {},
   "source": [
    "It can't be over-emphasized how different the flat plate and circle boundary layers are. \n",
    "\n",
    "##### Fluid fundamental: Pressure gradients\n",
    "##### Flow gradients completely change the development of a boundary layer.\n",
    "\n",
    "Because of these gradients:\n",
    " - The boundary layer growth is stunted on the front body where the flow is accelerating\n",
    " - $\\delta$ increases rapidly as the flow approaches the midbody\n",
    " - Separation occurs soon after the flow begins to decelerate. "
   ]
  },
  {
   "cell_type": "markdown",
   "metadata": {},
   "source": [
    "##### Quiz 4\n",
    "\n",
    "Up to the point of separation, which geometry will have the larger friction force?\n",
    "\n",
    "1. The circle\n",
    "1. The plate  \n",
    "1. Approximately the same"
   ]
  },
  {
   "cell_type": "markdown",
   "metadata": {},
   "source": [
    "## Foil at angle of attack\n",
    "\n",
    "Let's use the functions above to solve for the boundary layer flow over the foil. We will use the same four steps, but the `BoundaryLayer.predict_separation_point` function will march and locate the separation points in the last step:"
   ]
  },
  {
   "cell_type": "code",
   "execution_count": null,
   "metadata": {
    "collapsed": false
   },
   "outputs": [],
   "source": [
    "alpha = numpy.pi/20\n",
    "foil = vp.make_jukowski(N=64)    #1. Define the geometry\n",
    "vp.solve_gamma_kutta(foil,alpha) #2. Solve for the potential flow\n",
    "foilTop,foilBot = bl.split(foil) #3. Split the boundary layers\n",
    "xSepTop,ySepTop = bl.predict_separation_point(foilTop) #4a. march over top BL\n",
    "xSepBot,ySepBot = bl.predict_separation_point(foilBot) #4b. march over bottom BL\n",
    "\n",
    "vp.plot_flow(foil,alpha)\n",
    "pyplot.scatter(xSepTop, ySepTop, s=100, c='r')\n",
    "pyplot.scatter(xSepBot, ySepBot, s=100, c='g')\n",
    "pyplot.show()"
   ]
  },
  {
   "cell_type": "markdown",
   "metadata": {},
   "source": [
    "And we see that at an angle of attack, the high pressure side of the foil (the bottom) has delayed separation, while the low pressure side has early separation. This is exactly the kind of information we need to predict stall.\n",
    "\n",
    "---\n",
    "\n",
    "Let's review the general solution methodology again: \n",
    "\n",
    "1. `make` the geometry as a set of vortex panels\n",
    "1. `solve` the potential flow by applying the no-slip and kutta conditions\n",
    "1. `split` the panels into sections on either side of the stagnation points\n",
    "1. `march` the momentum equation along the boundary layer to the point of separation\n",
    "\n",
    "Then you can measure, print, or plot any flow quantity you want. \n",
    "\n",
    "By combining the `VortexPanel` methods with the `BoundaryLayer.march` method, we've developed a numerical tool to predict separation on **any** body (or group of bodies) defined by a set of panels.\n",
    "\n",
    "##### Numerical fundamental: Synergy\n",
    "##### Simple functions can be linked to build powerful methods\n"
   ]
  },
  {
   "cell_type": "markdown",
   "metadata": {},
   "source": [
    "## Aspect ratio validation\n",
    "\n",
    "We've validated the code for the known case of a circle, but this is just one geometry. \n",
    "\n",
    "##### Numerical fundamental: Skepticism\n",
    "##### `But that is what the computer said!' - Famous last words\n",
    "\n",
    "We should validate a new method on as many known results as possible. "
   ]
  },
  {
   "cell_type": "markdown",
   "metadata": {},
   "source": [
    "One thing we could validate is that the separation points change properly if the aspect ratio $t/c$ is changed.  Here is a summary figure from Chapter 3 of Hoerner's *Fluid-Dynamic Drag*\n",
    "\n",
    "---\n",
    "![Hoerner Drag, Fig 5, Chap 3](resources/separation_hoerner.png)\n",
    "\n",
    "---\n",
    "There are four ellipse examples and two Jukowski examples. Based on this figure, I estimate:\n",
    "\n",
    "Jukowski foil:\n",
    "\n",
    "$t/c$| 0.17  | 0.15 \n",
    "---|\n",
    "$x/c$| $0.39$  | $0.49$ \n",
    "\n",
    "Ellipse:\n",
    "\n",
    "$t/c$| 1 |1/2 | 1/4 | 1/6 | 1/8 \n",
    "---|\n",
    "$x/c$| $0.65$ | $0.75$ | $0.85$ | $0.89$ | $0.92$ \n",
    "\n",
    "where $x$ is the linear distance from the nose to the point of separation. I've added the theoretical result for a circle."
   ]
  },
  {
   "cell_type": "markdown",
   "metadata": {},
   "source": [
    "##### Your turn #5\n",
    "\n",
    "Validate the separation prediction method against these two families of geometries. \n",
    "\n",
    " - **Predict** separation for the Jukowski cases, being sure to match $t/c$.\n",
    " - **Predict and Plot** $x/c$ for the ellipse for $t/c$=`linspace(0.08,1.1,10)` compared to Hoerner's data. \n",
    " - **Discuss** the results with regards to validation and trends. Are these adequate to validate the numerical method? Are there any surprises?\n",
    "\n",
    "I recommend that you write a few functions to help automate the prediction process, similar to the previous notebooks..."
   ]
  },
  {
   "cell_type": "markdown",
   "metadata": {},
   "source": [
    "##### Solution #5\n"
   ]
  },
  {
   "cell_type": "code",
   "execution_count": null,
   "metadata": {
    "collapsed": false
   },
   "outputs": [],
   "source": [
    "# your code here\n",
    "\n",
    "pyplot.scatter([1,1./2.,1./4.,1./6.,1./8.],\n",
    "               [0.65,0.75,0.85,0.89,0.92], \n",
    "               s=100, label='Hoerner')\n",
    "pyplot.legend(loc='upper right')\n",
    "pyplot.xlabel(r'$t/c$', fontsize=16)\n",
    "pyplot.ylabel(r'$x/c$', fontsize=16)"
   ]
  }
 ],
 "metadata": {
  "kernelspec": {
   "display_name": "Python 2",
   "language": "python",
   "name": "python2"
  },
  "language_info": {
   "codemirror_mode": {
    "name": "ipython",
    "version": 2
   },
   "file_extension": ".py",
   "mimetype": "text/x-python",
   "name": "python",
   "nbconvert_exporter": "python",
   "pygments_lexer": "ipython2",
   "version": "2.7.10"
  }
 },
 "nbformat": 4,
 "nbformat_minor": 0
}
