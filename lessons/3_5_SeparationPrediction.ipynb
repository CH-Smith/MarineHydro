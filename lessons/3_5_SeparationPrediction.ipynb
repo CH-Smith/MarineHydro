{
 "cells": [
  {
   "cell_type": "markdown",
   "metadata": {},
   "source": [
    "# Separation prediction\n",
    "\n",
    "In this section we will combine the vortex panel method and a boundary layer solver to predict separation on any 2D shape."
   ]
  },
  {
   "cell_type": "markdown",
   "metadata": {},
   "source": [
    "\n",
    "---\n",
    "<img src=\"resources/graphics4.png\" width=\"400\">\n",
    "\n",
    "Recall that the Pohlhausen profile is used to describe a **laminar** velocity profile exposed to external pressure gradients. The profile is defined as\n",
    "\n",
    "$$ \\frac u {u_e} = f(\\eta,\\lambda) = P_F(\\eta)+\\lambda P_G(\\eta) $$\n",
    "\n",
    "where $\\lambda$ is the *shape factor*, given by\n",
    "$$ \\lambda = \\frac {\\delta^2}\\nu u_e'$$\n",
    "\n",
    "and the profile shapes are defined by\n",
    "\n",
    "- $P_F = 2\\eta-2\\eta^3+\\eta^4$ is the flat plate profile\n",
    "- $P_G = \\frac\\eta 6 (1-\\eta)^3$ is the modification for pressure gradients\n",
    "\n",
    "These can be easly defined using a set of python functions\n"
   ]
  },
  {
   "cell_type": "code",
   "execution_count": null,
   "metadata": {},
   "outputs": [],
   "source": [
    "from matplotlib import pyplot as plt\n",
    "%matplotlib inline\n",
    "import numpy as np\n",
    "\n",
    "def pohlF(eta): return 2*eta-2*eta**3+eta**4\n",
    "def pohlG(eta): return eta/6*(1-eta)**3\n",
    "\n",
    "def pohlPlot(lam):\n",
    "    plt.figure(figsize=(5,5))\n",
    "    plt.xlabel(r'$u/u_e$', fontsize=24)\n",
    "    plt.ylabel(r'$y/\\delta$', fontsize=24)\n",
    "    eta = np.linspace(0.0,1.0)\n",
    "    plt.plot(pohlF(eta),eta, ls='--', label=r'$f(0)$')\n",
    "    plt.plot(pohlF(eta)+lam*pohlG(eta),eta, lw=2, label=r'$f(\\lambda)$')\n",
    "    plt.legend(loc='upper left', fontsize=16)"
   ]
  },
  {
   "cell_type": "code",
   "execution_count": null,
   "metadata": {},
   "outputs": [],
   "source": [
    "pohlPlot(lam=0)"
   ]
  },
  {
   "cell_type": "markdown",
   "metadata": {},
   "source": [
    "## Thwaites solution method\n",
    "\n",
    "Thwaites was able to substitue the Pohlhausen profile and integrate the momentum equation into the form \n",
    "\n",
    "$$ \\delta^2_2(x) =\\frac{0.45\\nu}{u^6_e(x)}\\int^x_0 u_e^5(x) dx $$\n",
    "\n",
    "and we would like to get this into a non-dimensional form. To do so, we define $s=x/L$ and $u_s = u_e/U$, where $U$ and $L$ are characteristic values for the problem. Substitution gives\n",
    "\n",
    "$$ \\frac{\\delta_2}{L} \\sqrt{Re_L} =\\left[\\frac{0.45}{u^6_s(s)}\\int^s_0 u_s^5(s) ds \\right]^{1/2}$$\n",
    "\n",
    "\n",
    "The right hand side can be implemented very easily in python. We simply integrate over a velocity array `u_s` of length `N` with `s` as the corresponding distance along the boundary layer:\n",
    "\n",
    "```python\n",
    "numpy.sqrt(0.45/u_s**6*cumtrap(u_s**5*,s,initial=0))\n",
    "```\n",
    "\n",
    "where [`cumtrapz`](https://docs.scipy.org/doc/scipy-0.14.0/reference/generated/scipy.integrate.cumtrapz.html) is the cumulative version of trapz. We can scale the momentum thickness later as needed."
   ]
  },
  {
   "cell_type": "markdown",
   "metadata": {},
   "source": [
    "##### Quiz\n",
    "\n",
    "Assuming the same array size $N$, how long will it take to solve boundary layer equation compared to the vortex panel equation?\n",
    "\n",
    "1. Boundary layer will take **less** time\n",
    "1. Boundary layer layer will take **the same** amount of time\n",
    "1. Boundary layer will take **more** time\n",
    "\n",
    "---\n",
    "\n",
    "This has been implemented in the `thwaites` function in the `BoundaryLayer` module. Lets import the module (as `bl`) and validate the function on a flat plate."
   ]
  },
  {
   "cell_type": "code",
   "execution_count": null,
   "metadata": {},
   "outputs": [],
   "source": [
    "import VortexPanel as vp\n",
    "import BoundaryLayer as bl\n",
    "\n",
    "N=32                             # number of steps\n",
    "s = np.linspace(0,1,N)           # scaled distance\n",
    "u_s = np.ones_like(s)            # flat plate (uniform) external velocity\n",
    "delta2,_,_ = bl.thwaites(s,u_s)  # thwaites momentum thickness\n",
    "\n",
    "plt.plot(s,0.664*np.sqrt(s),'r',label='Blasius')\n",
    "plt.plot(s,0.685*np.sqrt(s),'k',label='Pohlhausen')\n",
    "plt.plot(s,delta2,'o',label='Thwaites')\n",
    "plt.ylabel(r'$\\frac{\\delta_2}{L} \\sqrt{Re_L}$', fontsize=16,rotation=0,y=1)\n",
    "plt.xlabel(r'$x/L$', fontsize=16)\n",
    "plt.legend(loc='lower right');"
   ]
  },
  {
   "cell_type": "markdown",
   "metadata": {},
   "source": [
    "As we saw before, Pohlhausen and Blausis are only 3% different on a flat plate, and Thwaites tuned his result to be even closer to the exact result.\n",
    "\n",
    "## Profile shape and separation\n",
    "\n",
    "Separation is our primary concern, not the momentum thickness. Algebra gives\n",
    "\n",
    "$$ \\frac{du_s}{ds}\\frac{\\delta_2^2}{L^2}Re_L = \\lambda c_2^2 = f(\\lambda) $$\n",
    "\n",
    "where the left hand side is known from Thwaites and the prescribed $u_s$ array, and $c_2=\\delta_2/\\delta$ which is a known function of $\\lambda$. Therefore, we can determine $\\lambda$ on every point along the body.\n"
   ]
  },
  {
   "cell_type": "markdown",
   "metadata": {},
   "source": [
    "##### Quiz\n",
    "\n",
    "What value of $\\lambda$ denotes separation?\n",
    "\n",
    "1. $\\lambda$=-24\n",
    "1. $\\lambda$=-12\n",
    "1. $\\lambda$=0\n",
    "1. $\\lambda$=12\n",
    "\n",
    "----\n",
    "\n",
    "Lets take a look at the `bl.thwaites` function help:"
   ]
  },
  {
   "cell_type": "code",
   "execution_count": null,
   "metadata": {},
   "outputs": [],
   "source": [
    "help(bl.thwaites)"
   ]
  },
  {
   "cell_type": "markdown",
   "metadata": {},
   "source": [
    "Notice that this function doesn't only return the momentum thickness, but also the shape factor $\\lambda$ and the array index of separation `iSep` found using the equations above. \n",
    "\n",
    "The help example code uses the external velocity over a unit circle. This is a good test case because the _theoretical_ solution is known to be $108\\deg=1.88\\text{rad}$ from the leading stagnation point.\n",
    "\n",
    "\n",
    "![short](resources/graphics3.png)\n",
    "\n",
    "\n",
    "##### Numerical fundamental: Validation\n",
    "##### Every piece of code must be tested against a known nontrivial example\n",
    "\n",
    "---\n",
    "\n",
    "So lets validate $\\lambda$ and `iSep`."
   ]
  },
  {
   "cell_type": "code",
   "execution_count": null,
   "metadata": {},
   "outputs": [],
   "source": [
    "s = np.linspace(0,np.pi,32)          # distance along BL\n",
    "u_s = 2*np.sin(s)                    # circle external velocity\n",
    "delta2,lam,iSep = bl.thwaites(s,u_s) # BL properties\n",
    "\n",
    "fig,ax=plt.subplots(2,1,sharex=True)\n",
    "ax[0].plot(s,delta2,'o-')\n",
    "ax[0].set_ylabel(r'$\\delta_2 \\sqrt{\\frac{U}{\\nu R}}$',rotation=0,y=.9,size=16)\n",
    "ax[1].plot(s,lam,'o-')\n",
    "ax[1].axhline(-12,ls='--')\n",
    "ax[1].set_yticks([-12,0,12])\n",
    "ax[1].set_ylabel(r'$\\lambda}$',rotation=0,size=16)\n",
    "plt.xticks([0,np.pi/2,np.pi],['0','$\\pi/2$','$\\pi$'])\n",
    "plt.xlabel(r'$\\theta$',size=16)\n",
    "plt.show()"
   ]
  },
  {
   "cell_type": "markdown",
   "metadata": {},
   "source": [
    "Near the stagnation point, the pressure gradient is favourable and very strong, limiting the BL growth. As you move along the boundary layer, $\\lambda$ decreases and eventually crosses the threshold for separation $\\lambda=-12$. Values after separation are meaningless and have been zeroed out in the function.\n",
    "\n",
    "From the plot we can see separation occurs soon after $\\pi/2$, but this is too vague. We need a specific prediction and we can use `iSep` to get one. If `iSep=13.2` it means that separation occured 20% of the way between `s[13]` and `s[14]`. All we need to do is interpolate, and we can do this for __any__ panel attribute using the `BoundaryLayer.sep` function. Let's see what we get:"
   ]
  },
  {
   "cell_type": "code",
   "execution_count": null,
   "metadata": {},
   "outputs": [],
   "source": [
    "sSep = bl.sep(s,iSep)\n",
    "print('analytic prediction @ s=1.88 \\n numeric prediction @ s={:.2f}'.format(sSep))"
   ]
  },
  {
   "cell_type": "markdown",
   "metadata": {},
   "source": [
    "Our numerical method prediction is __one percent different__ than the theoretical result!"
   ]
  },
  {
   "cell_type": "markdown",
   "metadata": {},
   "source": [
    "##### Quiz\n",
    "\n",
    "How does the separation point depend on $\\nu$?\n",
    "\n",
    "1. Increasing $\\nu$ delays separation\n",
    "1. Decreasing $\\nu$ delays separation\n",
    "1. Chaning $\\nu$ has no effect on separation"
   ]
  },
  {
   "cell_type": "markdown",
   "metadata": {},
   "source": [
    "## Panel method and boundary layer coupling\n",
    "\n",
    "This works for a circle, but what about something more complicated, like a foil at an angle of attack? We can use the `VortexPanel` module!\n",
    "\n",
    "What will we need to interface the `VortexPanel` and `BoundaryLayer` modules?  The external flow doesn't need anything from `BoundaryLayer` - it just needs a geometry and angle of attack:"
   ]
  },
  {
   "cell_type": "code",
   "execution_count": null,
   "metadata": {},
   "outputs": [],
   "source": [
    "import VortexPanel as vp\n",
    "alpha = np.pi/20\n",
    "foil = vp.make_jfoil(N=64)\n",
    "foil.solve_gamma_O2(alpha,kutta=[(0,-1)])\n",
    "foil.plot_flow()"
   ]
  },
  {
   "cell_type": "markdown",
   "metadata": {},
   "source": [
    "---\n",
    "\n",
    "Thwaites doesn't need the details of the geometry, but it does need:\n",
    "\n",
    "- $s$: the scaled distance along the boundary layer\n",
    "- $u_s$: the scaled velocity on the edge of the boundary layer\n",
    "\n",
    "\n",
    "These are suprising simple. Since $|U|=1$, the \n",
    "We know \n",
    "\n",
    "$$u_s(x_i,y_i) = -\\gamma_i$$\n",
    "\n",
    "and the external velocity is $u_e=|u_s|$.\n",
    "\n",
    "---"
   ]
  },
  {
   "cell_type": "markdown",
   "metadata": {},
   "source": [
    "Now that we know how to get the velocity, we need to think about the distance along the BL, $s$. Note that a body will form **two** boundary layers, one on each side. We need to identify the starting point of these two flow regions."
   ]
  },
  {
   "cell_type": "markdown",
   "metadata": {},
   "source": [
    "##### Quiz\n",
    "\n",
    "Where is the starting point of the two boundary layers?\n",
    "\n",
    "1. The first panel: `foil[0]`\n",
    "1. The panel where $u_s = 0$\n",
    "1. The left-most panel, `foil[N/2]`"
   ]
  },
  {
   "cell_type": "markdown",
   "metadata": {},
   "source": [
    "\n",
    "This makes it straightforward to split the body into the two boundary layer sections:\n",
    "```python\n",
    "def split(self):\n",
    "    top = [p for p in self.panels if p.gamma<=0]\n",
    "    bot = [p for p in self.panels if p.gamma>=0]\n",
    "    return PanelArray(top),PanelArray(bot[::-1])\n",
    "```\n",
    "Note that we changed the direction of the bottom array so that it runs from the stagnation point to the trailing edge to match the flow direction.\n",
    "\n",
    "This is implemented in the `PanelArray.split` function. Let's use the example code to test the `split` function:"
   ]
  },
  {
   "cell_type": "code",
   "execution_count": null,
   "metadata": {},
   "outputs": [],
   "source": [
    "foil = vp.make_jukowski(N=64)        #1. Define the geometry\n",
    "foil.solve_gamma_kutta(alpha=0.1)    #2. Solve for the potential flow\n",
    "foil_top,foil_bot = foil.split()     #3. Split the boundary layers\n",
    "\n",
    "def plot_segment(segment):\n",
    "    pyplot.figure(figsize=(10,2))\n",
    "    pyplot.axis([-1.2,1.2,-.3,.3])\n",
    "    for i,p_i in enumerate(segment.panels): \n",
    "        p_i.plot()\n",
    "        if i%8 == 0:\n",
    "            pyplot.scatter(p_i.xc,p_i.yc)\n",
    "            pyplot.text(p_i.xc,p_i.yc+0.05, \n",
    "                'panel ['+'%i'%i+']',fontsize=12)\n",
    "    pyplot.show()\n",
    "\n",
    "plot_segment(foil_top)\n",
    "plot_segment(foil_bot)"
   ]
  },
  {
   "cell_type": "markdown",
   "metadata": {},
   "source": [
    "As we change `alpha`, the stagnation point - and therefore the panels in each section - changes.\n",
    "\n",
    "---\n",
    "\n",
    "Once the sections are `split` we can feed them to `PanelArray.march`. Again, only three lines of code:\n",
    "```python\n",
    "def march(self, nu, thwaites=False):\n",
    "    s = self.distance()                      # distance\n",
    "    u_e = abs(self.get_array(\"gamma\"))       # velocity\n",
    "    return bl.march(s, u_e, nu, thwaites)       # march\n",
    "```"
   ]
  },
  {
   "cell_type": "code",
   "execution_count": null,
   "metadata": {},
   "outputs": [],
   "source": [
    "help(foil.march)"
   ]
  },
  {
   "cell_type": "markdown",
   "metadata": {},
   "source": [
    "## Boundary layer around a circle\n",
    "\n",
    "Lets run the example in the docstring as our first application: the boundary layer on a circle."
   ]
  },
  {
   "cell_type": "markdown",
   "metadata": {},
   "source": [
    "##### Quiz\n",
    "\n",
    "Why do I keep testing code on simple shapes like circles?\n",
    "\n",
    "1. I'm terribly forgetful\n",
    "1. New examples take work\n",
    "1. I want to validate the new code"
   ]
  },
  {
   "cell_type": "code",
   "execution_count": null,
   "metadata": {},
   "outputs": [],
   "source": [
    "# set up and solve circle BL flow:\n",
    "nu = 1e-5\n",
    "circle = vp.make_circle(N=64)     #1. make the geometry\n",
    "circle.solve_gamma()              #2. solve the pflow\n",
    "top,bottom = circle.split()       #3. split the panels\n",
    "delta2,lam,iSep = top.march(nu)   #4. march along the BL\n",
    "\n",
    "# plot lambda(s)\n",
    "s = top.distance()\n",
    "pyplot.ylabel(r'$\\lambda$', fontsize=20, rotation=0)\n",
    "pyplot.xlabel(r'$s$', fontsize=20)\n",
    "pyplot.plot(s,lam,lw=2)\n",
    "pyplot.axhline(-12,ls='--')"
   ]
  },
  {
   "cell_type": "markdown",
   "metadata": {},
   "source": [
    "---\n",
    "\n",
    "Is this a bug??\n",
    "\n",
    "We know from lectures that $\\delta$ scales as $\\sqrt\\nu$, and therefore $\\lambda=\\frac{\\delta^2}\\nu u_e'$ doesn't depend on $\\nu$ at all. Since the separation point is determined by $\\lambda$, this is also independent of $\\nu$.\n",
    "\n",
    "##### Fluids fundamental: Separation Point\n",
    "##### The point of laminar separation is independent of $Re$\n",
    "\n",
    "This is **not** true of a turbulent boundary layer."
   ]
  },
  {
   "cell_type": "markdown",
   "metadata": {},
   "source": [
    "## Separation of the foil\n",
    "\n",
    "Finally, let's solve for the boundary layer separation points on the foil using the `PanelArray.sep_point` function. It is another 3 liner:\n",
    "```python\n",
    "def sep_point(self):\n",
    "    delta2,lam,iSep = self.march(1)\n",
    "    x,y = self.get_array('xc','yc')\n",
    "    return bl.sep(x,iSep),bl.sep(y,iSep)\n",
    "```\n",
    " Note this function doesn't depend on $\\nu$ because... Quiz 3"
   ]
  },
  {
   "cell_type": "code",
   "execution_count": null,
   "metadata": {},
   "outputs": [],
   "source": [
    "alpha = numpy.pi/18\n",
    "foil = vp.make_jukowski(N=64)       #1. make the geometry\n",
    "foil.solve_gamma_kutta(alpha)       #2. solve the pflow\n",
    "top,bot = foil.split()              #3. split the panels\n",
    "x_top,y_top = top.sep_point()       #4. find separation on top \n",
    "x_bot,y_bot = bot.sep_point()       #   ... and bottom BL\n",
    "\n",
    "foil.plot_flow()\n",
    "pyplot.scatter(x_top,y_top, s=100, c='r', zorder=10)\n",
    "pyplot.scatter(x_bot,y_bot, s=100, c='g', zorder=10)\n",
    "pyplot.show()"
   ]
  },
  {
   "cell_type": "markdown",
   "metadata": {},
   "source": [
    "And we see that at an angle of attack, the high pressure side of the foil (the bottom) has delayed separation, while the low pressure side has early separation. This is exactly the kind of information we need to predict stall.\n",
    "\n",
    "---\n",
    "\n",
    "## Summary \n",
    "\n",
    "Let's review the general solution methodology again: \n",
    "\n",
    "1. `make` the geometry as a set of vortex panels\n",
    "1. `solve` the potential flow by applying the no-slip and kutta conditions\n",
    "1. `split` the panels into sections on either side of the stagnation points\n",
    "1. `march` the boundary layer equations to the point of separation\n",
    "\n",
    "Then you can measure, print, or plot any flow quantity you want. \n",
    "\n",
    "##### Numerical fundamental: Synergy\n",
    "##### Simple functions can be linked to build powerful methods\n",
    "\n",
    "By combining the `VortexPanel` methods with the `BoundaryLayer.march` method, we've developed a numerical tool to predict separation on **any** body (or group of bodies)."
   ]
  },
  {
   "cell_type": "markdown",
   "metadata": {},
   "source": [
    "## Aspect ratio validation\n",
    "\n",
    "We've validated the code for the known case of a circle, but this is just one geometry. \n",
    "\n",
    "##### Numerical fundamental: Skepticism\n",
    "##### \"That is what the computer said...\" - Famous last words\n",
    "\n",
    "We should validate a new method on as many known results as possible. "
   ]
  },
  {
   "cell_type": "markdown",
   "metadata": {},
   "source": [
    "One thing we could validate is that the separation points change properly if the aspect ratio $t/c$ is changed.  Here is a summary figure from Chapter 3 of Hoerner's *Fluid-Dynamic Drag*\n",
    "\n",
    "---\n",
    "![Hoerner Drag, Fig 5, Chap 3](resources/separation_hoerner.png)\n",
    "\n",
    "---\n",
    "There are four ellipse examples and two Jukowski examples. Based on this figure, I estimate:\n",
    "\n",
    "Jukowski foil:\n",
    "\n",
    "$t/c$| 0.17  | 0.15 \n",
    "---|\n",
    "$x/c$| $0.39$  | $0.49$ \n",
    "\n",
    "Ellipse:\n",
    "\n",
    "$t/c$| 1 |1/2 | 1/4 | 1/6 | 1/8 \n",
    "---|\n",
    "$x/c$| $0.65$ | $0.75$ | $0.85$ | $0.89$ | $0.92$ \n",
    "\n",
    "where $x$ is the linear distance from the nose to the point of separation. I've included the result for a circle."
   ]
  },
  {
   "cell_type": "markdown",
   "metadata": {},
   "source": [
    "##### Your turn #5\n",
    "\n",
    "Validate the separation prediction method against these two families of geometries. \n",
    "\n",
    " - **Predict** separation for the Jukowski cases, being sure to match $t/c$.\n",
    " - **Predict and Plot** $x/c$ for the ellipse for $t/c$=`linspace(0.08,1.1,10)` compared to Hoerner's data. \n",
    " - **Discuss** the results with regards to validation and trends. Are these adequate to validate the numerical method? Are there any surprises?\n",
    "\n",
    "I recommend that you write a few functions to help automate the prediction process, similar to the previous notebooks..."
   ]
  },
  {
   "cell_type": "markdown",
   "metadata": {},
   "source": [
    "##### Solution #5\n"
   ]
  },
  {
   "cell_type": "code",
   "execution_count": null,
   "metadata": {},
   "outputs": [],
   "source": [
    "# function definitions\n",
    "\n",
    "# x/c for the foils using vp.make_jukowski\n",
    "\n",
    "# x/c for the ellipses using vp.make_ellipse\n",
    "t_c = numpy.linspace(0.08,1.1,10)\n",
    "\n",
    "pyplot.scatter([1,1./2.,1./4.,1./6.,1./8.],\n",
    "               [0.65,0.75,0.85,0.89,0.92], \n",
    "               s=100, label='Hoerner')\n",
    "pyplot.legend(loc='upper right')\n",
    "pyplot.xlabel(r'$t/c$', fontsize=16)\n",
    "pyplot.ylabel(r'$x/c$', fontsize=16)"
   ]
  },
  {
   "cell_type": "markdown",
   "metadata": {},
   "source": [
    "Using the Pohlhausen profile, the factors in the momentum integral equation can be defined as functions of $\\lambda$\n",
    "\n",
    "- $c_1 = \\frac{\\delta_1}\\delta = \\int_0^1 (1-f) d\\eta = \\frac3{10}-\\lambda\\frac1{120}$\n",
    "\n",
    "\n",
    "- $c_2=\\frac{\\delta_2}\\delta = \\int_0^1 f(1-f) d\\eta = \\frac{37}{315}-\\lambda\\frac1{945}-\\lambda^2\\frac1{9072}$\n",
    "\n",
    "\n",
    "- $\\frac 12 c_f Re_\\delta =f'_0= 2+\\lambda\\frac1{6}$\n",
    "\n",
    "where $Re_\\delta = \\frac{u_e\\delta}\\nu$ is the local boundary layer Reynolds number. \n",
    "\n",
    "I've implemented these in the `BoundaryLayer` module (which I'll nickname `bl`) as `disp_ratio`, `mom_ratio`, and `df_0`:"
   ]
  },
  {
   "cell_type": "code",
   "execution_count": null,
   "metadata": {},
   "outputs": [],
   "source": [
    "import BoundaryLayer as bl\n",
    "\n",
    "pyplot.figure(figsize=(5,5))\n",
    "pyplot.xlabel(r'$\\lambda$', fontsize=20)\n",
    "lam = numpy.linspace(-12,12)\n",
    "pyplot.plot(lam,bl.disp_ratio(lam), lw=2, label=r'$c_1=\\delta_1/\\delta$')\n",
    "pyplot.plot(lam,bl.mom_ratio(lam), lw=2, label=r'$c_2=\\delta_2/\\delta$')\n",
    "pyplot.ylim(0,)\n",
    "pyplot.legend(loc='upper right',fontsize=16)"
   ]
  },
  {
   "cell_type": "code",
   "execution_count": null,
   "metadata": {},
   "outputs": [],
   "source": []
  }
 ],
 "metadata": {
  "kernelspec": {
   "display_name": "Python 3",
   "language": "python",
   "name": "python3"
  },
  "language_info": {
   "codemirror_mode": {
    "name": "ipython",
    "version": 3
   },
   "file_extension": ".py",
   "mimetype": "text/x-python",
   "name": "python",
   "nbconvert_exporter": "python",
   "pygments_lexer": "ipython3",
   "version": "3.6.4"
  }
 },
 "nbformat": 4,
 "nbformat_minor": 1
}
