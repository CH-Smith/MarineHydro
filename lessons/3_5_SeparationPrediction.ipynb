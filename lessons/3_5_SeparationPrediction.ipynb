{
 "cells": [
  {
   "cell_type": "code",
   "execution_count": 1,
   "metadata": {},
   "outputs": [
    {
     "data": {
      "text/html": [
       "<link href='http://fonts.googleapis.com/css?family=Fenix' rel='stylesheet' type='text/css'>\n",
       "<link href='http://fonts.googleapis.com/css?family=Alegreya+Sans:100,300,400,500,700,800,900,100italic,300italic,400italic,500italic,700italic,800italic,900italic' rel='stylesheet' type='text/css'>\n",
       "<link href='http://fonts.googleapis.com/css?family=Source+Code+Pro:300,400' rel='stylesheet' type='text/css'>\n",
       "<style>\n",
       "    @font-face {\n",
       "        font-family: \"Computer Modern\";\n",
       "        src: url('http://mirrors.ctan.org/fonts/cm-unicode/fonts/otf/cmunss.otf');\n",
       "    }\n",
       "    h1 {\n",
       "        font-family: 'Alegreya Sans', sans-serif;\n",
       "    }\n",
       "    h2 {\n",
       "        font-family: 'Fenix', serif;\n",
       "    }\n",
       "    h3{\n",
       "\t\tfont-family: 'Fenix', serif;\n",
       "        margin-top:12px;\n",
       "        margin-bottom: 3px;\n",
       "       }\n",
       "\th4{\n",
       "\t\tfont-family: 'Fenix', serif;\n",
       "       }\n",
       "    h5 {\n",
       "        font-family: 'Alegreya Sans', sans-serif;\n",
       "    }\n",
       "/*    .CodeMirror{\n",
       "            font-family: \"Source Code Pro\";\n",
       "\t\t\tfont-size: 90%;\n",
       "    }*/\n",
       "/*    .prompt{\n",
       "        display: None;\n",
       "    }*/\n",
       "    .text_cell_render h1 {\n",
       "        font-weight: 200;\n",
       "        font-size: 50pt;\n",
       "\t\tline-height: 100%;\n",
       "        color:#CD2305;\n",
       "        margin-bottom: 0.5em;\n",
       "        margin-top: 0.5em;\n",
       "        display: block;\n",
       "    }\n",
       "    .text_cell_render h5 {\n",
       "        font-weight: 300;\n",
       "        font-size: 16pt;\n",
       "        color: #CD2305;\n",
       "        font-style: italic;\n",
       "        margin-bottom: .5em;\n",
       "        margin-top: 0.5em;\n",
       "        display: block;\n",
       "    }\n",
       "\n",
       "    .warning{\n",
       "        color: rgb( 240, 20, 20 )\n",
       "        }\n",
       "</style>\n",
       "<style>\n",
       "  img[alt=short] { height: 200px; }\n",
       "  img[alt=medium] { height: 300px; }\n",
       "</style>\n",
       "<script>\n",
       "    MathJax.Hub.Config({\n",
       "                        TeX: {\n",
       "                           extensions: [\"AMSmath.js\"],\n",
       "                           equationNumbers: { autoNumber: \"AMS\", useLabelIds: true}\n",
       "                           },\n",
       "                tex2jax: {\n",
       "                    inlineMath: [ ['$','$'], [\"\\\\(\",\"\\\\)\"] ],\n",
       "                    displayMath: [ ['$$','$$'], [\"\\\\[\",\"\\\\]\"] ]\n",
       "                },\n",
       "                displayAlign: 'center', // Change this to 'center' to center equations.\n",
       "                \"HTML-CSS\": {\n",
       "                    styles: {'.MathJax_Display': {\"margin\": 4}}\n",
       "                }\n",
       "        });\n",
       "</script>\n"
      ],
      "text/plain": [
       "<IPython.core.display.HTML object>"
      ]
     },
     "execution_count": 1,
     "metadata": {},
     "output_type": "execute_result"
    }
   ],
   "source": [
    "from IPython.core.display import HTML\n",
    "def css_styling():\n",
    "    styles = open('../styles/custom.css', 'r').read()\n",
    "    return HTML(styles)\n",
    "css_styling()"
   ]
  },
  {
   "cell_type": "markdown",
   "metadata": {},
   "source": [
    "# Separation prediction\n",
    "\n",
    "In this section we will combine the vortex panel method and the boundary layer solver to predict separation on any 2D shape."
   ]
  },
  {
   "cell_type": "markdown",
   "metadata": {},
   "source": [
    "## Panel method and boundary layer coupling\n",
    "\n",
    "What will we need to interface the `VortexPanel` and `BoundaryLayer` modules?  \n",
    "\n",
    "The external flow doesn't need anything from `BoundaryLayer` - it just needs a geometry and angle of attack:"
   ]
  },
  {
   "cell_type": "code",
   "execution_count": null,
   "metadata": {},
   "outputs": [],
   "source": [
    "import numpy\n",
    "from matplotlib import pyplot\n",
    "%matplotlib inline\n",
    "\n",
    "import VortexPanel as vp\n",
    "import BoundaryLayer as bl\n",
    "\n",
    "alpha = numpy.pi/20\n",
    "foil = vp.make_jukowski(N=64)\n",
    "foil.solve_gamma_kutta(alpha)\n",
    "foil.plot_flow()"
   ]
  },
  {
   "cell_type": "markdown",
   "metadata": {},
   "source": [
    "From the previous notebook we know the function `march` doesn't need the details of the geometry, but it does need:\n",
    "\n",
    "- $s$: the distance along the boundary layer\n",
    "- $u_e$: the velocity on the edge of the boundary layer\n",
    "- $\\nu$: the kinematic viscosity (given by Reynolds number)\n",
    "\n",
    "We'll need to get the first two from the potential flow solution.\n",
    "\n",
    "---\n"
   ]
  },
  {
   "cell_type": "markdown",
   "metadata": {},
   "source": [
    "Getting the velocity is surprisingly simple. The total jump in tangential velocity across the panel is $\\Delta u_s=-\\gamma$. Since $u_s=0$ on the body side of the panel after `solve`ing, the tangential velocity on the flow side of the panel is simply \n",
    "\n",
    "$$u_s(x_i,y_i) = -\\gamma_i$$\n",
    "\n",
    "and the external velocity is $u_e=|u_s|$.\n",
    "\n",
    "---"
   ]
  },
  {
   "cell_type": "markdown",
   "metadata": {},
   "source": [
    "Now that we know how to get the velocity, we need to think about the distance along the BL, $s$. Note that a body will form **two** boundary layers, one on each side. We need to identify the starting point of these two flow regions."
   ]
  },
  {
   "cell_type": "markdown",
   "metadata": {},
   "source": [
    "##### Quiz\n",
    "\n",
    "Where is the starting point of the two boundary layers?\n",
    "\n",
    "1. The first panel: `foil[0]`\n",
    "1. The panel where $u_s = 0$\n",
    "1. The left-most panel, `foil[N/2]`"
   ]
  },
  {
   "cell_type": "markdown",
   "metadata": {},
   "source": [
    "\n",
    "This makes it straightforward to split the body into the two boundary layer sections:\n",
    "```python\n",
    "def split(self):\n",
    "    top = [p for p in self.panels if p.gamma<=0]\n",
    "    bot = [p for p in self.panels if p.gamma>=0]\n",
    "    return PanelArray(top),PanelArray(bot[::-1])\n",
    "```\n",
    "Note that we changed the direction of the bottom array so that it runs from the stagnation point to the trailing edge to match the flow direction.\n",
    "\n",
    "This is implemented in the `PanelArray.split` function. Let's use the example code to test the `split` function:"
   ]
  },
  {
   "cell_type": "code",
   "execution_count": null,
   "metadata": {},
   "outputs": [],
   "source": [
    "foil = vp.make_jukowski(N=64)        #1. Define the geometry\n",
    "foil.solve_gamma_kutta(alpha=0.1)    #2. Solve for the potential flow\n",
    "foil_top,foil_bot = foil.split()     #3. Split the boundary layers\n",
    "\n",
    "def plot_segment(segment):\n",
    "    pyplot.figure(figsize=(10,2))\n",
    "    pyplot.axis([-1.2,1.2,-.3,.3])\n",
    "    for i,p_i in enumerate(segment.panels): \n",
    "        p_i.plot()\n",
    "        if i%8 == 0:\n",
    "            pyplot.scatter(p_i.xc,p_i.yc)\n",
    "            pyplot.text(p_i.xc,p_i.yc+0.05, \n",
    "                'panel ['+'%i'%i+']',fontsize=12)\n",
    "    pyplot.show()\n",
    "\n",
    "plot_segment(foil_top)\n",
    "plot_segment(foil_bot)"
   ]
  },
  {
   "cell_type": "markdown",
   "metadata": {},
   "source": [
    "As we change `alpha`, the stagnation point - and therefore the panels in each section - changes.\n",
    "\n",
    "---\n",
    "\n",
    "Once the sections are `split` we can feed them to `PanelArray.march`. It's only three lines of code:\n",
    "```python\n",
    "    s = self.distance()                      # distance\n",
    "    u_e = abs(self.get_array(\"gamma\"))       # velocity\n",
    "    return bl.march(s,u_e,nu,thwaites)       # march\n",
    "```"
   ]
  },
  {
   "cell_type": "code",
   "execution_count": null,
   "metadata": {},
   "outputs": [],
   "source": [
    "help(foil.march)"
   ]
  },
  {
   "cell_type": "markdown",
   "metadata": {},
   "source": [
    "## Boundary layer around a circle\n",
    "\n",
    "Lets run the example in the docstring as our first application: the boundary layer on a circle."
   ]
  },
  {
   "cell_type": "markdown",
   "metadata": {},
   "source": [
    "##### Quiz\n",
    "\n",
    "Why do I keep testing code on simple shapes like circles?\n",
    "\n",
    "1. I'm terribly forgetful\n",
    "1. New examples take work\n",
    "1. I want to validate the new code"
   ]
  },
  {
   "cell_type": "markdown",
   "metadata": {},
   "source": [
    "##### Numerical fundamental: Validation\n",
    "##### Every piece of code must be tested against a known nontrivial example\n",
    "\n",
    "---"
   ]
  },
  {
   "cell_type": "markdown",
   "metadata": {},
   "source": [
    "![short](resources/graphics3.png)\n",
    "---\n",
    "\n",
    "So lets validate the results. The *theoretical* laminar separation point for a circular cylinder is $108\\deg$ from the leading stagnation point. For a circle has radius $R=1$, this corresponds to $s=1.88$. Lets check the simulation by plotting $\\lambda$. \n",
    "\n",
    "__Notice there are 4 steps in solving the BL flow:__"
   ]
  },
  {
   "cell_type": "code",
   "execution_count": null,
   "metadata": {},
   "outputs": [],
   "source": [
    "# set up and solve circle BL flow:\n",
    "nu = 1e-5\n",
    "circle = vp.make_circle(N=64)     #1. make the geometry\n",
    "circle.solve_gamma()              #2. solve the pflow\n",
    "top,bottom = circle.split()       #3. split the panels\n",
    "delta2,lam,iSep = top.march(nu)   #4. march along the BL\n",
    "\n",
    "# plot lambda(s)\n",
    "s = top.distance()\n",
    "pyplot.ylabel(r'$\\lambda$', fontsize=20, rotation=0)\n",
    "pyplot.xlabel(r'$s$', fontsize=20)\n",
    "pyplot.plot(s,lam,lw=2)\n",
    "pyplot.axhline(-12,ls='--')"
   ]
  },
  {
   "cell_type": "markdown",
   "metadata": {},
   "source": [
    "As you move along the boundary layer, $\\lambda$ decreases from the initial stagnation point condition of $\\lambda_0\\approx7$ and eventually crosses the threshold for separation $\\lambda=-12$. Values after separation are meaningless.\n",
    "\n",
    "From the plot we can see separation occurs between $1.7<s<2$, but this is too vague. We need a specific prediction and we can use `iSep` to get one. If `iSep=13.2` it means that separation occured 20% of the way between `s[13]` and `s[14]`. All we need to do is interpolate, and we can do this for __any__ panel attribute, not just `s`:\n",
    "```python\n",
    "def sep(y,iSep):\n",
    "    i = math.ceil(iSep)           # round up to nearest integer\n",
    "    di = i-iSep                   # interpolation `distance`\n",
    "    return y[i-1]*di+y[i]*(1-di)  # linearly interpolate\n",
    "```\n",
    "This is the `BoundaryLayer.sep` function. Let's see what we get:"
   ]
  },
  {
   "cell_type": "code",
   "execution_count": null,
   "metadata": {},
   "outputs": [],
   "source": [
    "sSep = bl.sep(s,iSep)\n",
    "print('analytic prediction @ s=1.88 \\n numeric prediction @ s={:.2f}'.format(sSep))"
   ]
  },
  {
   "cell_type": "markdown",
   "metadata": {},
   "source": [
    "Our numerical method prediction is less than a percent different than the theoretical result!"
   ]
  },
  {
   "cell_type": "markdown",
   "metadata": {},
   "source": [
    "##### Quiz\n",
    "\n",
    "How does the separation point depend on $\\nu$?\n",
    "\n",
    "1. Increasing $\\nu$ delays separation\n",
    "1. Decreasing $\\nu$ delays separation\n",
    "1. Chaning $\\nu$ has no effect on separation"
   ]
  },
  {
   "cell_type": "markdown",
   "metadata": {},
   "source": [
    "---\n",
    "\n",
    "Is this a bug??\n",
    "\n",
    "We know from lectures that $\\delta$ scales as $\\sqrt\\nu$, and therefore $\\lambda=\\frac{\\delta^2}\\nu u_e'$ doesn't depend on $\\nu$ at all. Since the separation point is determined by $\\lambda$, this is also independent of $\\nu$.\n",
    "\n",
    "##### Fluids fundamental: Separation Point\n",
    "##### The point of laminar separation is independent of $Re$\n",
    "\n",
    "This is **not** true of a turbulent boundary layer.\n",
    "\n",
    "---\n",
    "\n",
    "Lets also compare the circle and plate plate boundary layers (__note__ I truncate the arrays after the point of separation):"
   ]
  },
  {
   "cell_type": "code",
   "execution_count": null,
   "metadata": {},
   "outputs": [],
   "source": [
    "n = int(numpy.floor(iSep)+2) # length of arrays up to iSep\n",
    "\n",
    "pyplot.ylabel(r'$\\delta_2$', fontsize=20, rotation=0)\n",
    "pyplot.xlabel(r'$s$', fontsize=20)\n",
    "pyplot.plot(s,0.664*numpy.sqrt(nu*s),lw=2,label='Flat plate')\n",
    "pyplot.plot(s[:n],delta2[:n],lw=2,label='Circle') # only plot up to separation\n",
    "pyplot.legend(loc='lower right')"
   ]
  },
  {
   "cell_type": "markdown",
   "metadata": {},
   "source": [
    "It can't be over-emphasized how different the flat plate and circle boundary layers are. \n",
    "\n",
    "##### Fluid fundamental: Pressure gradients\n",
    "##### Flow gradients completely change the development of a boundary layer.\n",
    "\n",
    "Because of these gradients:\n",
    " - The boundary layer growth is stunted on the front body where the flow is accelerating.\n",
    " - Rapid BL growth and separation occur soon after the flow begins to decelerate. "
   ]
  },
  {
   "cell_type": "markdown",
   "metadata": {},
   "source": [
    "##### Quiz\n",
    "\n",
    "Up to the point of separation, which geometry will have the larger friction force?\n",
    "\n",
    "1. The circle\n",
    "1. The plate  \n",
    "1. Approximately the same"
   ]
  },
  {
   "cell_type": "markdown",
   "metadata": {},
   "source": [
    "## Separation of the foil\n",
    "\n",
    "Finally, let's solve for the boundary layer separation points on the foil using the `PanelArray.sep_point` function. It is another 3 liner:\n",
    "```python\n",
    "    delta2,lam,iSep = self.march(1)\n",
    "    x,y = self.get_array('xc','yc')\n",
    "    return bl.sep(x,iSep),bl.sep(y,iSep)\n",
    "```\n",
    " Note this function doesn't depend on $\\nu$ because... Quiz 3"
   ]
  },
  {
   "cell_type": "code",
   "execution_count": null,
   "metadata": {},
   "outputs": [],
   "source": [
    "alpha = numpy.pi/18\n",
    "foil = vp.make_jukowski(N=64)       #1. make the geometry\n",
    "foil.solve_gamma_kutta(alpha)       #2. solve the pflow\n",
    "top,bot = foil.split()              #3. split the panels\n",
    "x_top,y_top = top.sep_point()       #4. find separation on top \n",
    "x_bot,y_bot = bot.sep_point()       #   ... and bottom BL\n",
    "\n",
    "foil.plot_flow()\n",
    "pyplot.scatter(x_top,y_top, s=100, c='r', zorder=10)\n",
    "pyplot.scatter(x_bot,y_bot, s=100, c='g', zorder=10)\n",
    "pyplot.show()"
   ]
  },
  {
   "cell_type": "markdown",
   "metadata": {},
   "source": [
    "And we see that at an angle of attack, the high pressure side of the foil (the bottom) has delayed separation, while the low pressure side has early separation. This is exactly the kind of information we need to predict stall.\n",
    "\n",
    "---\n",
    "\n",
    "## Summary \n",
    "\n",
    "Let's review the general solution methodology again: \n",
    "\n",
    "1. `make` the geometry as a set of vortex panels\n",
    "1. `solve` the potential flow by applying the no-slip and kutta conditions\n",
    "1. `split` the panels into sections on either side of the stagnation points\n",
    "1. `march` the boundary layer equations to the point of separation\n",
    "\n",
    "Then you can measure, print, or plot any flow quantity you want. \n",
    "\n",
    "##### Numerical fundamental: Synergy\n",
    "##### Simple functions can be linked to build powerful methods\n",
    "\n",
    "By combining the `VortexPanel` methods with the `BoundaryLayer.march` method, we've developed a numerical tool to predict separation on **any** body (or group of bodies)."
   ]
  },
  {
   "cell_type": "markdown",
   "metadata": {},
   "source": [
    "## Aspect ratio validation\n",
    "\n",
    "We've validated the code for the known case of a circle, but this is just one geometry. \n",
    "\n",
    "##### Numerical fundamental: Skepticism\n",
    "##### \"That is what the computer said...\" - Famous last words\n",
    "\n",
    "We should validate a new method on as many known results as possible. "
   ]
  },
  {
   "cell_type": "markdown",
   "metadata": {},
   "source": [
    "One thing we could validate is that the separation points change properly if the aspect ratio $t/c$ is changed.  Here is a summary figure from Chapter 3 of Hoerner's *Fluid-Dynamic Drag*\n",
    "\n",
    "---\n",
    "![Hoerner Drag, Fig 5, Chap 3](resources/separation_hoerner.png)\n",
    "\n",
    "---\n",
    "There are four ellipse examples and two Jukowski examples. Based on this figure, I estimate:\n",
    "\n",
    "Jukowski foil:\n",
    "\n",
    "$t/c$| 0.17  | 0.15 \n",
    "---|\n",
    "$x/c$| $0.39$  | $0.49$ \n",
    "\n",
    "Ellipse:\n",
    "\n",
    "$t/c$| 1 |1/2 | 1/4 | 1/6 | 1/8 \n",
    "---|\n",
    "$x/c$| $0.65$ | $0.75$ | $0.85$ | $0.89$ | $0.92$ \n",
    "\n",
    "where $x$ is the linear distance from the nose to the point of separation. I've included the result for a circle."
   ]
  },
  {
   "cell_type": "markdown",
   "metadata": {},
   "source": [
    "##### Your turn #5\n",
    "\n",
    "Validate the separation prediction method against these two families of geometries. \n",
    "\n",
    " - **Predict** separation for the Jukowski cases, being sure to match $t/c$.\n",
    " - **Predict and Plot** $x/c$ for the ellipse for $t/c$=`linspace(0.08,1.1,10)` compared to Hoerner's data. \n",
    " - **Discuss** the results with regards to validation and trends. Are these adequate to validate the numerical method? Are there any surprises?\n",
    "\n",
    "I recommend that you write a few functions to help automate the prediction process, similar to the previous notebooks..."
   ]
  },
  {
   "cell_type": "markdown",
   "metadata": {},
   "source": [
    "##### Solution #5\n"
   ]
  },
  {
   "cell_type": "code",
   "execution_count": null,
   "metadata": {},
   "outputs": [],
   "source": [
    "# function definitions\n",
    "\n",
    "# x/c for the foils using vp.make_jukowski\n",
    "\n",
    "# x/c for the ellipses using vp.make_ellipse\n",
    "t_c = numpy.linspace(0.08,1.1,10)\n",
    "\n",
    "pyplot.scatter([1,1./2.,1./4.,1./6.,1./8.],\n",
    "               [0.65,0.75,0.85,0.89,0.92], \n",
    "               s=100, label='Hoerner')\n",
    "pyplot.legend(loc='upper right')\n",
    "pyplot.xlabel(r'$t/c$', fontsize=16)\n",
    "pyplot.ylabel(r'$x/c$', fontsize=16)"
   ]
  }
 ],
 "metadata": {
  "kernelspec": {
   "display_name": "Python 2",
   "language": "python",
   "name": "python2"
  },
  "language_info": {
   "codemirror_mode": {
    "name": "ipython",
    "version": 2
   },
   "file_extension": ".py",
   "mimetype": "text/x-python",
   "name": "python",
   "nbconvert_exporter": "python",
   "pygments_lexer": "ipython2",
   "version": "2.7.10"
  }
 },
 "nbformat": 4,
 "nbformat_minor": 1
}
