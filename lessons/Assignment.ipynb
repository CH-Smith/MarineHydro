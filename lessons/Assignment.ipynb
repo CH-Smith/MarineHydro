{
 "cells": [
  {
   "cell_type": "markdown",
   "metadata": {},
   "source": [
    "# Numerical Hydrodynamics Assignment"
   ]
  },
  {
   "cell_type": "markdown",
   "metadata": {},
   "source": [
    "The assignment has two parts:\n",
    "\n",
    "1. Complete and consolidate all 6 of the `your turn` elements [10% each]\n",
    "1. Investigate the flow around a **mystery** geometry which will be assigned individually. [40%]\n",
    "\n",
    "The assignment is due at the end of term. Check blackboard for the date and time."
   ]
  },
  {
   "cell_type": "markdown",
   "metadata": {},
   "source": [
    "## Submission requirements\n",
    "\n",
    "The project will be submitted in the form of an Jupyter notebook, like this one. This means your report will be a [reproducible scientific document](http://www.nature.com/news/interactive-notebooks-sharing-the-code-1.16261); all of your results will be generated and displayed inside the document itself. \n",
    "\n",
    "You can and should import as many functions as possible from the `numpy`, `pyplot`, `scipy`, `VortexPanel` and `BoundaryLayer` libraries. Never rewrite functions that have already been developed (and tested). Here is the top of my solution notebook:"
   ]
  },
  {
   "cell_type": "code",
   "execution_count": null,
   "metadata": {
    "collapsed": true
   },
   "outputs": [],
   "source": [
    "import numpy                             # import numerical library\n",
    "from matplotlib import pyplot            # import plot library\n",
    "%matplotlib inline\n",
    "from matplotlib.pylab import rcParams    # import plot parameters\n",
    "rcParams['axes.labelsize'] = 18          # set axes font size\n",
    "\n",
    "from VortexPanel import *\n",
    "from BoundaryLayer import *"
   ]
  },
  {
   "cell_type": "markdown",
   "metadata": {},
   "source": [
    "I don't recommend that you change any of the functions in `VortexPanel.py` or `BoundaryLayer.py` since you would then need to copy/paste them into your solution notebook and it would get confusing. But feel free to look at the code in those files to get ideas on how to write your own functions if you want.\n",
    "\n",
    "Part 2 of your notebook (your individual geometry) should have short *Method*, *Results*, and *Discussion* sections. **Please keep the text brief and to the point**. In particular, do not explain how the functions in `VortexPanel` and `BoundaryLayer` work - explain how *your* code works. Why did *you* choose that method? What do *your* results mean?\n",
    "\n",
    "Submit the report using Blackboard. And again - all results must be generated in the notebook and be publication quality; axis labeled, plot legends included, etc."
   ]
  }
 ],
 "metadata": {
  "kernelspec": {
   "display_name": "Python 2",
   "language": "python",
   "name": "python2"
  },
  "language_info": {
   "codemirror_mode": {
    "name": "ipython",
    "version": 2
   },
   "file_extension": ".py",
   "mimetype": "text/x-python",
   "name": "python",
   "nbconvert_exporter": "python",
   "pygments_lexer": "ipython2",
   "version": "2.7.10"
  }
 },
 "nbformat": 4,
 "nbformat_minor": 0
}
