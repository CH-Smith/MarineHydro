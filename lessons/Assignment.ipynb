{
 "cells": [
  {
   "cell_type": "markdown",
   "metadata": {},
   "source": [
    "# Numerical Hydrodynamics Assignment"
   ]
  },
  {
   "cell_type": "markdown",
   "metadata": {},
   "source": [
    "The assignment has two parts:\n",
    "\n",
    "1. Complete and consolidate all 6 of the `your turn` elements [10% each]\n",
    "1. Investigate the flow around a **mystery** geometry which will be assigned individually. [40%]"
   ]
  },
  {
   "cell_type": "markdown",
   "metadata": {},
   "source": [
    "## Submission requirements\n",
    "\n",
    "The project will be submitted in the form of an iPython notebook, like this one. This means your report will be a [reproducible scientific document](http://www.nature.com/news/interactive-notebooks-sharing-the-code-1.16261); all of your results will be generated and displayed inside the document itself. \n",
    "\n",
    "You should import the functions from `VortexPanel.py` and `BoundaryLayer.py`, just like in the notebooks. Here is the top of my solutions:"
   ]
  },
  {
   "cell_type": "code",
   "execution_count": null,
   "metadata": {
    "collapsed": true
   },
   "outputs": [],
   "source": [
    "import numpy                             # import numerical library\n",
    "from matplotlib import pyplot            # import plot library\n",
    "%matplotlib inline\n",
    "from matplotlib.pylab import rcParams    # import plot parameters\n",
    "rcParams['axes.labelsize'] = 18          # set axes font size\n",
    "\n",
    "from VortexPanel import *\n",
    "from BoundaryLayer import *"
   ]
  },
  {
   "cell_type": "markdown",
   "metadata": {},
   "source": [
    "Any other functions you need must be written in the notebook itself. All results must be generated in the notebook and be publication quality; axis labeled, plot legends included, etc.\n",
    "\n",
    "For part 2 your report should have short *Method*, *Results*, and *Discussion* sections. **Please keep the text brief and to the point**. In particular, do not explain how `VortexPanel.py` and `BoundaryLayer.py` work - explain how *your* code works. What method did *you* use? What do *your* results mean?\n",
    "\n",
    "Submit the report using Blackboard."
   ]
  }
 ],
 "metadata": {
  "kernelspec": {
   "display_name": "Python 2",
   "language": "python",
   "name": "python2"
  },
  "language_info": {
   "codemirror_mode": {
    "name": "ipython",
    "version": 2
   },
   "file_extension": ".py",
   "mimetype": "text/x-python",
   "name": "python",
   "nbconvert_exporter": "python",
   "pygments_lexer": "ipython2",
   "version": "2.7.10"
  }
 },
 "nbformat": 4,
 "nbformat_minor": 0
}
