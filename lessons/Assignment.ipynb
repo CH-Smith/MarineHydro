{
 "cells": [
  {
   "cell_type": "markdown",
   "metadata": {},
   "source": [
    "# Numerical Hydrodynamics Assignment"
   ]
  },
  {
   "cell_type": "markdown",
   "metadata": {},
   "source": [
    "The assignment has two parts:\n",
    "\n",
    "1. Complete and consolidate all 6 of the `your turn` elements and  \n",
    "1. Investigate the flow around a **mystery** geometry which will be assigned individually."
   ]
  },
  {
   "cell_type": "markdown",
   "metadata": {},
   "source": [
    "## Submission requirements\n",
    "\n",
    "The project will be submitted in the form of an iPython notebook, like this one. This means your report will be a [reproducible scientific document](http://www.nature.com/news/interactive-notebooks-sharing-the-code-1.16261); all of your results will be generated and displayed inside the document itself. \n",
    "\n",
    "You may use the code in the `VortexPanel.py` and `BoundaryLayer.py` files, but all other code must be embedded in the notebook itself. All results must be generated in the notebook and be publication quality; axis labeled, plot legends included, etc.\n",
    "\n",
    "For part 2 your report should have short *Method*, *Results*, and *Discussion* sections. **Please keep the text brief and to the point**. In particular, do not explain how `VortexPanel.py` and `BoundaryLayer.py` work - explain how *your* code works. What method did *you* use? What do *your* results mean?\n",
    "\n",
    "Submit the report using Blackboard."
   ]
  },
  {
   "cell_type": "markdown",
   "metadata": {},
   "source": [
    "## iPython help\n",
    "\n",
    "The text in iPython notebooks is written in [Markdown](https://help.github.com/articles/markdown-basics/), which is extremely simple to use. The best part is that it let's you embed latex-style equations like this\n",
    "\n",
    "$$ a \\rightarrow b $$\n",
    "\n",
    "without latex installed. The worst part is that spell-checking doesn't work automatically. You can copy-paste into a text editor, or try [installing a spell checker](https://github.com/ipython-contrib/IPython-notebook-extensions/wiki/aspell). \n",
    "\n",
    "Please avoid embedding images in your report since it would require sending additional files and the path information might be corrupted.\n",
    "\n",
    "\n",
    "---\n",
    "\n",
    "In the course you will become familiar with how code blocks work:"
   ]
  },
  {
   "cell_type": "code",
   "execution_count": 1,
   "metadata": {
    "collapsed": false
   },
   "outputs": [
    {
     "name": "stdout",
     "output_type": "stream",
     "text": [
      "6\n"
     ]
    }
   ],
   "source": [
    "a=4\n",
    "a+=2\n",
    "print(a)"
   ]
  },
  {
   "cell_type": "markdown",
   "metadata": {},
   "source": [
    "but my #1 tip is: **Make sure to restart the kernel and `Run all` cells in the notebook frequently.** That will avoid unpleasant surprises and ensure that the document you submit will work as you intend it to.\n",
    "\n",
    "---\n",
    "\n",
    "I'll add more tips to this document and post announcements as common problems present themselves."
   ]
  }
 ],
 "metadata": {
  "kernelspec": {
   "display_name": "Python 2",
   "language": "python",
   "name": "python2"
  },
  "language_info": {
   "codemirror_mode": {
    "name": "ipython",
    "version": 2
   },
   "file_extension": ".py",
   "mimetype": "text/x-python",
   "name": "python",
   "nbconvert_exporter": "python",
   "pygments_lexer": "ipython2",
   "version": "2.7.10"
  }
 },
 "nbformat": 4,
 "nbformat_minor": 0
}
