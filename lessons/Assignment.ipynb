{
 "cells": [
  {
   "cell_type": "markdown",
   "metadata": {},
   "source": [
    "# Numerical Hydrodynamics Assignment\n",
    "\n",
    "The numerical assignment has two parts:\n",
    "\n",
    "1. Complete and pass the blackboard assignment for each of the notebook lessons.\n",
    "1. Write a short report on one of the four project topics in the `../geometries` folder. Your topic is assigned based on your student ID number.\n",
    "\n",
    "---\n",
    "\n",
    "## Report format\n",
    "\n",
    "The report will be submitted in the form of an Jupyter notebook, like this one. This means it will be a [reproducible scientific document](http://www.nature.com/news/interactive-notebooks-sharing-the-code-1.16261); all of your results will be generated and displayed inside the document itself. \n",
    "\n",
    "Upload the file as `[name]_[ID].ipnb` to blackboard by 6pm on the submission date.\n",
    "\n",
    "---\n",
    "\n",
    "## Report Style\n",
    "\n",
    "The report should contain short *Method*, *Results*, and *Discussion* sections. All results must be generated in the notebook and be publication quality; axis labeled, plot legends included, etc.\n",
    "\n",
    "**Please keep the text brief and to the point**. In particular, do not explain how the functions in `VortexPanel` and `BoundaryLayer` work - explain how *your* code works. Why did *you* choose that method? What do *your* results mean?\n",
    "\n",
    "It is difficult to measure `pages` in these notebooks, but aim for something like a 2 or 3-page report with 500-1000 words.\n",
    "\n",
    "---\n",
    "\n",
    "## Report dependancies\n",
    "\n",
    "You can and should import as many functions as possible from the `numpy`, `pyplot`, `scipy`, `VortexPanel` and `BoundaryLayer` libraries. Never rewrite functions that have already been developed (and tested). Here is the top of my solution notebook:"
   ]
  },
  {
   "cell_type": "code",
   "execution_count": null,
   "metadata": {
    "collapsed": true
   },
   "outputs": [],
   "source": [
    "import numpy                    # import numerical library\n",
    "from matplotlib import pyplot   # import plot library\n",
    "import VortexPanel as vp        # import vortex panel module   \n",
    "import BoundaryLayer as bl      # import boundary layer module\n",
    "\n",
    "# pretty plotting stuff\n",
    "%matplotlib inline\n",
    "from matplotlib.pylab import rcParams # helps make the...\n",
    "rcParams['axes.labelsize'] = 18       #   axis labels big enough"
   ]
  },
  {
   "cell_type": "markdown",
   "metadata": {},
   "source": [
    "Feel free to look at the code in `VortexPanel.py` or `BoundaryLayer.py` to get ideas on how to write your own functions, but don't make changes inside those files since it would break compatibility with my files."
   ]
  }
 ],
 "metadata": {
  "kernelspec": {
   "display_name": "Python 2",
   "language": "python",
   "name": "python2"
  },
  "language_info": {
   "codemirror_mode": {
    "name": "ipython",
    "version": 2
   },
   "file_extension": ".py",
   "mimetype": "text/x-python",
   "name": "python",
   "nbconvert_exporter": "python",
   "pygments_lexer": "ipython2",
   "version": "2.7.10"
  }
 },
 "nbformat": 4,
 "nbformat_minor": 0
}
