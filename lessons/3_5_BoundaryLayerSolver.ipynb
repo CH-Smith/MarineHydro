{
 "cells": [
  {
   "cell_type": "code",
   "execution_count": 1,
   "metadata": {
    "collapsed": false
   },
   "outputs": [
    {
     "data": {
      "text/html": [
       "<link href='http://fonts.googleapis.com/css?family=Fenix' rel='stylesheet' type='text/css'>\n",
       "<link href='http://fonts.googleapis.com/css?family=Alegreya+Sans:100,300,400,500,700,800,900,100italic,300italic,400italic,500italic,700italic,800italic,900italic' rel='stylesheet' type='text/css'>\n",
       "<link href='http://fonts.googleapis.com/css?family=Source+Code+Pro:300,400' rel='stylesheet' type='text/css'>\n",
       "<style>\n",
       "    @font-face {\n",
       "        font-family: \"Computer Modern\";\n",
       "        src: url('http://mirrors.ctan.org/fonts/cm-unicode/fonts/otf/cmunss.otf');\n",
       "    }\n",
       "    h1 {\n",
       "        font-family: 'Alegreya Sans', sans-serif;\n",
       "    }\n",
       "    h2 {\n",
       "        font-family: 'Fenix', serif;\n",
       "    }\n",
       "    h3{\n",
       "\t\tfont-family: 'Fenix', serif;\n",
       "        margin-top:12px;\n",
       "        margin-bottom: 3px;\n",
       "       }\n",
       "\th4{\n",
       "\t\tfont-family: 'Fenix', serif;\n",
       "       }\n",
       "    h5 {\n",
       "        font-family: 'Alegreya Sans', sans-serif;\n",
       "    }\t   \n",
       "    .CodeMirror{\n",
       "            font-family: \"Source Code Pro\";\n",
       "\t\t\tfont-size: 90%;\n",
       "    }\n",
       "/*    .prompt{\n",
       "        display: None;\n",
       "    }*/\n",
       "    .text_cell_render h1 {\n",
       "        font-weight: 200;\n",
       "        font-size: 50pt;\n",
       "\t\tline-height: 100%;\n",
       "        color:#CD2305;\n",
       "        margin-bottom: 0.5em;\n",
       "        margin-top: 0.5em;\n",
       "        display: block;\n",
       "    }\t\n",
       "    .text_cell_render h5 {\n",
       "        font-weight: 300;\n",
       "        font-size: 16pt;\n",
       "        color: #CD2305;\n",
       "        font-style: italic;\n",
       "        margin-bottom: .5em;\n",
       "        margin-top: 0.5em;\n",
       "        display: block;\n",
       "    }\n",
       "    \n",
       "    .warning{\n",
       "        color: rgb( 240, 20, 20 )\n",
       "        }  \n",
       "</style>\n",
       "<script>\n",
       "    MathJax.Hub.Config({\n",
       "                        TeX: {\n",
       "                           extensions: [\"AMSmath.js\"], \n",
       "                           equationNumbers: { autoNumber: \"AMS\", useLabelIds: true}\n",
       "                           },\n",
       "                tex2jax: {\n",
       "                    inlineMath: [ ['$','$'], [\"\\\\(\",\"\\\\)\"] ],\n",
       "                    displayMath: [ ['$$','$$'], [\"\\\\[\",\"\\\\]\"] ]\n",
       "                },\n",
       "                displayAlign: 'center', // Change this to 'center' to center equations.\n",
       "                \"HTML-CSS\": {\n",
       "                    styles: {'.MathJax_Display': {\"margin\": 4}}\n",
       "                }\n",
       "        });\n",
       "</script>\n"
      ],
      "text/plain": [
       "<IPython.core.display.HTML object>"
      ]
     },
     "execution_count": 1,
     "metadata": {},
     "output_type": "execute_result"
    }
   ],
   "source": [
    "from IPython.core.display import HTML\n",
    "def css_styling():\n",
    "    styles = open('../styles/custom.css', 'r').read()\n",
    "    return HTML(styles)\n",
    "css_styling()"
   ]
  },
  {
   "cell_type": "markdown",
   "metadata": {},
   "source": [
    "# Boundary Layer Solver\n",
    "\n",
    "This notebook will develop a numerical method for solving the boundary layer momentum integral equation using Pohlhausen velocity profiles."
   ]
  },
  {
   "cell_type": "markdown",
   "metadata": {},
   "source": [
    "## Momentum integral equation\n",
    "\n",
    "In the boundary layer portion of the course we derived the governing equations for a boundary layer using the concept of a velocity profile \n",
    "\n",
    "$$u = u_e(x) f(\\eta), \\quad \\eta=\\frac y{\\delta(x)}$$\n",
    "\n",
    "where $u_e$ is the local free stream velocity and $\\delta$ is the boundary layer thickness. Note that $x$ is the distance along the wall from the leading edge and $y$ is the distance from the wall.\n",
    "\n",
    "---\n",
    "<img src=\"resources/graphics4.png\" width=\"400\">\n",
    "\n",
    "---\n",
    "\n",
    "Integrating the Prandtl momentum equation through the boundary layer thickness resulted in the **momentum integral equation**\n",
    "\n",
    "$$ \\frac 12 c_f = \\frac{u_e'}{u_e}(\\delta_1+2\\delta_2)+\\delta_2' $$\n",
    "\n",
    "This equation balances the local wall friction with the change in the boundary layer profile properties. The tick mark indicates a derivative, ie $u_e'=\\frac{du_e}{dx}$. \n",
    "\n",
    "** The goal is to use the momentum equation to determine how the boundary layer develops, predicting the friction drag and the point of separation. **\n",
    "\n",
    "The velocity $u_e$ (and $u_e'$) is considered to be prescribed by the potential flow solution, but there are still too many unknowns. We need to choose a profile to develop this further..."
   ]
  },
  {
   "cell_type": "markdown",
   "metadata": {},
   "source": [
    "##Pohlhausen profile\n",
    "\n",
    "The Pohlhausen profile is used to describe a **laminar** velocity profile exposed to external pressure gradients. The profile is defined as\n",
    "\n",
    "$$ \\frac u {u_e} = f(\\eta,\\lambda) = P_F(\\eta)+\\lambda P_G(\\eta) $$\n",
    "\n",
    "where $\\lambda$ is the *shape factor*, given by\n",
    "$$ \\lambda = \\frac {\\delta^2}\\nu u_e'$$\n",
    "\n",
    "and the profile shapes are defined by\n",
    "\n",
    "- $ P_F = 2\\eta-2\\eta^3+\\eta^4 $ is the flat plate profile\n",
    "- $ P_G = \\frac\\eta 6 (1-\\eta)^3 $ is the modification for pressure gradients\n",
    "\n",
    "These can be easly defined using a set of python functions"
   ]
  },
  {
   "cell_type": "code",
   "execution_count": null,
   "metadata": {
    "collapsed": false
   },
   "outputs": [],
   "source": [
    "import numpy\n",
    "\n",
    "def pohlF(eta): return 2*eta-2*eta**3+eta**4\n",
    "def pohlG(eta): return eta/6*(1-eta)**3"
   ]
  },
  {
   "cell_type": "code",
   "execution_count": null,
   "metadata": {
    "collapsed": false
   },
   "outputs": [],
   "source": [
    "from matplotlib import pyplot\n",
    "%matplotlib inline\n",
    "\n",
    "def pohlPlot(lam):\n",
    "    pyplot.figure(figsize=(5,5))\n",
    "    pyplot.xlabel(r'$u/u_e$', fontsize=24)\n",
    "    pyplot.ylabel(r'$y/\\delta$', fontsize=24)\n",
    "    eta = numpy.linspace(0.0,1.0,40)\n",
    "    pyplot.plot(pohlF(eta),eta, ls='--', label=r'$f(0)$')\n",
    "    pyplot.plot(pohlF(eta)+lam*pohlG(eta),eta, lw=2, label=r'$f(\\lambda)$')\n",
    "    pyplot.legend(loc='upper left', fontsize=16)"
   ]
  },
  {
   "cell_type": "markdown",
   "metadata": {},
   "source": [
    "Change $\\lambda$ below to see its effect on the profile shape."
   ]
  },
  {
   "cell_type": "code",
   "execution_count": null,
   "metadata": {
    "collapsed": false
   },
   "outputs": [],
   "source": [
    "pohlPlot(lam=12)"
   ]
  },
  {
   "cell_type": "markdown",
   "metadata": {},
   "source": [
    "##### Quiz 1\n",
    "\n",
    "What value of $\\lambda$ denotes separated flow?\n",
    "\n",
    "1. $\\lambda$<-12\n",
    "1. $\\lambda$=0\n",
    "1. $\\lambda$>12"
   ]
  },
  {
   "cell_type": "markdown",
   "metadata": {},
   "source": [
    "---\n",
    "\n",
    "Using the Pohlhausen profile, the various factors in the momentum integral equation are defined as\n",
    "\n",
    "- $\\frac{\\delta_1}\\delta = \\int_0^1 (1-f) d\\eta = \\frac3{10}-\\lambda\\frac1{120}$\n",
    "\n",
    "\n",
    "- $\\frac{\\delta_2}\\delta = \\int_0^1 f(1-f) d\\eta = \\frac{37}{315}-\\lambda\\frac1{945}-\\lambda^2\\frac1{9072}$\n",
    "\n",
    "\n",
    "- $\\frac 12 c_f Re_\\delta =f'_0= 2+\\lambda\\frac1{6}$\n",
    "\n",
    "where $Re_\\delta = \\frac{u_e\\delta}\\nu$ is the local boundary layer Reynolds number. "
   ]
  },
  {
   "cell_type": "code",
   "execution_count": null,
   "metadata": {
    "collapsed": false
   },
   "outputs": [],
   "source": [
    "def disp_ratio(lam): return 3./10.-lam/120.\n",
    "def mom_ratio(lam): return 37./315.-lam/945.-lam**2/9072.\n",
    "def df_0(lam): return 2+lam/6."
   ]
  },
  {
   "cell_type": "code",
   "execution_count": null,
   "metadata": {
    "collapsed": false
   },
   "outputs": [],
   "source": [
    "pyplot.figure(figsize=(5,5))\n",
    "pyplot.xlabel(r'$\\lambda$', fontsize=24)\n",
    "lam = numpy.linspace(-12,12,100)\n",
    "pyplot.plot(lam,disp_ratio(lam), lw=2, label=r'$\\delta_1/\\delta$')\n",
    "pyplot.plot(lam,mom_ratio(lam), lw=2, label=r'$F=\\delta_2/\\delta$')\n",
    "pyplot.legend(loc='upper right',fontsize=16)"
   ]
  },
  {
   "cell_type": "markdown",
   "metadata": {},
   "source": [
    "Note that these are all polynomial functions of $\\lambda$. **Since $u_e$ is given by potential flow and $\\lambda = \\frac {\\delta^2}\\nu u_e'$, the only unknown in the momentum equation is now $\\delta(x)$!**"
   ]
  },
  {
   "cell_type": "markdown",
   "metadata": {},
   "source": [
    "## Stagnation point condition\n",
    "\n",
    "Now we need to write the momentum equation in terms of $\\delta$ (and $\\lambda$) and solve. This equation needs to be valid from the leading edge all the way to the point of separation. \n",
    "\n",
    "For any body with finite thickness the boundary layer will begin at the stagnation point at the front of the body. However, describing the boundary layer at a stagnation point is somewhat tricky.\n",
    "\n",
    "<img src=\"resources/stagnation.png\" width=\"400\">"
   ]
  },
  {
   "cell_type": "markdown",
   "metadata": {},
   "source": [
    "##### Quiz 2\n",
    "\n",
    "Which relationships are true at a stagnation point?\n",
    "\n",
    "1. $u_e = 0$\n",
    "1. $u_e' = 0$\n",
    "1. $\\delta/x << 1$\n",
    "1. $c_f$ is singular"
   ]
  },
  {
   "cell_type": "markdown",
   "metadata": {},
   "source": [
    "---\n",
    "\n",
    "That's no good - the momentum equation will be singular at the leading edge.  We can avoid this problem by multiplying the whole equation by $Re_\\delta$, leading to:\n",
    "\n",
    "$$ \\frac 12 c_f Re_\\delta = \\frac\\delta\\nu u_e' [\\delta_1+2\\delta_2]+Re_\\delta \\delta_2'$$ \n",
    "\n",
    "The first term on the RHS can be simplified by dividing the brackets by $\\delta$ and mutiplying by $\\delta$ outside out to produce the definition of $\\lambda$. This lets us group the terms only dependant on $\\lambda$ together to define\n",
    "\n",
    "$$ g_1(\\lambda) = \\frac 12 c_f Re_\\delta - \\lambda \\left[\\frac{\\delta_1}{\\delta}+2\\frac{\\delta_2}\\delta\\right]$$"
   ]
  },
  {
   "cell_type": "code",
   "execution_count": null,
   "metadata": {
    "collapsed": false
   },
   "outputs": [],
   "source": [
    "def g_1(lam): return df_0(lam)-lam*(disp_ratio(lam)+2*mom_ratio(lam))"
   ]
  },
  {
   "cell_type": "markdown",
   "metadata": {},
   "source": [
    "Using this definition, the momentum equation is\n",
    "\n",
    "$$ g_1(\\lambda) = Re_\\delta \\delta_2'$$ "
   ]
  },
  {
   "cell_type": "markdown",
   "metadata": {},
   "source": [
    "\n",
    "##### Quiz 3\n",
    "\n",
    "The equation above further simplifies at the stagnation point. Which is correct?\n",
    "\n",
    "1. $g_1 = 0$\n",
    "1. $g_1 = Re_\\delta$\n",
    "1. $ \\frac 12 c_f = 0$"
   ]
  },
  {
   "cell_type": "markdown",
   "metadata": {},
   "source": [
    "---\n",
    "\n",
    "Solving this equations will determine our *initial condition* $\\lambda_0$. Using my vast [google skills](http://lmgtfy.com/?q=numpy+find+root&l=1) I found the `bisect` function in `scipy.optimize` which will solve for the root."
   ]
  },
  {
   "cell_type": "code",
   "execution_count": null,
   "metadata": {
    "collapsed": false
   },
   "outputs": [],
   "source": [
    "from scipy.optimize import bisect\n",
    "lam0 = bisect(g_1,-12,12)\n",
    "print('lambda_0 = '+'%.3f'%lam0)"
   ]
  },
  {
   "cell_type": "markdown",
   "metadata": {},
   "source": [
    "With the value of $\\lambda_0$ determined, the initial condition $\\delta_0$ is simply\n",
    "\n",
    "$$ \\delta_0 = \\sqrt{\\frac{\\nu \\lambda_0}{u_e'(x_0)}} $$"
   ]
  },
  {
   "cell_type": "markdown",
   "metadata": {},
   "source": [
    "## Pohlhausen evolution equation\n",
    "\n",
    "The only thing left to do is write $\\delta_2'$ in terms of $\\delta'$. Using $F=\\frac{\\delta_2}\\delta$ we have\n",
    "\n",
    "$$ \\delta_2' = \\frac{d}{dx}(F\\delta) $$\n",
    "\n",
    "From the line plot above, we see that $F$ is nearly unchanged across the whole range of $\\lambda$, so we will treat it as a constant. Therefore the complete Pohlhausen momentum equation is\n",
    "\n",
    "$$ g_1 = Re_\\delta F \\delta'$$\n",
    "\n",
    "Isolating the derivative, we have\n",
    "\n",
    "$$ \\delta'= \\frac{g_1(\\lambda)}{Re_\\delta F(\\lambda)} $$"
   ]
  },
  {
   "cell_type": "code",
   "execution_count": null,
   "metadata": {
    "collapsed": false
   },
   "outputs": [],
   "source": [
    "def ddx_delta(Re_d,lam):\n",
    "    if Re_d==0: return 0                     # Stagnation point condition\n",
    "    return g_1(lam)/mom_ratio(lam)/Re_d      # delta'"
   ]
  },
  {
   "cell_type": "markdown",
   "metadata": {},
   "source": [
    "Lets plot the functions of  $\\lambda$ to get a feel for how the boundary layer will develop."
   ]
  },
  {
   "cell_type": "code",
   "execution_count": null,
   "metadata": {
    "collapsed": false
   },
   "outputs": [],
   "source": [
    "pyplot.xlabel(r'$\\lambda$', fontsize=16)\n",
    "pyplot.ylabel(r'$g_1/F$', fontsize=16)\n",
    "pyplot.plot(lam,ddx_delta(1,lam), lw=2)\n",
    "pyplot.scatter(lam0,0, s=100, c='r')\n",
    "pyplot.text(lam0,3, r'$\\lambda_0$',fontsize=15)"
   ]
  },
  {
   "cell_type": "markdown",
   "metadata": {},
   "source": [
    "##### Quiz 4\n",
    "\n",
    "What will happen if $\\lambda>\\lambda_0$?\n",
    "\n",
    "1. Flat plate boundary layer flow.\n",
    "1. The boundary layer will shrink.\n",
    "1. The Pohlausen equation will be singular."
   ]
  },
  {
   "cell_type": "markdown",
   "metadata": {},
   "source": [
    "## Ordinary differential equations\n",
    "\n",
    "The $\\delta$ evolution equation above is an ordinary differential equation (ODE), having the form\n",
    "\n",
    "$$ \\delta' = g(\\delta(x),x) $$\n",
    "\n",
    "where the derivative is only a function of the variable and one independent variable $x$. All ODEs have an important feature in common:\n",
    "\n",
    "##### Mathematics fundamental: ODEs\n",
    "##### Systems' whose evolution depends only on their current state \n",
    "\n",
    "This makes them easier to solve. If we integrate the ODE from $x_0$ to $x_1$ we have\n",
    "\n",
    "$$ \\delta(x_1) = \\delta_1= \\delta_0+\\int_{x_0}^{x_1} g(\\delta(x),x) dx $$\n",
    "\n",
    "which means all we need to solve for $\\delta_1$ is the initial condition $\\delta_0$ and an estimate the RHS integral. And once we have $\\delta_1$, we can get $\\delta_2$, etc. In general we have\n",
    "\n",
    "$$ \\delta_{i+1}= \\delta_i+\\int_{x_i}^{x_{i+1}} g(\\delta(x),x) dx  \\quad i=0,\\ldots, N-1$$\n",
    "\n",
    "This means the ODE can be solved by *marching* from $x=0$ to $x=L$."
   ]
  },
  {
   "cell_type": "markdown",
   "metadata": {},
   "source": [
    "##### Quiz 5\n",
    "\n",
    "Compared to the vortex panel equation, how long will it take to solve this system of equations?\n",
    "\n",
    "1. Marching will take **less** time\n",
    "1. Marching will take **the same** amount of time\n",
    "1. Marching will take **more** time"
   ]
  },
  {
   "cell_type": "markdown",
   "metadata": {},
   "source": [
    "## Boundary layer module\n",
    "\n",
    "I have implemented a function `march` to integrate the boundary layer ODE defined by `ddx_delta` above. It is found in the BoundaryLayer.py file. Let's import it and look at the `help`:"
   ]
  },
  {
   "cell_type": "code",
   "execution_count": null,
   "metadata": {
    "collapsed": false
   },
   "outputs": [],
   "source": [
    "from BoundaryLayer import march\n",
    "help(march)"
   ]
  },
  {
   "cell_type": "markdown",
   "metadata": {},
   "source": [
    "The inputs to the function are:\n",
    "\n",
    " - `x`=$x$, an array holding the distance along the boundary layer,\n",
    " - `u_e`=$u_e(x)$, an array holding the external velocity at each $x$, and\n",
    " - `nu`=$\\nu$, the kinematic viscosity.\n",
    " \n",
    "The function breaks out of the marching loop if the flow separates ($\\lambda<-12$) and returns:\n",
    " - `delta`=$\\delta(x)$, the array holding the boundary layer thickness,\n",
    " - `lam`=$\\lambda(x)$, the shape function, and \n",
    " - `iSep`, the array index at which the flow separates.\n",
    " \n",
    "*Note*: The initial condition for the formulation above must be a stagnation point. Therefore, if `u_e[0]>0` (not a stagnation point) then `march` assumes the stagnation point is at $x=0$ and integrates from $x=0\\ldots$`x[0]`. If you pass `x[0]=0` and `u_e[0]>0` then the function will fail.\n",
    "\n",
    "---\n"
   ]
  },
  {
   "cell_type": "markdown",
   "metadata": {},
   "source": [
    "\n",
    "##### Your turn #5\n",
    "\n",
    "Use flat plate theory to test the `march` function:\n",
    "\n",
    "- ** Set up and run ** `march` for a flat plate with $L=1$, $U_\\infty=1$, and $Re_L=10^5$.\n",
    "- ** Plot and compare ** the boundary layer thickness againt the analytic Pohlhausen flat plate solution \n",
    "$$\\frac\\delta L=\\frac{5.836}{\\sqrt{Re_x}}\\frac xL$$\n",
    "- ** Complete ** the $c_f$ function for the local fiction coefficient \n",
    "- ** Plot and compare ** the friction coefficient against the analytic Pohlhausen flat plate solution\n",
    "$$c_f=\\frac{6.85}{\\sqrt{Re_x}}$$\n",
    "- ** Complete ** the $C_F$ function for the integrated friction coefficient\n",
    "$$C_F = \\frac{D}{\\tfrac 12 \\rho U_\\infty^2 L } = \\frac{\\int_0^L \\tau_w dx}{\\tfrac 12 \\rho U_\\infty^2 L }$$\n",
    "where \n",
    "$$ \\tau_w = \\frac 12 c_f \\rho u_e^2 $$\n",
    "Do not assume $u_e=U_\\infty$, but you can assume $U_\\infty=1$. \n",
    "- ** Compare ** the function output to the flat plate analytic solution \n",
    "$$C_F = 1.33/\\sqrt{Re_L}$$\n",
    "\n",
    "---\n",
    "\n",
    "*Note:* Since $\\tau_w$ is not constant from `x[i]`...`x[i+1]` you should not just use a summation to estimate the friction integral. Instead use `numpy.trapz(f,x)`: a simple function to numerically integrate an array `f` defined at points `x` with the trapezoidal rule. Use `help(numpy.trapz)` for more details."
   ]
  },
  {
   "cell_type": "markdown",
   "metadata": {},
   "source": [
    "##### Solution #5\n",
    "\n",
    "Set up and run `march`:"
   ]
  },
  {
   "cell_type": "code",
   "execution_count": null,
   "metadata": {
    "collapsed": false
   },
   "outputs": [],
   "source": [
    "N=32\n",
    "x = numpy.linspace(0,1,N) # redefine if needed!\n",
    "nu = 1e-5                 # redefine if needed!\n",
    "#u_e = ??\n",
    "\n",
    "#delta,lam,iSep = march(x,u_e,nu)       # solve!"
   ]
  },
  {
   "cell_type": "code",
   "execution_count": null,
   "metadata": {
    "collapsed": false
   },
   "outputs": [],
   "source": [
    "pyplot.ylabel(r'$\\delta/L$', fontsize=16)\n",
    "pyplot.xlabel(r'$x/L$', fontsize=16)\n",
    "\n",
    "pyplot.plot(x,5.836*numpy.sqrt(nu*x),lw=2,label='analytic')\n",
    "# your code here\n",
    "pyplot.legend(loc='lower right')"
   ]
  },
  {
   "cell_type": "markdown",
   "metadata": {},
   "source": [
    "Get the local and integrated stress."
   ]
  },
  {
   "cell_type": "code",
   "execution_count": null,
   "metadata": {
    "collapsed": false
   },
   "outputs": [],
   "source": [
    "def c_f(u_e,delta,lam,nu):\n",
    "    # your code here\n",
    "    return c_f\n",
    "\n",
    "pyplot.ylabel(r'$c_f$', fontsize=16)\n",
    "pyplot.xlabel(r'$x/L$', fontsize=16)\n",
    "\n",
    "pyplot.plot(x,0.685*numpy.sqrt(nu/x),lw=2,label='analytic')\n",
    "# your code here\n",
    "pyplot.legend(loc='upper right')"
   ]
  },
  {
   "cell_type": "code",
   "execution_count": null,
   "metadata": {
    "collapsed": false
   },
   "outputs": [],
   "source": [
    "def C_F(u_e,delta,lam,nu,x):\n",
    "    # your code here using numpy.trapz(f,x)\n",
    "    return C_F\n",
    "\n",
    "print('Analytic: C_F = '+'%.3e' % (1.33*numpy.sqrt(nu)))\n",
    "#print('Numeric:  C_F = '+'%.3e' % C_F(u_e,delta,lam,nu,x))"
   ]
  }
 ],
 "metadata": {
  "kernelspec": {
   "display_name": "Python 2",
   "language": "python",
   "name": "python2"
  },
  "language_info": {
   "codemirror_mode": {
    "name": "ipython",
    "version": 2
   },
   "file_extension": ".py",
   "mimetype": "text/x-python",
   "name": "python",
   "nbconvert_exporter": "python",
   "pygments_lexer": "ipython2",
   "version": "2.7.10"
  }
 },
 "nbformat": 4,
 "nbformat_minor": 0
}
