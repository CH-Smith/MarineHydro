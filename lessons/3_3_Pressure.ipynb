{
 "cells": [
  {
   "cell_type": "code",
   "execution_count": 1,
   "metadata": {
    "collapsed": false
   },
   "outputs": [
    {
     "data": {
      "text/html": [
       "<link href='http://fonts.googleapis.com/css?family=Fenix' rel='stylesheet' type='text/css'>\n",
       "<link href='http://fonts.googleapis.com/css?family=Alegreya+Sans:100,300,400,500,700,800,900,100italic,300italic,400italic,500italic,700italic,800italic,900italic' rel='stylesheet' type='text/css'>\n",
       "<link href='http://fonts.googleapis.com/css?family=Source+Code+Pro:300,400' rel='stylesheet' type='text/css'>\n",
       "<style>\n",
       "    @font-face {\n",
       "        font-family: \"Computer Modern\";\n",
       "        src: url('http://mirrors.ctan.org/fonts/cm-unicode/fonts/otf/cmunss.otf');\n",
       "    }\n",
       "    h1 {\n",
       "        font-family: 'Alegreya Sans', sans-serif;\n",
       "    }\n",
       "    h2 {\n",
       "        font-family: 'Fenix', serif;\n",
       "    }\n",
       "    h3{\n",
       "\t\tfont-family: 'Fenix', serif;\n",
       "        margin-top:12px;\n",
       "        margin-bottom: 3px;\n",
       "       }\n",
       "\th4{\n",
       "\t\tfont-family: 'Fenix', serif;\n",
       "       }\n",
       "    h5 {\n",
       "        font-family: 'Alegreya Sans', sans-serif;\n",
       "    }\t   \n",
       "    .CodeMirror{\n",
       "            font-family: \"Source Code Pro\";\n",
       "\t\t\tfont-size: 90%;\n",
       "    }\n",
       "/*    .prompt{\n",
       "        display: None;\n",
       "    }*/\n",
       "    .text_cell_render h1 {\n",
       "        font-weight: 200;\n",
       "        font-size: 50pt;\n",
       "\t\tline-height: 100%;\n",
       "        color:#CD2305;\n",
       "        margin-bottom: 0.5em;\n",
       "        margin-top: 0.5em;\n",
       "        display: block;\n",
       "    }\t\n",
       "    .text_cell_render h5 {\n",
       "        font-weight: 300;\n",
       "        font-size: 16pt;\n",
       "        color: #CD2305;\n",
       "        font-style: italic;\n",
       "        margin-bottom: .5em;\n",
       "        margin-top: 0.5em;\n",
       "        display: block;\n",
       "    }\n",
       "    \n",
       "    .warning{\n",
       "        color: rgb( 240, 20, 20 )\n",
       "        }  \n",
       "</style>\n",
       "<script>\n",
       "    MathJax.Hub.Config({\n",
       "                        TeX: {\n",
       "                           extensions: [\"AMSmath.js\"], \n",
       "                           equationNumbers: { autoNumber: \"AMS\", useLabelIds: true}\n",
       "                           },\n",
       "                tex2jax: {\n",
       "                    inlineMath: [ ['$','$'], [\"\\\\(\",\"\\\\)\"] ],\n",
       "                    displayMath: [ ['$$','$$'], [\"\\\\[\",\"\\\\]\"] ]\n",
       "                },\n",
       "                displayAlign: 'center', // Change this to 'center' to center equations.\n",
       "                \"HTML-CSS\": {\n",
       "                    styles: {'.MathJax_Display': {\"margin\": 4}}\n",
       "                }\n",
       "        });\n",
       "</script>\n"
      ],
      "text/plain": [
       "<IPython.core.display.HTML object>"
      ]
     },
     "execution_count": 1,
     "metadata": {},
     "output_type": "execute_result"
    }
   ],
   "source": [
    "from IPython.core.display import HTML\n",
    "def css_styling():\n",
    "    styles = open('../styles/custom.css', 'r').read()\n",
    "    return HTML(styles)\n",
    "css_styling()"
   ]
  },
  {
   "cell_type": "markdown",
   "metadata": {},
   "source": [
    "# Pressure coefficient and force\n",
    "\n",
    "We will apply the vortex panel method developed in the last section to determine the pressure coefficient in the flow and the pressure force on a body."
   ]
  },
  {
   "cell_type": "markdown",
   "metadata": {},
   "source": [
    "## VortexPanel module\n",
    "\n",
    "I've put all the important functions from the previous notebooks in the VortexPanel module. Let's import and test them:"
   ]
  },
  {
   "cell_type": "code",
   "execution_count": null,
   "metadata": {
    "collapsed": false
   },
   "outputs": [],
   "source": [
    "import numpy\n",
    "from matplotlib import pyplot\n",
    "%matplotlib inline\n",
    "from VortexPanel import make_circle, solve_gamma, plot_flow, flow_velocity"
   ]
  },
  {
   "cell_type": "code",
   "execution_count": null,
   "metadata": {
    "collapsed": false
   },
   "outputs": [],
   "source": [
    "help(solve_gamma)"
   ]
  },
  {
   "cell_type": "markdown",
   "metadata": {},
   "source": [
    "We can test them by solving for the flow around a circle again."
   ]
  },
  {
   "cell_type": "code",
   "execution_count": null,
   "metadata": {
    "collapsed": false
   },
   "outputs": [],
   "source": [
    "N = 33\n",
    "circle = make_circle(N)         # set-up geom\n",
    "solve_gamma(circle)             # find gamma\n",
    "plot_flow(circle)               # plot the flow"
   ]
  },
  {
   "cell_type": "markdown",
   "metadata": {},
   "source": [
    "Looks good."
   ]
  },
  {
   "cell_type": "markdown",
   "metadata": {},
   "source": [
    "### Bernoulli equation\n",
    "\n",
    "Next we can determine the pressure $p$ in the flow using the Bernoulli equation.\n",
    "\n",
    "$$ p+\\frac 12 \\rho u^2-\\rho gz = B $$\n",
    "\n",
    "where $\\rho$ is the density, $\\rho gz$ is the head, and $B$ is the Bernoulli coefficient. \n",
    "\n",
    "We will assume no hydrostatic pressure."
   ]
  },
  {
   "cell_type": "markdown",
   "metadata": {},
   "source": [
    "##### Quiz 1\n",
    "\n",
    "What is the pressure far from the body, $p_\\infty$?\n",
    "\n",
    "1. $p_\\infty = \\frac 12 \\rho U_\\infty^2$\n",
    "1. $p_\\infty = 0$ \n",
    "1. $p_\\infty = B-\\frac 12 \\rho U_\\infty^2$ "
   ]
  },
  {
   "cell_type": "markdown",
   "metadata": {},
   "source": [
    "### Pressure coefficient\n",
    "\n",
    "To avoid the ambiguity of the Bernoulli coefficient, we typically work with the pressure coefficient $c_p$:\n",
    "\n",
    "$$c_p = \\frac{p-p_\\infty}{\\frac 12\\rho U_\\infty^2}$$"
   ]
  },
  {
   "cell_type": "markdown",
   "metadata": {},
   "source": [
    "##### Quiz 2\n",
    "\n",
    "How can we simplify the pressure coefficient when there is no hydrostatic pressure?\n",
    "\n",
    "1. $c_p = 1-|u|^2/U_\\infty^2$\n",
    "1. $c_p = 0$\n",
    "1. $c_p = 1-p/p_\\infty$"
   ]
  },
  {
   "cell_type": "markdown",
   "metadata": {},
   "source": [
    "---\n",
    "We can use this equation to plot the pressure coefficient in the flow."
   ]
  },
  {
   "cell_type": "code",
   "execution_count": null,
   "metadata": {
    "collapsed": false
   },
   "outputs": [],
   "source": [
    "def field_c_p(u,v): return 1-(u**2+v**2)\n",
    "plot_flow(circle,contour_fun=field_c_p,\n",
    "          contour_min=None,contour_lab='Pressure coefficient')"
   ]
  },
  {
   "cell_type": "markdown",
   "metadata": {},
   "source": [
    "##### Quiz 3\n",
    "\n",
    "What is $c_p$ at the stagnation points?\n",
    "\n",
    "1. $c_p = 0$\n",
    "1. $c_p = 1$\n",
    "1. $c_p = \\infty$"
   ]
  },
  {
   "cell_type": "markdown",
   "metadata": {},
   "source": [
    "## Surface pressure\n",
    "\n",
    "The pressure on the surface of the body relates directly to the forces. Since we're using a vortex panel method, this mean we want the pressure on each panel."
   ]
  },
  {
   "cell_type": "markdown",
   "metadata": {},
   "source": [
    "##### Quiz 4\n",
    "\n",
    "What is the velocity magnitude $|u_e|$ just on the **flow side** of panel $i$? \n",
    "\n",
    "1. 0\n",
    "1. $\\left|\\vec U +\\sum_{j=0}^{N-1} \\gamma_j \\vec f_j(x_i,y_i)\\right|$\n",
    "1. $\\left|\\gamma_i\\right|$\n",
    "\n",
    "Hint: Remember that we have set a boundary condition on the body side of the panel."
   ]
  },
  {
   "cell_type": "markdown",
   "metadata": {},
   "source": [
    "---\n",
    "\n",
    "This means we have a very simply equation for the surface pressure when using the vortex panel method! However, there is a problem with how the data is organised. \n",
    "\n",
    "##### Numerical Fundamental: Data representation\n",
    "##### Put your data in a convenient form before processing\n",
    "\n",
    "It would be most convenient for post-processing if we had an array of `gamma` - but we don't. Right now we have an array of `Panel`s, each with their own value of $\\gamma$. \n",
    "\n",
    "However, we can make a simple function to get any attribute of `Panel` into an array of its own:"
   ]
  },
  {
   "cell_type": "code",
   "execution_count": null,
   "metadata": {
    "collapsed": false
   },
   "outputs": [],
   "source": [
    "def get_array(panels,key):\n",
    "    return numpy.array([getattr(p,key) for p in panels])\n",
    "\n",
    "circle_yc = get_array(circle,'yc')\n",
    "print(circle_yc)"
   ]
  },
  {
   "cell_type": "markdown",
   "metadata": {},
   "source": [
    "This function uses a [list comprehension](http://www.pythonforbeginners.com/lists/list-comprehensions-in-python/) to make a list of the attribute you want for each panel, and then converts it into an easy to use numpy array.\n",
    "\n",
    "__Note__: you pass `get_array` the name of the attribute you want _as a string_ (inside single or double quotes). "
   ]
  },
  {
   "cell_type": "markdown",
   "metadata": {},
   "source": [
    "---\n",
    "\n",
    "## Pressure force\n",
    "\n",
    "Once we have the surface pressure we can use it to determine the pressure force on the body, as\n",
    "\n",
    "$$ \\vec F_p = -\\oint p \\hat n da $$\n",
    "\n",
    "where $\\oint da$ is the integral over the body surface, and $\\hat n$ is the normal vector to the surface. \n",
    "\n",
    "The pressure drag coefficient $C_D$ is then:\n",
    "\n",
    "$$ C_D = \\frac{\\vec F_p \\cdot \\hat x} { \\tfrac 12 \\rho U_\\infty^2 A }  = \\frac{-\\oint p n_x da}{ \\tfrac 12 \\rho U_\\infty^2 A } $$\n",
    "\n",
    "where $A$ is the cross-sectional area (in 2D this is the thickness $t$). \n",
    "\n",
    "Note that we need the normal vector to compute this integral..."
   ]
  },
  {
   "cell_type": "code",
   "execution_count": null,
   "metadata": {
    "collapsed": false
   },
   "outputs": [],
   "source": [
    "get_array(circle,'nx')"
   ]
  },
  {
   "cell_type": "markdown",
   "metadata": {},
   "source": [
    "`'Panel' object has no attribute 'nx'`. Oops... \n",
    "\n",
    "##### Quiz 5\n",
    "\n",
    "How can we determine the normal $\\hat n$ from the saved attributes of a panel?\n",
    "\n",
    "1. $\\hat n = \\vec x_1-\\vec x_0$\n",
    "1. $n_x,n_y = -s_y,s_x$\n",
    "1. $\\hat n = \\hat z \\times \\hat s$\n",
    "\n",
    "Hint: \n",
    "![image](resources/graphics6.png)\n",
    "\n",
    "---\n"
   ]
  },
  {
   "cell_type": "markdown",
   "metadata": {},
   "source": [
    "##### Your turn #3\n",
    "\n",
    " - **Write** the expression for $c_p$ in terms of $\\gamma$.\n",
    " - **Complete** the c_p function to evaluate this expression for the vortex panel method.\n",
    " - **Plot** $c_p$ vs the distance around the circle, $s$, using this function and...  \n",
    " - **Discuss** the accuracy of the numerical method compared to the analytic solution that I've plotted for you $$ c_p = 1-4\\sin^2(s/R) $$ where $R=1$ is the circle radius.\n",
    " - **Write** the expression for the pressure drag coefficient $C_D$ in terms of $c_p$ and the panel attributes (like $s_y$). You'll find the following identity helpful in simplifying the expression: $$ \\oint k \\hat n ds = 0 $$ where $k$ is any constant.\n",
    " - **Complete** the `C_D` function using the expression above. Numerically evaluate the integral as a `sum` over the panels.\n",
    " - **Discuss** the drag on the circle. Does the numerical method match what you expect analytically?"
   ]
  },
  {
   "cell_type": "markdown",
   "metadata": {},
   "source": [
    "---\n",
    "\n",
    "##### Solution #3\n",
    "\n",
    "$c_p = ?? $"
   ]
  },
  {
   "cell_type": "code",
   "execution_count": null,
   "metadata": {
    "collapsed": false
   },
   "outputs": [],
   "source": [
    "def c_p(gamma):\n",
    "    \n",
    "    ### your code for c_p here\n",
    "\n",
    "    return c_p"
   ]
  },
  {
   "cell_type": "code",
   "execution_count": null,
   "metadata": {
    "collapsed": false
   },
   "outputs": [],
   "source": [
    "N=32\n",
    "circle = make_circle(N)      # set-up geom\n",
    "solve_gamma(circle)          # determine pflow solution\n",
    "\n",
    "s = 2*numpy.pi*numpy.linspace(0.5/N,1-0.5/N,N)\n",
    "pyplot.plot(s,1-4*numpy.sin(s)**2, label='analytic')\n",
    "\n",
    "# your code here to plot the numerical result\n",
    "\n",
    "pyplot.legend(loc='upper right')\n",
    "pyplot.xlabel(r'$s/R$', fontsize=18)\n",
    "pyplot.ylabel(r'$c_p$', fontsize=18)"
   ]
  },
  {
   "cell_type": "markdown",
   "metadata": {},
   "source": [
    "$C_D =  ??$"
   ]
  },
  {
   "cell_type": "code",
   "execution_count": null,
   "metadata": {
    "collapsed": false
   },
   "outputs": [],
   "source": [
    "def C_D( panels ):\n",
    "    # get attribute arrays\n",
    "    gamma = get_array(panels,'gamma')\n",
    "    yc = get_array(panels,'yc')\n",
    "    # your code for other arrays\n",
    "\n",
    "    # get the thickness\n",
    "    t = max(yc)-min(yc)\n",
    "    \n",
    "    # your code to compute the drag coefficient using `sum` over panel arrays\n",
    "    return C_D\n",
    "\n",
    "print(C_D(circle))"
   ]
  }
 ],
 "metadata": {
  "kernelspec": {
   "display_name": "Python 2",
   "language": "python",
   "name": "python2"
  },
  "language_info": {
   "codemirror_mode": {
    "name": "ipython",
    "version": 2
   },
   "file_extension": ".py",
   "mimetype": "text/x-python",
   "name": "python",
   "nbconvert_exporter": "python",
   "pygments_lexer": "ipython2",
   "version": "2.7.10"
  }
 },
 "nbformat": 4,
 "nbformat_minor": 0
}
