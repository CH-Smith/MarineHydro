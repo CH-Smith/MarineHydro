{
 "cells": [
  {
   "cell_type": "code",
   "execution_count": 1,
   "metadata": {
    "collapsed": false
   },
   "outputs": [
    {
     "data": {
      "text/html": [
       "<link href='http://fonts.googleapis.com/css?family=Fenix' rel='stylesheet' type='text/css'>\n",
       "<link href='http://fonts.googleapis.com/css?family=Alegreya+Sans:100,300,400,500,700,800,900,100italic,300italic,400italic,500italic,700italic,800italic,900italic' rel='stylesheet' type='text/css'>\n",
       "<link href='http://fonts.googleapis.com/css?family=Source+Code+Pro:300,400' rel='stylesheet' type='text/css'>\n",
       "<style>\n",
       "    @font-face {\n",
       "        font-family: \"Computer Modern\";\n",
       "        src: url('http://mirrors.ctan.org/fonts/cm-unicode/fonts/otf/cmunss.otf');\n",
       "    }\n",
       "    div.cell{\n",
       "        width:800px;\n",
       "        margin-left:16% !important;\n",
       "        margin-right:auto;\n",
       "    }\n",
       "    h1 {\n",
       "        font-family: 'Alegreya Sans', sans-serif;\n",
       "    }\n",
       "    h2 {\n",
       "        font-family: 'Fenix', serif;\n",
       "    }\n",
       "    h3{\n",
       "\t\tfont-family: 'Fenix', serif;\n",
       "        margin-top:12px;\n",
       "        margin-bottom: 3px;\n",
       "       }\n",
       "\th4{\n",
       "\t\tfont-family: 'Fenix', serif;\n",
       "       }\n",
       "    h5 {\n",
       "        font-family: 'Alegreya Sans', sans-serif;\n",
       "    }\t   \n",
       "    div.text_cell_render{\n",
       "        font-family: 'Alegreya Sans',Computer Modern, \"Helvetica Neue\", Arial, Helvetica, Geneva, sans-serif;\n",
       "        line-height: 135%;\n",
       "        font-size: 120%;\n",
       "        width:600px;\n",
       "        margin-left:auto;\n",
       "        margin-right:auto;\n",
       "    }\n",
       "    .CodeMirror{\n",
       "            font-family: \"Source Code Pro\";\n",
       "\t\t\tfont-size: 90%;\n",
       "    }\n",
       "/*    .prompt{\n",
       "        display: None;\n",
       "    }*/\n",
       "    .text_cell_render h1 {\n",
       "        font-weight: 200;\n",
       "        font-size: 50pt;\n",
       "\t\tline-height: 100%;\n",
       "        color:#CD2305;\n",
       "        margin-bottom: 0.5em;\n",
       "        margin-top: 0.5em;\n",
       "        display: block;\n",
       "    }\t\n",
       "    .text_cell_render h5 {\n",
       "        font-weight: 300;\n",
       "        font-size: 16pt;\n",
       "        color: #CD2305;\n",
       "        font-style: italic;\n",
       "        margin-bottom: .5em;\n",
       "        margin-top: 0.5em;\n",
       "        display: block;\n",
       "    }\n",
       "    \n",
       "    .warning{\n",
       "        color: rgb( 240, 20, 20 )\n",
       "        }  \n",
       "</style>\n",
       "<script>\n",
       "    MathJax.Hub.Config({\n",
       "                        TeX: {\n",
       "                           extensions: [\"AMSmath.js\"], \n",
       "                           equationNumbers: { autoNumber: \"AMS\", useLabelIds: true}\n",
       "                           },\n",
       "                tex2jax: {\n",
       "                    inlineMath: [ ['$','$'], [\"\\\\(\",\"\\\\)\"] ],\n",
       "                    displayMath: [ ['$$','$$'], [\"\\\\[\",\"\\\\]\"] ]\n",
       "                },\n",
       "                displayAlign: 'center', // Change this to 'center' to center equations.\n",
       "                \"HTML-CSS\": {\n",
       "                    styles: {'.MathJax_Display': {\"margin\": 4}}\n",
       "                }\n",
       "        });\n",
       "</script>\n"
      ],
      "text/plain": [
       "<IPython.core.display.HTML object>"
      ]
     },
     "execution_count": 1,
     "metadata": {},
     "output_type": "execute_result"
    }
   ],
   "source": [
    "from IPython.core.display import HTML\n",
    "def css_styling():\n",
    "    styles = open('../styles/custom.css', 'r').read()\n",
    "    return HTML(styles)\n",
    "css_styling()"
   ]
  },
  {
   "cell_type": "markdown",
   "metadata": {},
   "source": [
    "# The Blasius boundary layer solution"
   ]
  },
  {
   "cell_type": "markdown",
   "metadata": {},
   "source": [
    "## The Blasius Equation\n",
    "\n",
    "The Prandtl equations on a flat plate are\n",
    "\n",
    "$$ u \\frac{\\partial u}{\\partial x}+ v \\frac{\\partial u}{\\partial y} = \\nu \\frac{\\partial^2 u}{\\partial y^2} $$\n",
    "$$ \\frac{\\partial u}{\\partial x}+ \\frac{\\partial v}{\\partial y} = 0. $$\n",
    "\n",
    "We don't have an equation for $v$, so we use the stream function $\\Psi$ to define the velocities as\n",
    "\n",
    "$$ u = \\frac{\\partial \\Psi}{\\partial y}, \\quad v = -\\frac{\\partial \\Psi}{\\partial x} $$\n",
    "\n",
    "and automatically satisfy the continuity equation. \n",
    "\n",
    "From scaling arguments we know the boundary layer thickness $\\delta$ scales as\n",
    "\n",
    "$$ \\frac\\delta x \\sim \\frac 1 {\\sqrt{Re_x}} $$\n",
    "\n",
    "and \n",
    "\n",
    "$$ \\frac u U = g\\left(\\frac y\\delta\\right) $$\n",
    "\n",
    "for a laminar flat plate boundary layer. Therefore we choose\n",
    "\n",
    "$$ \\Psi = \\sqrt{U \\nu x}\\enspace F(z), \\quad z=y\\sqrt{\\frac U{\\nu x}} $$\n",
    "\n",
    "such that \n",
    "\n",
    "$$ u = UF'(z) $$\n",
    "\n",
    "where $F'=\\tfrac{\\partial}{\\partial z}F$. Substitution into the momentum equation and simplification gives the **Blasius equation**\n",
    "\n",
    "$$ F''' +\\frac 12 FF'' = 0 $$\n",
    "\n",
    "with the boundary conditions $F(0) = F'(0) = 0$ and $F'(\\infty)=1$."
   ]
  },
  {
   "cell_type": "markdown",
   "metadata": {},
   "source": [
    "---\n",
    "##### Challenge Topic\n",
    "##### Numerical Solution\n",
    "\n",
    "There is no known solution for this equation, so we will approximate the solution numerically. The strategy is:\n",
    "\n",
    "- Write the Blasius equation as a system of first order ODEs\n",
    "- Integrate these ODEs numerically from $z=0\\ldots\\infty$. \n",
    "- Determine the wall boundary condition on $F''$ which satisfies $F'(\\infty)=1$."
   ]
  },
  {
   "cell_type": "markdown",
   "metadata": {},
   "source": [
    "### First order-system\n",
    "\n",
    "Numerical methods generally can't handle ODEs which have second and thrid derivatives in them. Luckily, there is a simple trick to remove these high-derivatives: we define two new variables as the derivatives of F, ie\n",
    "$$ F'=G $$\n",
    "$$ G'=H $$\n",
    "\n",
    "Note that these are two new ODEs - each with only a first order derivative. Substituting these into the Blasius equation gives:\n",
    "\n",
    "$$ H'= -\\frac 12 F H $$\n",
    "\n",
    "In this way, we have transformed the Blasius equation into an ODE system of three variables, $f=[F,G,H]$, and the first derivative of the system $f'$ is easily implemented as a python function:"
   ]
  },
  {
   "cell_type": "code",
   "execution_count": 2,
   "metadata": {
    "collapsed": false
   },
   "outputs": [],
   "source": [
    "import numpy\n",
    "def fp(z,f):\n",
    "    return numpy.array([f[1],f[2],-0.5*f[0]*f[2]])"
   ]
  },
  {
   "cell_type": "markdown",
   "metadata": {},
   "source": [
    "### Numerical integration\n",
    "\n",
    "Now that we've defined the system, we need to integrate it from $z=0\\ldots\\infty$. \n",
    "\n",
    "Well, actually, we'll use a numerical method to _approximate_ the integral for $z=[0,\\Delta z,2\\Delta z,\\ldots, Z]$, where $\\Delta z$ is size of the integration step, and $Z$ is a big enough number to stand in for $\\infty$.\n",
    "\n",
    "The function `blausius_int` takes in the initial condition `f(0)` and returns the velocity profile $u/U=F'=G$. "
   ]
  },
  {
   "cell_type": "code",
   "execution_count": 3,
   "metadata": {
    "collapsed": false
   },
   "outputs": [],
   "source": [
    "from scipy.integrate import ode\n",
    "dz = 0.05               # Step size\n",
    "Z = 15                  # Integration limit\n",
    "\n",
    "# integrate the Blausius ODEs\n",
    "def blausius_int(f0):\n",
    "    G = f0[1]\n",
    "    r = ode(fp)\n",
    "    r.set_initial_value(f0,0)\n",
    "    while r.successful() and r.t < Z:\n",
    "        r.integrate(r.t+dz)\n",
    "        G = numpy.append(G,r.y[1])\n",
    "    return G"
   ]
  },
  {
   "cell_type": "markdown",
   "metadata": {},
   "source": [
    "### Initial conditions\n",
    "\n",
    "Before we use this function, we need to set the initial conditions. The boundary conditions given above are $F_0=0$, $F'_0=G_0=0$ and $F'_\\infty=G_\\infty=1$. However, the integration method requires that we set $F''_0=H_0$, which is unknown. Let's guess $H_0 = 0$:"
   ]
  },
  {
   "cell_type": "code",
   "execution_count": 4,
   "metadata": {
    "collapsed": false
   },
   "outputs": [
    {
     "data": {
      "text/plain": [
       "'u_inf/U=0.0'"
      ]
     },
     "execution_count": 4,
     "metadata": {},
     "output_type": "execute_result"
    }
   ],
   "source": [
    "G = blausius_int([0,0,0])\n",
    "\"u_inf/U={Ginf}\".format(Ginf=G[-1])"
   ]
  },
  {
   "cell_type": "markdown",
   "metadata": {},
   "source": [
    "Nope, this gives a value of $u_\\infty/U$ that is too small. Let's try $H_0=1$:"
   ]
  },
  {
   "cell_type": "code",
   "execution_count": 5,
   "metadata": {
    "collapsed": false
   },
   "outputs": [
    {
     "data": {
      "text/plain": [
       "'u_inf/U=2.08540824628'"
      ]
     },
     "execution_count": 5,
     "metadata": {},
     "output_type": "execute_result"
    }
   ],
   "source": [
    "G = blausius_int([0,0,1])\n",
    "\"u_inf/U={Ginf}\".format(Ginf=G[-1])"
   ]
  },
  {
   "cell_type": "markdown",
   "metadata": {},
   "source": [
    "Nope - too large. Instead of guess-and-checking by hand, we'll solve for the correct $H_0$ using a [bisect routine](http://en.wikipedia.org/wiki/Bisection_method). "
   ]
  },
  {
   "cell_type": "code",
   "execution_count": 6,
   "metadata": {
    "collapsed": false
   },
   "outputs": [
    {
     "data": {
      "text/plain": [
       "'H_0=0.332057468152, u_inf/U=0.999999999999'"
      ]
     },
     "execution_count": 6,
     "metadata": {},
     "output_type": "execute_result"
    }
   ],
   "source": [
    "from scipy.optimize import bisect\n",
    "H0 = bisect(lambda H0: blausius_int([0,0,H0])[-1]-1, 0, 1)\n",
    "\n",
    "G = blausius_int([0,0,H0])\n",
    "\"H_0={H0}, u_inf/U={Ginf}\".format(H0=H0, Ginf=G[-1])"
   ]
  },
  {
   "cell_type": "markdown",
   "metadata": {},
   "source": [
    "Let's see what this profile looks like:"
   ]
  },
  {
   "cell_type": "code",
   "execution_count": 7,
   "metadata": {
    "collapsed": false
   },
   "outputs": [
    {
     "data": {
      "image/png": "[encoded data removed]",
      "text/plain": [
       "<matplotlib.figure.Figure at 0x1064b7890>"
      ]
     },
     "metadata": {},
     "output_type": "display_data"
    }
   ],
   "source": [
    "from matplotlib import pyplot\n",
    "%matplotlib inline\n",
    "size = 7\n",
    "\n",
    "pyplot.figure(figsize=(size,size))\n",
    "pyplot.xlabel('u/U', fontsize=16)\n",
    "pyplot.ylabel('z', fontsize=16)\n",
    "pyplot.plot(G,numpy.linspace(0,Z,len(G)), lw=3, c='r', label='Blasius')\n",
    "pyplot.show()"
   ]
  },
  {
   "cell_type": "markdown",
   "metadata": {},
   "source": [
    "The boundary conditions check out, and the profile looks good. This is the best approximation we can get to an exact boundary layer solution. "
   ]
  },
  {
   "cell_type": "markdown",
   "metadata": {},
   "source": [
    "## Blasius profile properties\n",
    "\n",
    "### Boundary layer thickness: $\\delta$\n",
    "\n",
    "The far-field boundary condition states that $u/U=1$ only at $z=\\infty$. However, the plot above shows that $u\\approx U$ for fairly small values of $z$. We can query the values of the array to find a suitable cut-off:"
   ]
  },
  {
   "cell_type": "code",
   "execution_count": 8,
   "metadata": {
    "collapsed": false
   },
   "outputs": [
    {
     "data": {
      "text/plain": [
       "'u(6.05)/U=0.999086759469'"
      ]
     },
     "execution_count": 8,
     "metadata": {},
     "output_type": "execute_result"
    }
   ],
   "source": [
    "i = 122\n",
    "delB = (i-1)*dz\n",
    "\"u({z})/U={G}\".format(z=delB,G=G[i-1])"
   ]
  },
  {
   "cell_type": "markdown",
   "metadata": {},
   "source": [
    "$u/U=0.999$ at $z=y\\sqrt{\\frac U{\\nu x}}\\approx 6$. This is typically used as the Blasius boundary layer thickness - _but this is arbitrary_!"
   ]
  },
  {
   "cell_type": "markdown",
   "metadata": {},
   "source": [
    "### Displacement and momentum thickness\n",
    "\n",
    "Unlike $\\delta$, the displacement thickness and momentum thickness values are finite, even when $u=U$ only at $z=\\infty$. The definitions are\n",
    "\n",
    "$$ \\delta_1 = \\int_0^\\infty 1-\\frac u U dy $$\n",
    "$$ \\delta_2 = \\int_0^\\infty \\frac u U \\left(1-\\frac u U\\right) dy $$\n",
    "\n",
    "which we can evaluate numerically using the numpy `trapz` function:"
   ]
  },
  {
   "cell_type": "code",
   "execution_count": 9,
   "metadata": {
    "collapsed": false
   },
   "outputs": [
    {
     "data": {
      "text/plain": [
       "['1.721', '0.664', '2.591']"
      ]
     },
     "execution_count": 9,
     "metadata": {},
     "output_type": "execute_result"
    }
   ],
   "source": [
    "def delta12(f,dz): # Print del1,del2\n",
    "    del1 = numpy.trapz(1-f,dx=dz)\n",
    "    del2 = numpy.trapz(f*(1-f),dx=dz)\n",
    "    return (del1,del2,del1/del2)\n",
    "\n",
    "[\"%0.3f\" % j for j in delta12(G,dz)]"
   ]
  },
  {
   "cell_type": "markdown",
   "metadata": {},
   "source": [
    "And we see $\\delta_1 \\sqrt{\\frac U{\\nu x}} \\approx 1.7$,$\\ $ $\\delta_2\\sqrt{\\frac U{\\nu x}} \\approx 0.66$, and the shape factor $H = \\delta_1/\\delta_2 \\approx 2.6$\n",
    "\n",
    "---"
   ]
  },
  {
   "cell_type": "markdown",
   "metadata": {},
   "source": [
    "## Comparison to polynomial profiles\n",
    "\n",
    "We next compare the Blasius profiles to the linear, Karman (quadratic), and Pohlhausen (quintic) profiles.\n",
    "\n",
    "\n",
    "\n",
    "First we compute the boundary layer thickness factor $\\delta \\sqrt{\\frac U{\\nu x}} = \\sqrt{\\frac{2f'(0)}F}$ where $f(\\eta)$ is the polynomial defining the profile, $\\eta=y/\\delta$, and $F=\\delta_2/\\delta$."
   ]
  },
  {
   "cell_type": "code",
   "execution_count": 10,
   "metadata": {
    "collapsed": false
   },
   "outputs": [],
   "source": [
    "def delta(f,deta):\n",
    "    fp = (f[1]-f[0])/deta # Finite difference estimate of f'(0)\n",
    "    F = numpy.trapz(f*(1-f),dx=deta)\n",
    "    return numpy.sqrt(2*fp/F)"
   ]
  },
  {
   "cell_type": "markdown",
   "metadata": {},
   "source": [
    "Since $z=\\eta\\delta\\sqrt{\\frac U{\\nu x}}$, we can then use the `delta12` function defined above to compute the other thicknesses in terms of $z$."
   ]
  },
  {
   "cell_type": "code",
   "execution_count": 11,
   "metadata": {
    "collapsed": false
   },
   "outputs": [],
   "source": [
    "row_format =\"{:>10}\"+\"{:>8.3f}\"*(4)\n",
    "def delAndPrint(f,name):\n",
    "    delf = delta(f,eta[1])\n",
    "    print(row_format.format(name,delf,*delta12(f,eta[1]*delf)))\n",
    "    return delf"
   ]
  },
  {
   "cell_type": "markdown",
   "metadata": {},
   "source": [
    "Now we need only to define the profiles and compare:"
   ]
  },
  {
   "cell_type": "code",
   "execution_count": 12,
   "metadata": {
    "collapsed": false
   },
   "outputs": [
    {
     "name": "stdout",
     "output_type": "stream",
     "text": [
      "               del   del_1   del_2       H\n",
      "    Linear   3.464   1.732   0.577   3.000\n",
      "    Karman   5.464   1.821   0.728   2.500\n",
      "Pohlhausen   5.836   1.751   0.685   2.555\n",
      "   Blasius   6.050   1.721   0.664   2.591\n"
     ]
    }
   ],
   "source": [
    "eta = numpy.linspace(0.0,1.0,100)\n",
    "karman = 2*eta-eta**2\n",
    "pohlF = 2*eta-2*eta**3+eta**4\n",
    "\n",
    "head_format =(\"{:>18}\"+\"{:>8}\"*(3))\n",
    "print(head_format.format(\"del\",\"del_1\",\"del_2\",\"H\"))\n",
    "delL = delAndPrint(eta,\"Linear\")\n",
    "delK = delAndPrint(karman,\"Karman\")\n",
    "delP = delAndPrint(pohlF,\"Pohlhausen\")\n",
    "print(row_format.format(\"Blasius\",delB,*delta12(G,dz)))"
   ]
  },
  {
   "cell_type": "markdown",
   "metadata": {},
   "source": [
    "Other than the somewhat arbitrary $\\delta$ value, these compare very well with the Blasius solution.\n",
    "\n",
    "Finally, lets compare visually:"
   ]
  },
  {
   "cell_type": "code",
   "execution_count": 13,
   "metadata": {
    "collapsed": false
   },
   "outputs": [
    {
     "data": {
      "image/png": "[encoded data removed]",
      "text/plain": [
       "<matplotlib.figure.Figure at 0x1072db950>"
      ]
     },
     "metadata": {},
     "output_type": "display_data"
    }
   ],
   "source": [
    "pyplot.figure(figsize=(size,size))\n",
    "pyplot.axis([0,1,0,7])\n",
    "pyplot.xlabel('u/U', fontsize=16)\n",
    "pyplot.ylabel('z', fontsize=16)\n",
    "pyplot.plot(eta,eta*delL, lw=3, label='Linear')\n",
    "pyplot.plot(karman,eta*delK, lw=3, label='Karman')\n",
    "pyplot.plot(pohlF,eta*delP, lw=3, color='k', label='Pohlhausen')\n",
    "pyplot.plot(G,numpy.linspace(0,Z,len(G)), lw=3, label='Blasius')\n",
    "pyplot.legend(loc='upper left')\n",
    "pyplot.show()"
   ]
  },
  {
   "cell_type": "markdown",
   "metadata": {},
   "source": [
    "We can see that both the second and forth order estimates are close to the Blasius profile, but that neither matches exactly. This indictes that while these profiles match the boundary conditions, they do not satisfy the Prandtl equations throughout the boundary layer."
   ]
  }
 ],
 "metadata": {
  "kernelspec": {
   "display_name": "Python 2",
   "language": "python",
   "name": "python2"
  },
  "language_info": {
   "codemirror_mode": {
    "name": "ipython",
    "version": 2
   },
   "file_extension": ".py",
   "mimetype": "text/x-python",
   "name": "python",
   "nbconvert_exporter": "python",
   "pygments_lexer": "ipython2",
   "version": "2.7.10"
  }
 },
 "nbformat": 4,
 "nbformat_minor": 0
}
