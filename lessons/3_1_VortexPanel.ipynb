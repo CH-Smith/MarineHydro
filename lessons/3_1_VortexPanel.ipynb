{
 "cells": [
  {
   "cell_type": "code",
   "execution_count": 1,
   "metadata": {
    "collapsed": false
   },
   "outputs": [
    {
     "data": {
      "text/html": [
       "<link href='http://fonts.googleapis.com/css?family=Fenix' rel='stylesheet' type='text/css'>\n",
       "<link href='http://fonts.googleapis.com/css?family=Alegreya+Sans:100,300,400,500,700,800,900,100italic,300italic,400italic,500italic,700italic,800italic,900italic' rel='stylesheet' type='text/css'>\n",
       "<link href='http://fonts.googleapis.com/css?family=Source+Code+Pro:300,400' rel='stylesheet' type='text/css'>\n",
       "<style>\n",
       "    @font-face {\n",
       "        font-family: \"Computer Modern\";\n",
       "        src: url('http://mirrors.ctan.org/fonts/cm-unicode/fonts/otf/cmunss.otf');\n",
       "    }\n",
       "    h1 {\n",
       "        font-family: 'Alegreya Sans', sans-serif;\n",
       "    }\n",
       "    h2 {\n",
       "        font-family: 'Fenix', serif;\n",
       "    }\n",
       "    h3{\n",
       "\t\tfont-family: 'Fenix', serif;\n",
       "        margin-top:12px;\n",
       "        margin-bottom: 3px;\n",
       "       }\n",
       "\th4{\n",
       "\t\tfont-family: 'Fenix', serif;\n",
       "       }\n",
       "    h5 {\n",
       "        font-family: 'Alegreya Sans', sans-serif;\n",
       "    }\n",
       "/*    .CodeMirror{\n",
       "            font-family: \"Source Code Pro\";\n",
       "\t\t\tfont-size: 90%;\n",
       "    }*/\n",
       "/*    .prompt{\n",
       "        display: None;\n",
       "    }*/\n",
       "    .text_cell_render h1 {\n",
       "        font-weight: 200;\n",
       "        font-size: 50pt;\n",
       "\t\tline-height: 100%;\n",
       "        color:#CD2305;\n",
       "        margin-bottom: 0.5em;\n",
       "        margin-top: 0.5em;\n",
       "        display: block;\n",
       "    }\n",
       "    .text_cell_render h5 {\n",
       "        font-weight: 300;\n",
       "        font-size: 16pt;\n",
       "        color: #CD2305;\n",
       "        font-style: italic;\n",
       "        margin-bottom: .5em;\n",
       "        margin-top: 0.5em;\n",
       "        display: block;\n",
       "    }\n",
       "\n",
       "    .warning{\n",
       "        color: rgb( 240, 20, 20 )\n",
       "        }\n",
       "</style>\n",
       "<style>\n",
       "  img[alt=short] { height: 200px; }\n",
       "  img[alt=medium] { height: 300px; }\n",
       "</style>\n",
       "<script>\n",
       "    MathJax.Hub.Config({\n",
       "                        TeX: {\n",
       "                           extensions: [\"AMSmath.js\"],\n",
       "                           equationNumbers: { autoNumber: \"AMS\", useLabelIds: true}\n",
       "                           },\n",
       "                tex2jax: {\n",
       "                    inlineMath: [ ['$','$'], [\"\\\\(\",\"\\\\)\"] ],\n",
       "                    displayMath: [ ['$$','$$'], [\"\\\\[\",\"\\\\]\"] ]\n",
       "                },\n",
       "                displayAlign: 'center', // Change this to 'center' to center equations.\n",
       "                \"HTML-CSS\": {\n",
       "                    styles: {'.MathJax_Display': {\"margin\": 4}}\n",
       "                }\n",
       "        });\n",
       "</script>\n"
      ],
      "text/plain": [
       "<IPython.core.display.HTML object>"
      ]
     },
     "execution_count": 1,
     "metadata": {},
     "output_type": "execute_result"
    }
   ],
   "source": [
    "from IPython.core.display import HTML\n",
    "def css_styling():\n",
    "    styles = open('../styles/custom.css', 'r').read()\n",
    "    return HTML(styles)\n",
    "css_styling()"
   ]
  },
  {
   "cell_type": "markdown",
   "metadata": {},
   "source": [
    "# Vortex panels\n",
    "This notebook introduces vortex panels, which will be the foundation of our numerical method for 2D-potential flows."
   ]
  },
  {
   "cell_type": "markdown",
   "metadata": {},
   "source": [
    "## General Vortex Sheet\n",
    "\n",
    "Consider a 2D vortex sheet defined along a curve $\\cal S$. The sheet is characterized by a *strength* $\\gamma(s)$, where $s$ is the coordinate along the sheet. An infinitesimal segment of this sheet is an infinitesimal point-vortex with strength $d\\Gamma = \\gamma ds$. Therefore we can integrate the potential for a point vortex\n",
    "\n",
    "$$ \\phi = \\frac{\\Gamma}{2\\pi}\\theta $$\n",
    "\n",
    "to define the potential function for a vortex sheet as\n",
    "\n",
    "$$ \\phi(x,y) = \\int_{\\cal S} \\frac{\\gamma(s)}{2\\pi}\\theta(x,y,s)\\ ds $$\n",
    "\n",
    "where $\\theta$ is the angle from $s$ to the point at which we evaluate the potential. As always, the velocity is defined from the potential as\n",
    "\n",
    "$$ u = \\frac{\\partial\\phi}{\\partial x}, \\quad v = \\frac{\\partial\\phi}{\\partial y} $$\n"
   ]
  },
  {
   "cell_type": "markdown",
   "metadata": {},
   "source": [
    "## Vortex Panel\n",
    "\n",
    "![image](resources/graphics1.png)\n",
    "\n",
    "\n",
    "Now consider a vortex sheet with a constant strength defined on the line segments from $-S,S$ along the $x$-axis. This will be our prototype __vortex panel__.\n",
    "\n",
    "In this case, we can pull $\\gamma$ out of the integral equation above and evaluate it analytically. The result is:\n",
    "\n",
    "$$ u = -\\frac{\\gamma}{2\\pi}\\left[\\theta_{+S}-\\theta_{-S}\\right]\\ ,\\quad \n",
    "v = -\\frac{\\gamma}{4\\pi} \\log\\left(\\frac{r_{+S}^2}{r_{-S}^2}\\right) $$\n",
    "\n",
    "where $\\theta_{\\pm S} = \\arctan(y/(x\\mp S))$ and $r_{\\pm S}^2 = (x\\mp S)^2+y^2 $ are the angle and distance from the positive or negative end of the panel to the point $(x,y)$."
   ]
  },
  {
   "cell_type": "markdown",
   "metadata": {},
   "source": [
    "## Numerical implementation\n",
    "\n",
    "The equations are pretty simple - but that doesn't make them easy to visualize. Let's make a picture of the velocity field induced by a vortex panel. \n",
    "\n",
    "As usual, we will start by importing some helpful python modules: the numeric module `numpy` and the plotting module `pyplot`. Then we can write a function to evaluate the velocity equations defined above:\n",
    "\n",
    "_Note: If you aren't familiar with importing or defining functions in python, please review the Quick Python Introduction notebook._"
   ]
  },
  {
   "cell_type": "code",
   "execution_count": null,
   "metadata": {
    "collapsed": false
   },
   "outputs": [],
   "source": [
    "# we only need to import once in a notebook\n",
    "import numpy                   # import numerical library\n",
    "from matplotlib import pyplot  # import plot library\n",
    "%matplotlib inline\n",
    "\n",
    "def uv_per_g( x, y, S ):\n",
    "    dtheta = numpy.arctan2(y,x-S)-numpy.arctan2(y,x+S)\n",
    "    dlogr = 0.5*numpy.log(((x-S)**2+y**2)/((x+S)**2+y**2))\n",
    "    return -numpy.array([dtheta,dlogr])/(2.*numpy.pi)"
   ]
  },
  {
   "cell_type": "markdown",
   "metadata": {},
   "source": [
    "Notice that there is something special about this function:\n",
    "\n",
    "##### Fluids fundamental: linearity\n",
    "##### The vortex panel velocity equations are linear in $\\gamma$\n",
    "\n",
    "The velocity functions are nonlinear in terms of the geometry (`log`, `arctan`, etc) but linear in terms of the vortex panel strength. I've made that explicit by defining the velocity per unit $\\gamma$. _This linear dependance on the strength will be instrumental in the next notebook._\n",
    "\n",
    "Now let's plot it. We'll do this by evaluating the function on a grid of points. In the code below I use `linspace` to evenly divide up a line segment into an array points and `meshgrid` to create two two-dimensional arrays to fill the space."
   ]
  },
  {
   "cell_type": "code",
   "execution_count": null,
   "metadata": {
    "collapsed": false
   },
   "outputs": [],
   "source": [
    "# set up grid points\n",
    "line = numpy.linspace(-2, 2, num=32)  # creates array of points between -2 and 2\n",
    "x, y = numpy.meshgrid(line, line)     # generates a 2D grid of points\n",
    "\n",
    "# plot it\n",
    "pyplot.scatter(x, y)            # plot grid points \n",
    "pyplot.xlabel('x')              # label x \n",
    "pyplot.ylabel('y')              # label y"
   ]
  },
  {
   "cell_type": "markdown",
   "metadata": {},
   "source": [
    "Next, we need to plot the induced flow at each of these points. Since we'll do this repeatedly we'll write this as a function.\n",
    "\n",
    "##### Coding fundamental: Functions\n",
    "##### Don't ever write the same code twice!\n",
    "\n",
    "We'll use color contours to show the velocity magnitude (`contourf` with `colorbar` for the legend) and arrows to show the velocity vectors (`quiver`). We'll also make a function to plot the sheet as a black line."
   ]
  },
  {
   "cell_type": "code",
   "execution_count": null,
   "metadata": {
    "collapsed": false
   },
   "outputs": [],
   "source": [
    "def plot_uv(x,y,u,v):\n",
    "    pyplot.figure(figsize=(6,5))                    # set figure size\n",
    "    m = numpy.sqrt(u**2+v**2)                       # compute velocity magnitude\n",
    "    velocity = pyplot.contourf(x, y, m, vmin=0)     # plot magnitude contours\n",
    "    pyplot.quiver(x, y, u, v)                       # plot vector field\n",
    "    cbar = pyplot.colorbar(velocity)                # color bar\n",
    "    cbar.set_label('Velocity magnitude');           # label color\n",
    "    pyplot.xlabel('x')                              # label x\n",
    "    pyplot.ylabel('y')                              # label y\n",
    "    \n",
    "def plot_sheet(S):\n",
    "    pyplot.plot([-min(S,2),min(S,2)],[0,0],'k-',lw=2) # draw the vortex sheet"
   ]
  },
  {
   "cell_type": "markdown",
   "metadata": {},
   "source": [
    "Now we can compute the velocity on the grid and plot it"
   ]
  },
  {
   "cell_type": "code",
   "execution_count": null,
   "metadata": {
    "collapsed": false
   },
   "outputs": [],
   "source": [
    "# set up grid points\n",
    "line = numpy.linspace(-2, 2, num=32)  # creates array of points between -2 and 2\n",
    "x, y = numpy.meshgrid(line, line)     # generates a 2D grid of points\n",
    "\n",
    "# get velocity\n",
    "gamma = -4 ; S = 1                    # define panel strength and extent\n",
    "u,v = gamma*uv_per_g(x,y,S)           # compute velocity\n",
    "\n",
    "# plot it\n",
    "plot_uv(x,y,u,v)\n",
    "plot_sheet(S)"
   ]
  },
  {
   "cell_type": "markdown",
   "metadata": {},
   "source": [
    "##### Quiz\n",
    "\n",
    "What shape do the streamlines make when you are sufficiently far from the body?\n",
    "\n",
    "1. Ellipses\n",
    "2. Circles\n",
    "3. Straight lines \n",
    "\n",
    "(Hint: This is an *interactive* notebook - which parameter can you vary to answer the question?)"
   ]
  },
  {
   "cell_type": "markdown",
   "metadata": {},
   "source": [
    "##### Quiz\n",
    "\n",
    "What is the u,v velocity of points very near the center of the vortex sheet?\n",
    "\n",
    "1. $u=0,\\ v=\\sqrt\\gamma$\n",
    "2. $u=\\pm\\frac 12 \\gamma,\\ v=0$\n",
    "3. $u=\\gamma,\\ v=\\pm\\gamma$\n",
    "\n",
    "---\n",
    "\n",
    "This is a fundamental feature of vortex sheets that we will use repeatedly:\n",
    "\n",
    "##### Fluids fundamental: velocity jump\n",
    "##### Vortex sheets induce a tangential jump in the velocity field\n",
    "\n",
    "The tangential velocity jump across the sheet is $\\Delta u=-\\gamma$."
   ]
  },
  {
   "cell_type": "markdown",
   "metadata": {},
   "source": [
    "## Background flow\n",
    "\n",
    "Next, lets add a uniform background flow with magnitude one at angle $\\alpha$.\n",
    "\n",
    "$$ U_\\infty = \\cos\\alpha,\\quad V_\\infty = \\sin\\alpha $$\n",
    "\n",
    "How can we include this to the panel flow? It's trivial:\n",
    "\n",
    "##### Fluids fundamental: Superposition\n",
    "##### Potential flow solutions can be added together to generate new solutions\n",
    "\n",
    "Using *superposition* the total velocity is just the sum of the vortex sheet and uniform flow."
   ]
  },
  {
   "cell_type": "code",
   "execution_count": null,
   "metadata": {
    "collapsed": false
   },
   "outputs": [],
   "source": [
    "alpha = numpy.pi/10      # free-stream angle\n",
    "U_inf = numpy.cos(alpha) # free-stream in x\n",
    "V_inf = numpy.sin(alpha) # free-stream in y\n",
    "\n",
    "# superimpose to get velocity\n",
    "gamma = -4               # sheet strength\n",
    "S = 1                    # sheet extents\n",
    "u,v = gamma*uv_per_g(x,y,S)\n",
    "# u = ?\n",
    "# v = ?\n",
    "\n",
    "# plot it \n",
    "plot_uv(x,y,u,v)\n",
    "plot_sheet(S)"
   ]
  },
  {
   "cell_type": "markdown",
   "metadata": {},
   "source": [
    "##### Quiz\n",
    "\n",
    "How can you make the stagnation point touch the vortex sheet?\n",
    "\n",
    "1. Set $\\alpha=0$\n",
    "2. Set $\\gamma=\\pm 2 U_\\infty$\n",
    "3. Set $S = \\infty$"
   ]
  },
  {
   "cell_type": "markdown",
   "metadata": {},
   "source": [
    "## General vortex panel\n",
    "\n",
    "Finally, we would like to be able to compute the flow induced by a flat vortex sheet defined between any two points $x_0,y_0$ and $x_1,y_1$. A sheet so defined is called a *vortex panel*.  We could start from scratch, re-deriving the potential and velocity fields. But why would we want to do that?\n",
    "\n",
    "##### Coding fundamental: Reuse\n",
    "##### Recast problems to reuse existing code!\n",
    "\n",
    "By switching from the global coordinates to a *panel-based* coordinate system, we can transform any vortex panel to match our previous example. After computing the velocity using our old functions, we just need to rotate the vector back to the global coordinates.\n",
    "\n",
    "---\n",
    "![image](resources/graphics0.png)\n",
    "\n",
    "---"
   ]
  },
  {
   "cell_type": "markdown",
   "metadata": {},
   "source": [
    "## VortexPanel module\n",
    "\n",
    "I've written a set of functions which follows the method described above to define a general vortex panel. These functions define a `Panel`, and are found in the `VortexPanel` module."
   ]
  },
  {
   "cell_type": "code",
   "execution_count": null,
   "metadata": {
    "collapsed": false
   },
   "outputs": [],
   "source": [
    "from VortexPanel import Panel"
   ]
  },
  {
   "cell_type": "markdown",
   "metadata": {},
   "source": [
    "This makes the `Panel` class available, and you can use the `help` function to see what is in the class:"
   ]
  },
  {
   "cell_type": "code",
   "execution_count": null,
   "metadata": {
    "collapsed": false
   },
   "outputs": [],
   "source": [
    "help(Panel)"
   ]
  },
  {
   "cell_type": "markdown",
   "metadata": {},
   "source": [
    "The `Panel` class is written in an [Object Oriented Programming](https://realpython.com/python3-object-oriented-programming/#what-is-object-oriented-programming-oop) style.\n",
    "\n",
    "##### Coding fundamental: Objects\n",
    "##### Object-Oriented Programming helps organize data and functions\n",
    "\n",
    "From the help, we can see that `Panel` contains the properties of a given panel (the `attributes`) such as the panel centroid, size, and strength. This clean way of organizing the data will be very handy when we start dealing with multiple panels.\n",
    "\n",
    "`Panel` also contains functions (the `methods`) which can be applied to it`self` such as plotting the panel and determining the panel's induced velocity. This avoids needing to pass the data about the panel to the function - it's already all built-in!\n",
    "\n",
    "Let's test it out:"
   ]
  },
  {
   "cell_type": "code",
   "execution_count": null,
   "metadata": {
    "collapsed": false
   },
   "outputs": [],
   "source": [
    "# define my_panel\n",
    "my_panel = Panel(x0=-0.7,y0=0.5,x1=0.9,y1=-0.7,gamma=-2)\n",
    "\n",
    "# check my_panel's attributes\n",
    "print('x_c={}, y_c={}, S={}'.format(my_panel.xc,my_panel.yc,my_panel.S))\n",
    "\n",
    "# apply my_panel's velocity method on the x,y grid\n",
    "u,v = my_panel.velocity(x,y)\n",
    "plot_uv(x,y,u,v)\n",
    "\n",
    "# plot my_panel\n",
    "my_panel.plot()"
   ]
  },
  {
   "cell_type": "markdown",
   "metadata": {},
   "source": [
    "## Summary\n",
    "\n",
    "Let's review the fundamental properties of vortex panels:\n",
    "- The velocity they induce is **linear** in $\\gamma$.\n",
    "- The **jump** in tangential velocity across a panel is $-\\gamma$.\n",
    "- The panel velocity can be **superimposed** with any other potential flow.\n",
    "- The `Panel` object holds the properties and functions associated with each panel.\n",
    "\n",
    "These properties make `Panel` the perfect building block for a potential flow solver."
   ]
  },
  {
   "cell_type": "markdown",
   "metadata": {},
   "source": [
    "##### Your turn #1\n",
    "\n",
    "Use superposition to compute a flow moving between **two** parallel plates with opposite vortex strength.\n",
    "\n",
    " - ** Complete ** the code below by adding the contribution of the panels.\n",
    " - ** Adjust ** the strength until the flow stagnates.\n",
    " - ** Discuss ** what types of flow you could model with more panels\n",
    "\n",
    "---\n",
    "\n",
    "##### Solution #1"
   ]
  },
  {
   "cell_type": "code",
   "execution_count": null,
   "metadata": {
    "collapsed": false
   },
   "outputs": [],
   "source": [
    "# set up grid points\n",
    "line = numpy.linspace(-2, 2, num=32)  # creates array of points between -2 and 2\n",
    "x, y = numpy.meshgrid(line, line)     # generates a 2D grid of points\n",
    "\n",
    "# Your turn!\n",
    "gamma = 1               # strength\n",
    "yc = 0.5                # spacing\n",
    "\n",
    "panel_1 = Panel(x0=-1,y0= yc,x1=1,y1= yc,gamma= gamma)\n",
    "panel_2 = Panel(x0=-1,y0=-yc,x1=1,y1=-yc,gamma=-gamma)\n",
    "\n",
    "u = numpy.ones_like(x)          # free-stream in x\n",
    "v = numpy.zeros_like(y)         # free-stream in y\n",
    "\n",
    "# compute velocity by superposition\n",
    "### your code here\n",
    "\n",
    "# plot it\n",
    "plot_uv(x, y, u, v)     # plot the flow on the grid\n",
    "panel_1.plot()          # plot panel_1\n",
    "panel_2.plot()          # plot panel_2"
   ]
  },
  {
   "cell_type": "code",
   "execution_count": null,
   "metadata": {
    "collapsed": true
   },
   "outputs": [],
   "source": []
  }
 ],
 "metadata": {
  "kernelspec": {
   "display_name": "Python 2",
   "language": "python",
   "name": "python2"
  },
  "language_info": {
   "codemirror_mode": {
    "name": "ipython",
    "version": 2
   },
   "file_extension": ".py",
   "mimetype": "text/x-python",
   "name": "python",
   "nbconvert_exporter": "python",
   "pygments_lexer": "ipython2",
   "version": "2.7.10"
  }
 },
 "nbformat": 4,
 "nbformat_minor": 0
}
