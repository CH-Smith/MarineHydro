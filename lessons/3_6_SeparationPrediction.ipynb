{
 "cells": [
  {
   "cell_type": "code",
   "execution_count": 1,
   "metadata": {
    "collapsed": false
   },
   "outputs": [
    {
     "data": {
      "text/html": [
       "<link href='http://fonts.googleapis.com/css?family=Fenix' rel='stylesheet' type='text/css'>\n",
       "<link href='http://fonts.googleapis.com/css?family=Alegreya+Sans:100,300,400,500,700,800,900,100italic,300italic,400italic,500italic,700italic,800italic,900italic' rel='stylesheet' type='text/css'>\n",
       "<link href='http://fonts.googleapis.com/css?family=Source+Code+Pro:300,400' rel='stylesheet' type='text/css'>\n",
       "<style>\n",
       "    @font-face {\n",
       "        font-family: \"Computer Modern\";\n",
       "        src: url('http://mirrors.ctan.org/fonts/cm-unicode/fonts/otf/cmunss.otf');\n",
       "    }\n",
       "    h1 {\n",
       "        font-family: 'Alegreya Sans', sans-serif;\n",
       "    }\n",
       "    h2 {\n",
       "        font-family: 'Fenix', serif;\n",
       "    }\n",
       "    h3{\n",
       "\t\tfont-family: 'Fenix', serif;\n",
       "        margin-top:12px;\n",
       "        margin-bottom: 3px;\n",
       "       }\n",
       "\th4{\n",
       "\t\tfont-family: 'Fenix', serif;\n",
       "       }\n",
       "    h5 {\n",
       "        font-family: 'Alegreya Sans', sans-serif;\n",
       "    }\t   \n",
       "    .CodeMirror{\n",
       "            font-family: \"Source Code Pro\";\n",
       "\t\t\tfont-size: 90%;\n",
       "    }\n",
       "/*    .prompt{\n",
       "        display: None;\n",
       "    }*/\n",
       "    .text_cell_render h1 {\n",
       "        font-weight: 200;\n",
       "        font-size: 50pt;\n",
       "\t\tline-height: 100%;\n",
       "        color:#CD2305;\n",
       "        margin-bottom: 0.5em;\n",
       "        margin-top: 0.5em;\n",
       "        display: block;\n",
       "    }\t\n",
       "    .text_cell_render h5 {\n",
       "        font-weight: 300;\n",
       "        font-size: 16pt;\n",
       "        color: #CD2305;\n",
       "        font-style: italic;\n",
       "        margin-bottom: .5em;\n",
       "        margin-top: 0.5em;\n",
       "        display: block;\n",
       "    }\n",
       "    \n",
       "    .warning{\n",
       "        color: rgb( 240, 20, 20 )\n",
       "        }  \n",
       "</style>\n",
       "<script>\n",
       "    MathJax.Hub.Config({\n",
       "                        TeX: {\n",
       "                           extensions: [\"AMSmath.js\"], \n",
       "                           equationNumbers: { autoNumber: \"AMS\", useLabelIds: true}\n",
       "                           },\n",
       "                tex2jax: {\n",
       "                    inlineMath: [ ['$','$'], [\"\\\\(\",\"\\\\)\"] ],\n",
       "                    displayMath: [ ['$$','$$'], [\"\\\\[\",\"\\\\]\"] ]\n",
       "                },\n",
       "                displayAlign: 'center', // Change this to 'center' to center equations.\n",
       "                \"HTML-CSS\": {\n",
       "                    styles: {'.MathJax_Display': {\"margin\": 4}}\n",
       "                }\n",
       "        });\n",
       "</script>\n"
      ],
      "text/plain": [
       "<IPython.core.display.HTML object>"
      ]
     },
     "execution_count": 1,
     "metadata": {},
     "output_type": "execute_result"
    }
   ],
   "source": [
    "from IPython.core.display import HTML\n",
    "def css_styling():\n",
    "    styles = open('../styles/custom.css', 'r').read()\n",
    "    return HTML(styles)\n",
    "css_styling()"
   ]
  },
  {
   "cell_type": "markdown",
   "metadata": {},
   "source": [
    "# Separation prediction on general bodies\n",
    "\n",
    "In this notebook, we will combine the vortex panel method and the boundary layer solver to predict separation on any 2D shape."
   ]
  },
  {
   "cell_type": "markdown",
   "metadata": {},
   "source": [
    "## Panel method and boundary layer coupling\n",
    "\n",
    "What will we need to interface the `VortexPanel` and `BoundaryLayer` modules?  `VortexPanel` doesn't need anything from `BoundaryLayer` - it just needs a geometry and angle of attack."
   ]
  },
  {
   "cell_type": "code",
   "execution_count": null,
   "metadata": {
    "collapsed": false
   },
   "outputs": [],
   "source": [
    "import numpy\n",
    "from matplotlib import pyplot\n",
    "%matplotlib inline\n",
    "from VortexPanel import *\n",
    "\n",
    "alpha = numpy.pi/20\n",
    "N = 64\n",
    "foil = make_jukowski(N)\n",
    "solve_gamma_kutta(foil,alpha)\n",
    "plot_flow(foil,alpha)"
   ]
  },
  {
   "cell_type": "markdown",
   "metadata": {},
   "source": [
    "From the previous notebook we know the function `march` doesn't need the details of the geometry, but it does need:\n",
    "\n",
    "- $s$: the distance along the boundary layer\n",
    "- $u_e$: the velocity on the edge of the boundary layer\n",
    "- $\\nu$: the kinematic viscosity\n",
    "\n",
    "We'll need to get the first two from the potential flow solution."
   ]
  },
  {
   "cell_type": "markdown",
   "metadata": {},
   "source": [
    "##### Quiz 1\n",
    "\n",
    "What is the tangential velocity $u_e = \\vec u\\cdot\\hat s$ on the fluid side of panel $p_i$?\n",
    "\n",
    "1. $\\left(\\vec U +\\sum_{j=0}^{N-1} \\gamma_j \\vec f_j(x_i,y_i)\\right)\\cdot \\hat s_i$\n",
    "1. $-\\gamma_i$\n",
    "1. $U_\\infty$\n",
    "\n",
    "Hint: Remember that we have set a boundary condition on the body side of the panel."
   ]
  },
  {
   "cell_type": "markdown",
   "metadata": {},
   "source": [
    "---\n",
    "Next, let's get $s$. Note that a body will form **two** boundary layers, one on each side. We need to identify the starting point of these two flow regions."
   ]
  },
  {
   "cell_type": "markdown",
   "metadata": {},
   "source": [
    "##### Quiz 2\n",
    "\n",
    "Where is the starting point of the two boundary layers?\n",
    "\n",
    "1. The first and last panels: `foil[0]`, `foil[N-1]`\n",
    "1. The panel where $u_e = 0$\n",
    "1. The left-most panel, `foil[N/2]`"
   ]
  },
  {
   "cell_type": "markdown",
   "metadata": {},
   "source": [
    "---\n",
    "\n",
    "This makes it straightforward to split the body into the two boundary layer sections:"
   ]
  },
  {
   "cell_type": "code",
   "execution_count": null,
   "metadata": {
    "collapsed": false
   },
   "outputs": [],
   "source": [
    "def split(panels):\n",
    "    top = [p for p in panels if p.gamma<=0]\n",
    "    bottom = [p for p in panels if p.gamma>=0]\n",
    "    bottom = bottom[::-1]               # reverse array\n",
    "    return top,bottom"
   ]
  },
  {
   "cell_type": "code",
   "execution_count": null,
   "metadata": {
    "collapsed": false
   },
   "outputs": [],
   "source": [
    "foil_top,foil_bottom = split(foil)"
   ]
  },
  {
   "cell_type": "markdown",
   "metadata": {},
   "source": [
    "Note that we changed the direction of the bottom array so that it runs from the stagnation point to the trailing edge, in accordance with the flow direction.\n",
    "\n",
    "Lets plot them to make sure we got it right:"
   ]
  },
  {
   "cell_type": "code",
   "execution_count": null,
   "metadata": {
    "collapsed": false
   },
   "outputs": [],
   "source": [
    "def plot_segment(panels):\n",
    "    pyplot.figure(figsize=(10,2))\n",
    "    pyplot.axis([-1.2,1.2,-.3,.3])\n",
    "    for i,p_i in enumerate(panels): \n",
    "        p_i.plot()\n",
    "        if i%10 == 0:\n",
    "            pyplot.scatter(p_i.xc,p_i.yc)\n",
    "            pyplot.text(p_i.xc,p_i.yc+0.05, \n",
    "                'panel ['+'%i'%i+']',fontsize=12)"
   ]
  },
  {
   "cell_type": "code",
   "execution_count": null,
   "metadata": {
    "collapsed": false
   },
   "outputs": [],
   "source": [
    "plot_segment(foil_top)"
   ]
  },
  {
   "cell_type": "code",
   "execution_count": null,
   "metadata": {
    "collapsed": false
   },
   "outputs": [],
   "source": [
    "plot_segment(foil_bottom)"
   ]
  },
  {
   "cell_type": "markdown",
   "metadata": {},
   "source": [
    "Looks good. \n",
    "\n",
    "Now that we've got it set up, the distance from the stagnation point along the boundary layer is found by iterative summation $s_{i+1} = s_i+S_i+S_{i+1}$, with $s_0 = S_0$."
   ]
  },
  {
   "cell_type": "code",
   "execution_count": null,
   "metadata": {
    "collapsed": false
   },
   "outputs": [],
   "source": [
    "def distance(panels):\n",
    "    s = numpy.empty(len(panels))         \n",
    "    s[0] = panels[0].S\n",
    "    for i in range(len(s)-1):\n",
    "        s[i+1] = s[i]+panels[i].S+panels[i+1].S\n",
    "    return s"
   ]
  },
  {
   "cell_type": "code",
   "execution_count": null,
   "metadata": {
    "collapsed": false
   },
   "outputs": [],
   "source": [
    "pyplot.xlabel(r\"$i$\",fontsize=20)\n",
    "pyplot.ylabel(r\"$s$\",fontsize=20)\n",
    "pyplot.plot(distance(foil_top),lw=2)"
   ]
  },
  {
   "cell_type": "markdown",
   "metadata": {},
   "source": [
    "Notice that this line is curved because the panel width is **not** constant.\n",
    "\n",
    "Finally, we'll put these together in a function `panel_march`, which grabs all the information we need from the panels and then runs `march`."
   ]
  },
  {
   "cell_type": "code",
   "execution_count": null,
   "metadata": {
    "collapsed": false
   },
   "outputs": [],
   "source": [
    "def panel_march(panels,nu):\n",
    "    from BoundaryLayer import march\n",
    "    s = distance(panels)                    # distance\n",
    "    u_e = abs(get_array(panels,'gamma'))    # velocity\n",
    "    return march(s,u_e,nu)                  # march"
   ]
  },
  {
   "cell_type": "markdown",
   "metadata": {},
   "source": [
    "## Boundary layer around a circle\n",
    "\n",
    "As our first application we will solve for the boundary layer on a circle. First we'll use the Vortex Panel code to set-up the geometry and solve for the potential flow. Then we'll split the `Panel` array and pass the top to the `panel_march` function."
   ]
  },
  {
   "cell_type": "code",
   "execution_count": null,
   "metadata": {
    "collapsed": false
   },
   "outputs": [],
   "source": [
    "circle = make_circle(N)                 # set-up circle\n",
    "solve_gamma_kutta(circle)               # solve flow\n",
    "top,bottom = split(circle)              # split panels\n",
    "nu = 1e-5                               # set nu\n",
    "delta,lam,iSep = panel_march(top,nu)    # march along top BL"
   ]
  },
  {
   "cell_type": "markdown",
   "metadata": {},
   "source": [
    "##### Quiz 3\n",
    "\n",
    "Why do I keep testing code on simple shapes like circles?\n",
    "\n",
    "1. I'm terribly forgetful\n",
    "1. New examples take work\n",
    "1. I want to validate the new code"
   ]
  },
  {
   "cell_type": "markdown",
   "metadata": {},
   "source": [
    "##### Numerical fundamental: Validation\n",
    "##### Every piece of code must be tested against a known nontrivial example\n",
    "\n",
    "---"
   ]
  },
  {
   "cell_type": "markdown",
   "metadata": {},
   "source": [
    "So lets validate the results. The *theoretical* laminar separation point for a circular cylinder is $108\\deg$ from the leading stagnation point. Since the circle has radius $R=1$, this corresponds to $s=1.88$. Lets check the simulation by plotting $\\lambda$. "
   ]
  },
  {
   "cell_type": "code",
   "execution_count": null,
   "metadata": {
    "collapsed": false
   },
   "outputs": [],
   "source": [
    "s = distance(top)\n",
    "pyplot.ylabel(r'$\\lambda$', fontsize=20)\n",
    "pyplot.xlabel(r'$s$', fontsize=20)\n",
    "pyplot.plot(s,lam,lw=2)\n",
    "pyplot.axhline(-12,ls='--')"
   ]
  },
  {
   "cell_type": "markdown",
   "metadata": {},
   "source": [
    "As you move along the boundary layer, $\\lambda$ decreases from the initial stagnation point condition of $\\lambda_0\\approx7$ and eventually crosses the threshold for separation $\\lambda=-12$. `march` stops once this condition is reached - **therefore the `lam` and `delta` arrays are meaningless after panel `iSep+1`**.\n",
    "\n",
    "From the plot we can see separation occurs between $1.7<s<2$. To get a quantitative value, let's define a function to interpolate the value of an array at the separation point:"
   ]
  },
  {
   "cell_type": "code",
   "execution_count": null,
   "metadata": {
    "collapsed": false
   },
   "outputs": [],
   "source": [
    "# interpolate values at the separation point\n",
    "def sep(y,lam,iSep): \n",
    "    return numpy.interp( 12,-lam[:iSep+2],y[:iSep+2])"
   ]
  },
  {
   "cell_type": "markdown",
   "metadata": {},
   "source": [
    "Note that I only interpolate the array up until separation using `y[:iSep+2]`. \n",
    "\n",
    "Using this function we find:"
   ]
  },
  {
   "cell_type": "code",
   "execution_count": null,
   "metadata": {
    "collapsed": false
   },
   "outputs": [],
   "source": [
    "print 'separation @ s='+'%.2f' % sep(s,lam,iSep)"
   ]
  },
  {
   "cell_type": "markdown",
   "metadata": {},
   "source": [
    "Our numerical method prediction is less than a percent different than the theoretical result!\n",
    "\n",
    "We can also use `sep` to plot the flow and separation points together."
   ]
  },
  {
   "cell_type": "code",
   "execution_count": null,
   "metadata": {
    "collapsed": false
   },
   "outputs": [],
   "source": [
    "nu = 1e-5                                  # set nu\n",
    "delta,lam,iSep = panel_march(top,nu)       # march along top BL\n",
    "xSep = sep(get_array(top,'xc'),lam,iSep)   # get x location of separation\n",
    "ySep = sep(get_array(top,'yc'),lam,iSep)   # get y location of separation \n",
    "\n",
    "plot_flow(circle)\n",
    "pyplot.scatter(xSep, ySep, s=200, c='r')\n",
    "pyplot.scatter(xSep,-ySep, s=200, c='g')\n",
    "pyplot.show()"
   ]
  },
  {
   "cell_type": "markdown",
   "metadata": {},
   "source": [
    "The red and green dots mark the separation point for the top and bottom boundary layer, respectively."
   ]
  },
  {
   "cell_type": "markdown",
   "metadata": {},
   "source": [
    "##### Quiz 4\n",
    "\n",
    "How does the separation point depend on $\\nu$?\n",
    "\n",
    "1. Increasing $\\nu$ delays separation\n",
    "1. Decreasing $\\nu$ delays separation\n",
    "1. Chaning $\\nu$ has no effect on separation"
   ]
  },
  {
   "cell_type": "markdown",
   "metadata": {},
   "source": [
    "---\n",
    "\n",
    "Is this a bug??\n",
    "\n",
    "We know from lectures that $\\delta$ scales as $\\sqrt\\nu$, and therefore $\\lambda=\\frac{\\delta^2}\\nu u_e'$ doesn't depend on $\\nu$ at all. Since the separation point is determined by $\\lambda$, this is also independent of $\\nu$.\n",
    "\n",
    "##### Fluids fundamental: Separation Point\n",
    "##### The point of laminar separation is independent of $Re$\n",
    "\n",
    "This is **not** true of a turbulent boundary layer.\n",
    "\n",
    "---\n",
    "\n",
    "Lets also compare the circle and plate plate boundary layers"
   ]
  },
  {
   "cell_type": "code",
   "execution_count": null,
   "metadata": {
    "collapsed": false
   },
   "outputs": [],
   "source": [
    "pyplot.ylabel(r'$\\delta$', fontsize=20)\n",
    "pyplot.xlabel(r'$s$', fontsize=20)\n",
    "pyplot.plot(s,5.836*numpy.sqrt(nu*s),lw=2,label='Flat plate')\n",
    "pyplot.plot(s[:iSep+2],delta[:iSep+2],lw=2,label='Circle')\n",
    "pyplot.legend(loc='lower right')"
   ]
  },
  {
   "cell_type": "markdown",
   "metadata": {},
   "source": [
    "It can't be over-emphasized how different the flat plate and circle boundary layers are. \n",
    "\n",
    "##### Fluid dynamic fundamental: \n",
    "##### Velocity gradients completely change the development of a boundary layer.\n",
    "\n",
    "Because of these gradients:\n",
    " - The boundary layer growth is stunted on the front body where the flow is accelerating\n",
    " - $\\delta$ increases rapidly as the flow approaches the midbody\n",
    " - Separation occurs soon after the flow begins to decelerate. "
   ]
  },
  {
   "cell_type": "markdown",
   "metadata": {},
   "source": [
    "##### Quiz 5\n",
    "\n",
    "Up to the point of separation, which geometry will have the larger friction drag?\n",
    "\n",
    "1. The circle\n",
    "1. The plate  \n",
    "1. Approximately the same"
   ]
  },
  {
   "cell_type": "markdown",
   "metadata": {},
   "source": [
    "## Tying it together\n",
    "\n",
    "Now that we know the code is working, let's write a simple function to determine the separation points for a section of panels:"
   ]
  },
  {
   "cell_type": "code",
   "execution_count": null,
   "metadata": {
    "collapsed": false
   },
   "outputs": [],
   "source": [
    "def predict_separation_point(panels):\n",
    "    delta,lam,iSep = panel_march(panels,nu=1e-5)\n",
    "    xSep = sep(get_array(panels,'xc'),lam,iSep)\n",
    "    ySep = sep(get_array(panels,'yc'),lam,iSep)\n",
    "    return xSep,ySep"
   ]
  },
  {
   "cell_type": "markdown",
   "metadata": {},
   "source": [
    "Note that we arbitrarily set $\\nu=1e-5$ since it doesn't impact the point of separation. \n",
    "\n",
    "Let's use the functions above to solve for the boundary layer foil flow"
   ]
  },
  {
   "cell_type": "code",
   "execution_count": null,
   "metadata": {
    "collapsed": false
   },
   "outputs": [],
   "source": [
    "alpha = numpy.pi/20\n",
    "N = 64\n",
    "foil = make_jukowski(N)\n",
    "solve_gamma_kutta(foil,alpha)\n",
    "\n",
    "foilTop,foilBot = split(foil)\n",
    "xSepTop,ySepTop = predict_separation_point(foilTop)\n",
    "xSepBot,ySepBot = predict_separation_point(foilBot)\n",
    "\n",
    "plot_flow(foil,alpha)\n",
    "pyplot.scatter(xSepTop, ySepTop, s=100, c='r')\n",
    "pyplot.scatter(xSepBot, ySepBot, s=100, c='g')\n",
    "pyplot.show()"
   ]
  },
  {
   "cell_type": "markdown",
   "metadata": {},
   "source": [
    "And we see that at an angle of attack, the high pressure side of the foil (the bottom) has delayed separation, while the low pressure side has early separation. This is exactly the kind of information we need to predict stall.\n",
    "\n",
    "---\n",
    "\n",
    "Let's take a step back to appreciate what we've managed to do. By combining the `VortexPanel.solve_gamma_kutta` method with the Pohlhausen-based `BoundaryLayer.march` method, we've developed a numerical tool to predict separation on **any** body (or bodies) defined by a set of panels.\n",
    "\n",
    "##### Numerical fundamental: Synergy\n",
    "##### Simple functions can be linked to build powerful methods\n"
   ]
  },
  {
   "cell_type": "markdown",
   "metadata": {},
   "source": [
    "## Aspect ratio validation\n",
    "\n",
    "We've validated the code for the known case of a circle, but this is just one geometry. \n",
    "\n",
    "##### Numerical fundamental: Skepticism\n",
    "##### `But that is what the computer said!' - Famous last words\n",
    "\n",
    "We should validate a new method on as many known results as possible. "
   ]
  },
  {
   "cell_type": "markdown",
   "metadata": {},
   "source": [
    "One thing we could validate is that the separation points change properly if the aspect ratio $t/c$ is changed.  Here is a summary figure from Chapter 3 of Hoerner's *Fluid-Dynamic Drag*\n",
    "\n",
    "---\n",
    "![Hoerner Drag, Fig 5, Chap 3](resources/separation_hoerner.png)\n",
    "\n",
    "---\n",
    "There are four ellipse examples and two Jukowski examples. Based on this figure, I estimate:\n",
    "\n",
    "Jukowski foil:\n",
    "\n",
    "$t/c$| 0.17  | 0.15 \n",
    "---|\n",
    "$x/c$| $0.39$  | $0.49$ \n",
    "\n",
    "Ellipse:\n",
    "\n",
    "$t/c$| 1 |1/2 | 1/4 | 1/6 | 1/8 \n",
    "---|\n",
    "$x/c$| $0.66$ | $0.75$ | $0.85$ | $0.89$ | $0.92$ \n",
    "\n",
    "where I've added the theoretical result for a circle."
   ]
  },
  {
   "cell_type": "markdown",
   "metadata": {},
   "source": [
    "##### Your turn #6\n",
    "\n",
    "Validate the separation prediction method against these two families of geometries. \n",
    "\n",
    " - **Predict** separation for the Jukowski cases, being sure to match $t/c$.\n",
    " - **Discuss** the results. Are these adequate to validate the numerical method? Are there any surprises?\n",
    " - **Plot** $x/c$ for the ellipse for `t_c=linspace(0.01,1)` compared to Hoerner's data. \n",
    " - **Discuss** the results with regards to validation and trends."
   ]
  },
  {
   "cell_type": "markdown",
   "metadata": {},
   "source": [
    "##### Solution #6\n"
   ]
  },
  {
   "cell_type": "code",
   "execution_count": null,
   "metadata": {
    "collapsed": false
   },
   "outputs": [],
   "source": [
    "# your code here\n",
    "\n",
    "pyplot.xlabel(r'$t/c$', fontsize=16)\n",
    "pyplot.ylabel(r'separation $x/c$', fontsize=16)\n",
    "pyplot.scatter([1,0.5,0.25,1./6,0.125],\n",
    "               [0.66,0.75,0.85,0.89,0.92], \n",
    "               s=100, label='Hoerner')\n",
    "pyplot.legend(loc='upper right')"
   ]
  },
  {
   "cell_type": "markdown",
   "metadata": {},
   "source": [
    "# Summary\n",
    "\n",
    "Lets review the solution methodology. Given a flow condition ($\\alpha,\\ \\nu$):\n",
    "\n",
    "1. Define the geometry as a set of vortex panels\n",
    "1. Determine the potential flow by solving the system of linear equations (with the Kutta condition)\n",
    "1. Split the flow/geometry into sections on either side of the stagnation points\n",
    "1. Determine the boundary layer flow on each section by integrating the ODE (up to the point of separation)\n",
    "\n",
    "Then you can measure, print, or plot any flow quantity you want. \n",
    "\n",
    "I've added all the methods above to the `BoundaryLayer` module for use in your assignment. Good luck."
   ]
  }
 ],
 "metadata": {
  "kernelspec": {
   "display_name": "Python 2",
   "language": "python",
   "name": "python2"
  },
  "language_info": {
   "codemirror_mode": {
    "name": "ipython",
    "version": 2
   },
   "file_extension": ".py",
   "mimetype": "text/x-python",
   "name": "python",
   "nbconvert_exporter": "python",
   "pygments_lexer": "ipython2",
   "version": "2.7.10"
  }
 },
 "nbformat": 4,
 "nbformat_minor": 0
}
