{
 "cells": [
  {
   "cell_type": "code",
   "execution_count": 1,
   "metadata": {
    "collapsed": false
   },
   "outputs": [
    {
     "data": {
      "text/html": [
       "<link href='http://fonts.googleapis.com/css?family=Fenix' rel='stylesheet' type='text/css'>\n",
       "<link href='http://fonts.googleapis.com/css?family=Alegreya+Sans:100,300,400,500,700,800,900,100italic,300italic,400italic,500italic,700italic,800italic,900italic' rel='stylesheet' type='text/css'>\n",
       "<link href='http://fonts.googleapis.com/css?family=Source+Code+Pro:300,400' rel='stylesheet' type='text/css'>\n",
       "<style>\n",
       "    @font-face {\n",
       "        font-family: \"Computer Modern\";\n",
       "        src: url('http://mirrors.ctan.org/fonts/cm-unicode/fonts/otf/cmunss.otf');\n",
       "    }\n",
       "    h1 {\n",
       "        font-family: 'Alegreya Sans', sans-serif;\n",
       "    }\n",
       "    h2 {\n",
       "        font-family: 'Fenix', serif;\n",
       "    }\n",
       "    h3{\n",
       "\t\tfont-family: 'Fenix', serif;\n",
       "        margin-top:12px;\n",
       "        margin-bottom: 3px;\n",
       "       }\n",
       "\th4{\n",
       "\t\tfont-family: 'Fenix', serif;\n",
       "       }\n",
       "    h5 {\n",
       "        font-family: 'Alegreya Sans', sans-serif;\n",
       "    }\t   \n",
       "    .CodeMirror{\n",
       "            font-family: \"Source Code Pro\";\n",
       "\t\t\tfont-size: 90%;\n",
       "    }\n",
       "/*    .prompt{\n",
       "        display: None;\n",
       "    }*/\n",
       "    .text_cell_render h1 {\n",
       "        font-weight: 200;\n",
       "        font-size: 50pt;\n",
       "\t\tline-height: 100%;\n",
       "        color:#CD2305;\n",
       "        margin-bottom: 0.5em;\n",
       "        margin-top: 0.5em;\n",
       "        display: block;\n",
       "    }\t\n",
       "    .text_cell_render h5 {\n",
       "        font-weight: 300;\n",
       "        font-size: 16pt;\n",
       "        color: #CD2305;\n",
       "        font-style: italic;\n",
       "        margin-bottom: .5em;\n",
       "        margin-top: 0.5em;\n",
       "        display: block;\n",
       "    }\n",
       "    \n",
       "    .warning{\n",
       "        color: rgb( 240, 20, 20 )\n",
       "        }  \n",
       "</style>\n",
       "<script>\n",
       "    MathJax.Hub.Config({\n",
       "                        TeX: {\n",
       "                           extensions: [\"AMSmath.js\"], \n",
       "                           equationNumbers: { autoNumber: \"AMS\", useLabelIds: true}\n",
       "                           },\n",
       "                tex2jax: {\n",
       "                    inlineMath: [ ['$','$'], [\"\\\\(\",\"\\\\)\"] ],\n",
       "                    displayMath: [ ['$$','$$'], [\"\\\\[\",\"\\\\]\"] ]\n",
       "                },\n",
       "                displayAlign: 'center', // Change this to 'center' to center equations.\n",
       "                \"HTML-CSS\": {\n",
       "                    styles: {'.MathJax_Display': {\"margin\": 4}}\n",
       "                }\n",
       "        });\n",
       "</script>\n"
      ],
      "text/plain": [
       "<IPython.core.display.HTML object>"
      ]
     },
     "execution_count": 1,
     "metadata": {},
     "output_type": "execute_result"
    }
   ],
   "source": [
    "from IPython.core.display import HTML\n",
    "def css_styling():\n",
    "    styles = open('../styles/custom.css', 'r').read()\n",
    "    return HTML(styles)\n",
    "css_styling()"
   ]
  },
  {
   "cell_type": "markdown",
   "metadata": {},
   "source": [
    "# Vortex panel method\n",
    "\n",
    "The previous notebook introduced the concept of vortex sheets. We will now extend this concept to solve to the flow around general objects by setting up and solving a system of linear equations."
   ]
  },
  {
   "cell_type": "markdown",
   "metadata": {},
   "source": [
    "## General vortex sheets\n",
    "\n",
    "A curved vortex sheet with a variable strength can describe the flow around any immersed object. This is achieved by having the sheet act as an infinitely thin version of the boundary layer to enforce the no-slip boundary condition. \n",
    "\n",
    "---\n",
    "\n",
    "<img src=\"resources/impulse.png\" width=\"700\">\n",
    "\n",
    "---\n",
    "\n",
    "In other words we use the sheets to force the tangential velocity $u_s$ to zero at every point $s$ on the body surface $\\cal S$\n",
    "\n",
    "\\begin{equation}\n",
    "u_s = \\vec u \\cdot \\hat s = 0 \\quad s \\in \\cal S\n",
    "\\end{equation}\n",
    "\n",
    "From the previous notebook, we know the velocity at any point is determined by an integral over the whole vortex sheet. Therefore, the tangential velocity condition is\n",
    "\n",
    "\\begin{equation}\n",
    "\\left[\\vec U_\\infty+\\frac{\\partial}{\\partial \\vec x}\\oint_{\\cal S} \\frac{\\gamma(s')}{2\\pi}\\theta(s,s')\\ ds'\\right] \\cdot\\hat s = 0 \n",
    "\\end{equation}\n",
    "\n",
    "where $\\vec U_\\infty$ is the background velocity that has been added by superposition. \n",
    "\n",
    "**If we can use this equation to determine the strength distribution $\\gamma(s)$ along the sheet then we will have solved for the potential flow around the body!**"
   ]
  },
  {
   "cell_type": "markdown",
   "metadata": {},
   "source": [
    "## Discrete vortex panels\n",
    "\n",
    "For general body surface shapes the velocity is a highly nonlinear function of $\\gamma(s)$, rendering analytic solution unlikely. We could attempt some complex analytic expansions, but why would we want to do that?\n",
    "\n",
    "##### Numerical fundamental: Discritization\n",
    "##### Replace continuous functions with linear approximations\n",
    "\n",
    "We already know that the velocity depends **linearly** on $\\gamma$ for a vortex panel. This makes it easy to solve for $\\gamma$ as a function of $u_s$.\n",
    "\n",
    "If we break up the continuous sheet into a series of vortex panels, we can add their influence together using superposition. We can then apply the no slip boundary condition, and use it to solve for $\\gamma$. \n",
    "\n",
    "---\n",
    "<img src=\"resources/graphics2.png\" width=\"700\">\n",
    "\n",
    "---\n",
    "\n",
    "This is the essence of the *vortex panel method*."
   ]
  },
  {
   "cell_type": "markdown",
   "metadata": {},
   "source": [
    "## Array of panels\n",
    "\n",
    "To help make this more concrete, lets consider a polygon-shape body. I found this beautiful little equation to define [regular polygons](http://math.stackexchange.com/questions/41940/is-there-an-equation-to-describe-regular-polygons/41954#41954).\n",
    "$$ r=\\frac{\\cos\\left(\\frac{\\pi}{n}\\right)}{\\cos\\left(\\left(\\theta \\mod \\frac{2\\pi}{n}\\right) -\\frac{\\pi}{n}\\right)} $$\n",
    "\n",
    "This function is implemented in python as \n",
    "```python\n",
    "def polygon(theta,N_sides):\n",
    "    a = theta % (2.*numpy.pi/N_sides)-numpy.pi/N_sides\n",
    "    r = numpy.cos(numpy.pi/N_sides)/numpy.cos(a)\n",
    "    return [r*numpy.cos(theta),r*numpy.sin(theta)]\n",
    "```\n",
    "where `N_sides` is the number of sides in the polygon, and `theta`=$\\theta$ is the polar angle around the origin.\n",
    "\n",
    "Now we can define a function to make a polygon-shaped array of panels.\n",
    "```python\n",
    "def make_polygon(N_panels,N_sides):\n",
    "    # define the end-points\n",
    "    theta = numpy.linspace(0, -2*numpy.pi, N_panels+1)   # equal radial spacing\n",
    "    x_ends,y_ends = polygon(theta, N_sides)              # get the coordinates\n",
    "\n",
    "    # define the panels\n",
    "    panels = numpy.empty(N_panels, dtype=object)         # empty array of panels\n",
    "    for i in range(N_panels):                            # fill the array\n",
    "        panels[i] = Panel(x_ends[i], y_ends[i], x_ends[i+1], y_ends[i+1])\n",
    "\n",
    "    return panels\n",
    "```\n",
    "The first two lines make an array of end-points using the polygon function, and the next three lines makes an array of panels connecting those end-points. *This is the way **ALL** the shapes used in these notebooks will be made*.\n",
    "\n",
    "The code above has already been implemented in the `VortexPanel` module. Since we're going to use many functions in that module lets import the whole thing (like we do for `numpy`), and since it has a long name, lets give it the nick-name `vp`:"
   ]
  },
  {
   "cell_type": "code",
   "execution_count": null,
   "metadata": {
    "collapsed": false
   },
   "outputs": [],
   "source": [
    "import numpy\n",
    "from matplotlib import pyplot\n",
    "%matplotlib inline\n",
    "import VortexPanel as vp\n",
    "\n",
    "# get help on make_polygon\n",
    "help(vp.make_polygon)"
   ]
  },
  {
   "cell_type": "markdown",
   "metadata": {},
   "source": [
    "You can see that the `help` function tells you everything you need to know about the function. So lets use the two lines in the help example to make a triangle of panels and plot it:"
   ]
  },
  {
   "cell_type": "code",
   "execution_count": null,
   "metadata": {
    "collapsed": false
   },
   "outputs": [],
   "source": [
    "triangle = vp.make_polygon(N_panels=3,N_sides=3)\n",
    "for p in triangle: p.plot()"
   ]
  },
  {
   "cell_type": "markdown",
   "metadata": {},
   "source": [
    "Looks good. Note the code \n",
    "\n",
    "`for p in triangle:` \n",
    "\n",
    "loops through all the panels in the array. Very handy and clean.\n",
    "\n",
    "---\n",
    "Now that we have an example, what is the velocity induced by these panels and the uniform flow? \n",
    "\n",
    "Using superposition, the total velocity at any point $x,y$ is simply\n",
    "\n",
    "\\begin{equation}\n",
    "\\vec u(x,y) = \\vec U_\\infty+\\sum_{j=0}^{N-1} \\vec u_j(x,y)\n",
    "\\end{equation}\n",
    "\n",
    "where we use the index  $j$ to label each of the $N$ panels. This is easily implemented for an array of panels:\n",
    "\n",
    "```python\n",
    "# get the uniform velocity\n",
    "u = numpy.cos(alpha)\n",
    "v = numpy.sin(alpha)\n",
    "    \n",
    "# add the velocity contribution from each panel\n",
    "for p_j in panels:\n",
    "    u0,v0 = p_j.velocity(x,y)\n",
    "    u = u+u0\n",
    "    v = v+v0\n",
    "```\n",
    "I've included this, along with the grid definition and plotting code from the last notebook, to define a `plot_flow` function:"
   ]
  },
  {
   "cell_type": "code",
   "execution_count": null,
   "metadata": {
    "collapsed": false
   },
   "outputs": [],
   "source": [
    "help(vp.plot_flow)"
   ]
  },
  {
   "cell_type": "markdown",
   "metadata": {},
   "source": [
    "Let's plot the triangle flow..."
   ]
  },
  {
   "cell_type": "code",
   "execution_count": null,
   "metadata": {
    "collapsed": false
   },
   "outputs": [],
   "source": [
    "vp.plot_flow(triangle)"
   ]
  },
  {
   "cell_type": "markdown",
   "metadata": {},
   "source": [
    "##### Quiz 1\n",
    "\n",
    "Why is the flow going through the body above?\n",
    "\n",
    "1. We set `gamma=0` for the panels\n",
    "1. We haven't applied the no-slip condition\n",
    "1. We haven't determined the correct `gamma` for each panel"
   ]
  },
  {
   "cell_type": "markdown",
   "metadata": {},
   "source": [
    "## Linear velocity function\n",
    "\n",
    "We mentioned above that the fact that the velocity $\\vec u_j$ induced by vortex panel $j$ depends linearly on $\\gamma$ is key to the solution method - so lets write $\\vec u_j$ in a way that makes the linearity explicit:\n",
    "\n",
    "$$ \\vec u_j(x,y)=\\gamma_j\\ \\vec f_j(x,y)$$\n",
    "\n",
    "where $\\vec f_j$ is a function that depends on the panel geometry. In fact, we've already written all the code we need to evaluate this function!"
   ]
  },
  {
   "cell_type": "markdown",
   "metadata": {},
   "source": [
    "##### Quiz 2\n",
    "\n",
    "Which function can we use to evaluate `f` on panel `p_j`?\n",
    "\n",
    "1. `p_j.velocity(x,y)`\n",
    "1. `p_j.velocity(x,y,gamma=0)`\n",
    "1. `p_j.velocity(x,y,gamma=1)`\n",
    "\n",
    "---"
   ]
  },
  {
   "cell_type": "markdown",
   "metadata": {},
   "source": [
    "## System of linear equations\n",
    "\n",
    "Substituting this linear relation for the velocity $\\vec u_j$ into the total velocity equation (3) and applying the no-slip boundary condition (1) we have:\n",
    "\n",
    "$$ u_s = \\left[\\vec U_\\infty + \\sum_{j=0}^{N-1} \\gamma_j \\ \\vec f_j(x,y)\\right]\\cdot\\hat s=0 $$\n",
    "\n",
    "So the goal is to set $\\gamma$ on each panel such that this condition is enforced on the body."
   ]
  },
  {
   "cell_type": "markdown",
   "metadata": {},
   "source": [
    "##### Quiz 3\n",
    "\n",
    "How many unknowns are there?\n",
    "\n",
    "1. $1$\n",
    "1. $N$\n",
    "1. $N^2$"
   ]
  },
  {
   "cell_type": "markdown",
   "metadata": {},
   "source": [
    "But we only have one equation, the no-slip condition... right?\n",
    "\n",
    "##### Numerical fundamental: Consistency\n",
    "##### Develop enough equations to match the unknowns\n",
    "\n",
    "For a linear system of equations to be consistent, that is for it to have a solution, we need as many equations as unknowns. \n",
    "\n",
    "Luckily the no-slip condition is a continuous equation - it applies to *every* point on the body. **Therefore, we can evaluate the boundary equation on each panel**. Then we will have a consistent linear system."
   ]
  },
  {
   "cell_type": "markdown",
   "metadata": {},
   "source": [
    "---\n",
    "One last point. Since a vortex panel induces a discontinuous velocity on itself, we have to be careful to get the value **on the body-side** where the no-slip condition is applied. The easiest way to do that is to remember from the first notebook that the self-induced tangential velocity on the negative-side of the panel is:\n",
    "\n",
    "$$ \\vec u_i = \\frac 12 \\gamma_i $$\n",
    "\n",
    "Using this relation, the total tangential velocity at the center of panel $i$ is\n",
    "\n",
    "$$ \\frac 12 \\gamma_i + \\left[ \\vec U_\\infty + \\sum_{j=0, j\\ne i}^N \\gamma_j \\ \\vec f_j(x_i,y_i)\\right]\\cdot\\hat s_i= 0 $$\n",
    "\n",
    "Let's write the summation as an array inner product to separate out the knowns from the unknowns:\n",
    "\n",
    "$$\n",
    "\\begin{bmatrix} \\vec f_0(x_i,y_i)\\cdot\\hat s_i & \\vec f_1(x_i,y_i)\\cdot\\hat s_i & \\cdots & \\frac 12 & \\cdots & \\vec f_{N-1}(x_i,y_i)\\cdot\\hat s_i\\end{bmatrix} \\times \\begin{bmatrix} \\gamma_0 \\\\ \\gamma_1 \\\\ \\vdots \\\\ \\gamma_i \\\\ \\vdots \\\\ \\gamma_{N-1} \\end{bmatrix} + \\vec U_\\infty \\cdot \\hat s_i = 0\n",
    "$$\n",
    "\n",
    "Written like this, we can see two things:\n",
    "\n",
    " - The no-slip condition on panel $i$ depends on the strength at every panel, and\n",
    " - This is just the $i$th row of a matrix of equations\n",
    "\n",
    "\\begin{equation}\n",
    "\\begin{bmatrix} \n",
    "\\frac 12  & \\vec f_1(x_0,y_0)\\cdot\\hat s_0 & \\cdots & \\vec f_{N-1}(x_0,y_0)\\cdot\\hat s_0\\\\[0.5em]\n",
    "\\vec f_0(x_1,y_1)\\cdot\\hat s_1 & \\frac 12 & \\cdots & \\vec f_{N-1}(x_1,y_1)\\cdot\\hat s_1 \\\\[0.5em]\n",
    "\\vdots & \\vdots & \\ddots & \\vdots \\\\[0.5em] \n",
    "\\vec f_0(x_{N-1},y_{N-1})\\cdot\\hat s_{N-1} & \\vec f_1(x_{N-1},y_{N-1})\\cdot\\hat s_{N-1} & \\cdots & \\frac 12\n",
    "\\end{bmatrix} \n",
    "\\times \\begin{bmatrix} \\gamma_0 \\\\[0.9em] \\gamma_1 \\\\[0.9em] \\vdots \\\\[0.9em] \\gamma_{N-1} \\end{bmatrix} \n",
    "= -\\begin{bmatrix} \\vec U_\\infty\\cdot\\hat s_0 \\\\[0.7em] \\vec U_\\infty\\cdot\\hat s_1 \\\\[0.7em] \\vdots \\\\[0.7em] \\vec U_\\infty\\cdot\\hat s_{N-1} \\end{bmatrix}\n",
    "\\end{equation}\n",
    "\n",
    "This defines the complete linear system. "
   ]
  },
  {
   "cell_type": "markdown",
   "metadata": {},
   "source": [
    "Lets review what we've done. \n",
    "1. We started with the analytic integral differential equation (2) for the continuous vortex sheet strength $\\gamma(s)$.\n",
    "1. We broke that sheet up into a finite number of linear panels each with their own unknown $\\gamma_i$. \n",
    "1. We applied the no-slip condition to each panel and used it to assemble a linear system of equations (4). \n",
    "\n",
    "Therefore, the solution $\\gamma_i$ of (4) is a finite numerical approximation to the continuous analytic solution $\\gamma(s)$. \n",
    "\n",
    "*This same basic procedure is applied whenever numerically approximating partial differential equations such as the Navier-Stokes.*"
   ]
  },
  {
   "cell_type": "markdown",
   "metadata": {},
   "source": [
    "---\n",
    "\n",
    "All well and good having equation (4), but this is a dense linear algebra problem. How in the world will we determine $\\gamma_i$? Actully, this is trivial:\n",
    "```python\n",
    "gamma = numpy.linalg.solve(A, b)\n",
    "```\n",
    "##### Numerical fundamental: Linear Algebra Packages\n",
    "##### Never write your own matrix solver\n",
    "\n",
    "Every worthwhile numerical language has a set of linear algebra solution routines - in numpy it is the [`linalg` package](http://docs.scipy.org/doc/numpy/reference/routines.linalg.html). \n",
    "\n",
    "The function `solve_gamma` will set-up the system of equations and then use the line above to determine gamma. **That is it!** "
   ]
  },
  {
   "cell_type": "code",
   "execution_count": null,
   "metadata": {
    "collapsed": false
   },
   "outputs": [],
   "source": [
    "help(vp.solve_gamma)"
   ]
  },
  {
   "cell_type": "markdown",
   "metadata": {},
   "source": [
    "The function takes in __any__ array of Panels and an angle of attack, and sets the strength on each panel such that the no-slip condition is enforced. Note that there is no output returned by the function. It just modified the input panels.\n",
    "\n",
    "Let's put all three of these functions together and test it out!"
   ]
  },
  {
   "cell_type": "code",
   "execution_count": null,
   "metadata": {
    "collapsed": false
   },
   "outputs": [],
   "source": [
    "# define geometry\n",
    "triangle = vp.make_polygon(N_panels=3,N_sides=3)    \n",
    "vp.solve_gamma(triangle)  # solve for gamma\n",
    "vp.plot_flow(triangle)    # compute flow field and plot"
   ]
  },
  {
   "cell_type": "markdown",
   "metadata": {},
   "source": [
    "Much better! But..."
   ]
  },
  {
   "cell_type": "markdown",
   "metadata": {},
   "source": [
    "##### Quiz 5\n",
    "\n",
    "Why is there still flow through the wedge?\n",
    "\n",
    "1. Modeling error       (ie incorrect conditions)\n",
    "1. Numerical error      (ie insufficient resolution)\n",
    "1. Implementation error (ie inadequate care)\n",
    "\n",
    "(Hint: one of these is immediately testable.)"
   ]
  },
  {
   "cell_type": "markdown",
   "metadata": {},
   "source": [
    "##### Numerical Fundamental: Convergence with resolution\n",
    "##### The more panels you use, the closer you should get to the analytic solution"
   ]
  },
  {
   "cell_type": "markdown",
   "metadata": {},
   "source": [
    "## Other shapes\n",
    "\n",
    "We can now get the flow around **any** shape! Let try a circle:\n",
    "```python\n",
    "def make_circle(N, xcen=0, ycen=0):\n",
    "    # define the end-points of the panels for a unit circle\n",
    "    theta = numpy.linspace(0, -2*numpy.pi, N+1)\n",
    "    x_ends = xcen+numpy.cos(theta)\n",
    "    y_ends = ycen+numpy.sin(theta)\n",
    "    \n",
    "    # define the panels\n",
    "    circle = numpy.empty(N, dtype=object)\n",
    "    for i in range(N):\n",
    "        circle[i] = Panel(x_ends[i], y_ends[i], x_ends[i+1], y_ends[i+1])\n",
    "    \n",
    "    return circle\n",
    "```\n",
    "This code follows the same pattern as for the polygon - defining the end-points and then adding each panel to the array. The only difference is that the `ends` are defined using $\\cos$ and $\\sin$ instead of the `polygon` function."
   ]
  },
  {
   "cell_type": "code",
   "execution_count": null,
   "metadata": {
    "collapsed": false
   },
   "outputs": [],
   "source": [
    "N = 32\n",
    "circle = vp.make_circle(N)  # make the shape\n",
    "vp.solve_gamma(circle)      # solve for gamma\n",
    "vp.plot_flow(circle)        # compute flow field and plot"
   ]
  },
  {
   "cell_type": "markdown",
   "metadata": {},
   "source": [
    "Looks about right!\n",
    "\n",
    "Note that this function takes optional arguments to set the $x,y$ location of the center of the circle. Try them out...\n"
   ]
  },
  {
   "cell_type": "markdown",
   "metadata": {},
   "source": [
    "##### Quiz 6\n",
    "\n",
    "This vortex panel method can be used to solve for the flow around:\n",
    "\n",
    "1. an ellipse\n",
    "1. a pair of tandem bodies\n",
    "1. a rudder"
   ]
  },
  {
   "cell_type": "markdown",
   "metadata": {},
   "source": [
    "---\n",
    "##### Your turn #2\n",
    "\n",
    " - ** Modify ** the `make_ellipse` function below to generate an ellipse instead of a circle when supplied with an aspect ratio `t_c`=$t/c$.\n",
    " - ** Create ** a 2:1 ellipse geometry shifted to be centered at $x=2,y=0$\n",
    " - ** Discuss ** whether the maximum speed around the ellipse is greater or less than that around the circle.\n",
    " - ** Combine ** the triangle and ellipse geometry together into one set of panels using `numpy.concatenate((body_1,body_2))` and solve for the flow.\n",
    " - ** Discuss ** if there is a *wake* between the bodies. Why or why not?\n",
    "\n",
    "---\n",
    "\n",
    " \n",
    "##### Solution #2"
   ]
  },
  {
   "cell_type": "code",
   "execution_count": null,
   "metadata": {
    "collapsed": false
   },
   "outputs": [],
   "source": [
    "def make_ellipse(N, xcen=0, ycen=0, t_c=1):\n",
    "    theta = numpy.linspace(0, -2*numpy.pi, N+1)\n",
    "    # your code here to define the end-points of the panels for an ellipse\n",
    "    x_ends = xcen+numpy.cos(theta)  # adjust?\n",
    "    y_ends = ycen+numpy.sin(theta)  # adjust?\n",
    "    \n",
    "    # define the panels\n",
    "    ellipse = numpy.empty(N, dtype=object)\n",
    "    for i in range(N):\n",
    "        ellipse[i] = Panel(x_ends[i], y_ends[i], x_ends[i+1], y_ends[i+1])\n",
    "    \n",
    "    return ellipse\n",
    "\n",
    "#ellipse = make_ellipse(N,t_c=0.5,xcen=2)   # make the shape\n",
    "#vp.solve_gamma(ellipse)                       # solve for gamma\n",
    "#vp.plot_flow(ellipse,size=4)                  # compute flow field and plot"
   ]
  },
  {
   "cell_type": "code",
   "execution_count": null,
   "metadata": {
    "collapsed": false
   },
   "outputs": [],
   "source": [
    "# pair = ?   your code using numpy.concatenate((body_1,body_2))"
   ]
  }
 ],
 "metadata": {
  "kernelspec": {
   "display_name": "Python 2",
   "language": "python",
   "name": "python2"
  },
  "language_info": {
   "codemirror_mode": {
    "name": "ipython",
    "version": 2
   },
   "file_extension": ".py",
   "mimetype": "text/x-python",
   "name": "python",
   "nbconvert_exporter": "python",
   "pygments_lexer": "ipython2",
   "version": "2.7.10"
  }
 },
 "nbformat": 4,
 "nbformat_minor": 0
}
