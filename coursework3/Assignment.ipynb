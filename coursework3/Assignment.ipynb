{
 "cells": [
  {
   "cell_type": "markdown",
   "metadata": {},
   "source": [
    "# Numerical Hydrodynamics Assignment\n",
    "\n",
    "The numerical assignment has two parts:\n",
    "\n",
    "1. Correctly complete the blackboard assignment for each of the notebook lessons before the start of the next lecture. Each failure to complete on time will reduce your personal assignment mark by 5%.\n",
    "1. Write a short group report on one of the four assignment geometries. Your group name tells you which geometry you will use.\n",
    "\n",
    "---\n",
    "\n",
    "## Report format and submission\n",
    "\n",
    "The report will be submitted in the form of an Jupyter notebook, like this one. This means it will be a [reproducible engineering document](http://www.nature.com/news/interactive-notebooks-sharing-the-code-1.16261); all of your results will be generated and displayed inside the document itself. \n",
    "\n",
    "**Upload the ipynb file to blackboard by 4pm on May 11th 2017.**\n",
    "\n",
    "---\n",
    "\n",
    "## Report Style\n",
    "\n",
    "The report should contain short *Method*, *Results*, and *Discussion* sections. All results must be generated in the notebook and be publication quality; axis labeled, plot legends included, etc.\n",
    "\n",
    "**Please keep the method section focused and to the point**. In particular, do not explain how the functions in `VortexPanel` and `BoundaryLayer` work - explain how *your* code works. How did your specific problem require you to modify the methods introduced in the module.\n",
    "\n",
    "It is difficult to measure the \"number of pages\" in these notebooks, but aim for something like a 3-4 page report with 700-1000 words.\n",
    "\n",
    "---\n",
    "\n",
    "## Report dependancies\n",
    "\n",
    "You should use as many pre-developed functions as possible from the `numpy`, `pyplot`, `scipy`, `VortexPanel` and `BoundaryLayer` libraries. Never rewrite functions that have already been developed (and tested). Here is the top of my solution notebook:"
   ]
  },
  {
   "cell_type": "code",
   "execution_count": null,
   "metadata": {
    "collapsed": true
   },
   "outputs": [],
   "source": [
    "import numpy                    # import numerical library\n",
    "from matplotlib import pyplot   # import plot library\n",
    "import VortexPanel as vp        # import vortex panel module   \n",
    "import BoundaryLayer as bl      # import boundary layer module\n",
    "%matplotlib inline\n",
    "from matplotlib.pylab import rcParams # helps make the...\n",
    "rcParams['axes.labelsize'] = 18       #   axis labels big enough"
   ]
  },
  {
   "cell_type": "markdown",
   "metadata": {},
   "source": [
    "Feel free to look at the code in `VortexPanel.py` or `BoundaryLayer.py` to get ideas on how to write your own functions, but don't make changes inside those files since it would break compatibility with my files.\n",
    "\n",
    "Similarly, don't include references to images or additional python files in your report which I don't have access to. "
   ]
  }
 ],
 "metadata": {
  "kernelspec": {
   "display_name": "Python 2",
   "language": "python",
   "name": "python2"
  },
  "language_info": {
   "codemirror_mode": {
    "name": "ipython",
    "version": 2
   },
   "file_extension": ".py",
   "mimetype": "text/x-python",
   "name": "python",
   "nbconvert_exporter": "python",
   "pygments_lexer": "ipython2",
   "version": "2.7.10"
  }
 },
 "nbformat": 4,
 "nbformat_minor": 0
}
