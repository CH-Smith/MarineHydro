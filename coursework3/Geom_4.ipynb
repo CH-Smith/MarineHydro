{
 "cells": [
  {
   "cell_type": "markdown",
   "metadata": {},
   "source": [
    "## Project 4: Wing mast\n",
    "\n",
    "#### 2D analysis of a truncated wing mast\n",
    "\n",
    "![Truncated foil section](wingmast.png)\n",
    "\n",
    "---\n",
    "\n",
    "##### Geometry\n",
    "\n",
    "The mast will be modelled as a foil section originally of length $c$ with the trailing edge truncated by a length $p$. In the diagram above, the interior is partially open to the flow, but your section should be closed. The new length is $c'=c-p$ and the resulting width at the point of truncation is $w$. You can choose one of the foil sections we looked at in the module or find an alternative in the literature (some level of approximation in that case is fine). The thickness is $t=0.15 c$.\n",
    "\n",
    "##### Parametric study \n",
    "\n",
    "You will study the impact of the cut-off length $p$ versus the original length $c$ at $\\alpha=0,\\pi/16,\\pi/8$. Use as many values as you need to identify the trends in the range $0\\le p/c\\le 0.75$.\n",
    "\n",
    "##### Performance metrics\n",
    "\n",
    "Predict the lift and drag on the mast and the point of separation $x/c$ on the top and bottom surfaces over the parameter range. Try plotting the forces against both $p/c$ and $w/c'$ in additional to any other factors you think might help the analysis. Determine the added mass of the section when moving in $y$ over the parameter range. Use $n=128$ and the second order panels and include an image of the panels and end points.\n",
    "\n",
    "##### Method\n",
    "\n",
    "Explain any modifications that are required to enforce the Kutta condition on this shape. Also explain how you obtained the added mass.\n",
    "\n",
    "##### Discussion\n",
    "\n",
    "Discuss how you could use your results to determine the optimal values of $p$ and $c$ for a given a minimum truncation width $w$ required for the sheet track. Discuss the advantages and limitations of this analysis. "
   ]
  },
  {
   "cell_type": "code",
   "execution_count": null,
   "metadata": {
    "collapsed": true
   },
   "outputs": [],
   "source": []
  }
 ],
 "metadata": {
  "kernelspec": {
   "display_name": "Python 2",
   "language": "python",
   "name": "python2"
  },
  "language_info": {
   "codemirror_mode": {
    "name": "ipython",
    "version": 2
   },
   "file_extension": ".py",
   "mimetype": "text/x-python",
   "name": "python",
   "nbconvert_exporter": "python",
   "pygments_lexer": "ipython2",
   "version": "2.7.10"
  }
 },
 "nbformat": 4,
 "nbformat_minor": 1
}
